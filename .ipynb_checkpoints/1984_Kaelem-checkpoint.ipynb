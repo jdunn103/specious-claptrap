{
 "cells": [
  {
   "cell_type": "markdown",
   "metadata": {},
   "source": [
    "# **1984**"
   ]
  },
  {
   "cell_type": "markdown",
   "metadata": {},
   "source": [
    "# Import Statements"
   ]
  },
  {
   "cell_type": "markdown",
   "metadata": {},
   "source": [
    "import statements maps to:\n",
    "1. convert from one data type to another\n",
    "1. construct data structures\n",
    "1. perform indexing and slicing operations ([ : ])\n",
    "1. assignment (=)"
   ]
  },
  {
   "cell_type": "code",
   "execution_count": 2,
   "metadata": {},
   "outputs": [],
   "source": [
    "import requests\n",
    "import re\n",
    "from copy import copy\n",
    "content = requests.get('http://gutenberg.net.au/ebooks01/0100021.txt')\n",
    "scrabble_content = requests.get('http://www.gtoal.com/wordgames/yawl/word.list')\n",
    "pos = content.text.find('PART ONE')\n",
    "# chapter2_pos = content.text.find('CHAPTER 7')\n",
    "# print(pos)\n",
    "text = content.text[pos:]\n",
    "scrabble_text = content.text\n",
    "import random"
   ]
  },
  {
   "cell_type": "code",
   "execution_count": 3,
   "metadata": {},
   "outputs": [],
   "source": [
    "# import requests\n",
    "# from copy import copy\n",
    "# content = requests.get('http://www.gtoal.com/wordgames/yawl/word.list')\n",
    "\n",
    "# def find_words(words, letters):\n",
    "#     found_words = []\n",
    "#     short_words = input('Would you like to have the two and three letter words? Y/N: ')\n",
    "#     for word in words:\n",
    "#         letters1 = copy(letters)\n",
    "#         status = ''\n",
    "#         if len(word) > len(letters):\n",
    "#             continue\n",
    "#         if len(word) <= 3 and short_words.lower() == 'n':\n",
    "#             continue\n",
    "        \n",
    "#         for letter in word:\n",
    "#             if letter not in letters1:\n",
    "#                 break\n",
    "#             else:\n",
    "#                 status += letter\n",
    "#                 letters1.remove(letter)\n",
    "#             if status == word:\n",
    "#                 found_words.append(word)\n",
    "        \n",
    "#     return found_words\n",
    "        \n",
    "# def main():\n",
    "#     letters = list( input('What are your letters? ').lower() )\n",
    "#     words = content.text.splitlines()\n",
    "#     found_words = find_words(words, letters)\n",
    "#     found_words.sort(key = len, reverse = True)\n",
    "#     for i, word in enumerate(found_words, 1):\n",
    "#         print(i, word, sep='. ')\n",
    "\n",
    "# main()"
   ]
  },
  {
   "cell_type": "markdown",
   "metadata": {},
   "source": [
    "# Green Glass Door"
   ]
  },
  {
   "cell_type": "markdown",
   "metadata": {},
   "source": [
    "green_glass_door() maps to:\n",
    "1. bool\n",
    "1. perform indexing and slicing operations ([ ] and [ : ])\n",
    "1. if statement\n",
    "1. for loop/statement\n",
    "1. nested conditional expressions???\n",
    "1. def statement\n",
    "1. return statement\n",
    "1. parameters and arguments"
   ]
  },
  {
   "cell_type": "code",
   "execution_count": 4,
   "metadata": {},
   "outputs": [],
   "source": [
    "def green_glass_door(word):\n",
    "    for i, letter in enumerate(word[1:]):\n",
    "        if letter.lower() == word[i].lower():\n",
    "            return True\n",
    "    return False\n",
    "\n",
    "# def green_glass_door_2(word):\n",
    "#     last_letter = ''\n",
    "#     for letter in word:\n",
    "#         if letter == last_letter:\n",
    "#             return True\n",
    "# #         print(letter, last_letter)\n",
    "#         last_letter = letter\n",
    "#     return False"
   ]
  },
  {
   "cell_type": "markdown",
   "metadata": {},
   "source": [
    "# Sum of Chapters"
   ]
  },
  {
   "cell_type": "markdown",
   "metadata": {},
   "source": [
    "sum_of_chapters() maps to:\n",
    "1. int\n",
    "1. convert from one data type to another\n",
    "1. perform indexing and slicing operations ([ ] and [ : ])\n",
    "1. assignment (=)\n",
    "1. logical (and)\n",
    "1. arithmetic (+)\n",
    "1. if statement\n",
    "1. nested conditional expressions\n",
    "1. for loop/statement\n",
    "1. def statement\n",
    "1. return statement"
   ]
  },
  {
   "cell_type": "code",
   "execution_count": 5,
   "metadata": {},
   "outputs": [],
   "source": [
    "def sum_of_chapters(lines):\n",
    "    chapter_nums = 0\n",
    "    for line in lines:\n",
    "        if line[:7] == 'Chapter' and line[8:].isdigit():\n",
    "            new_line = line.split(' ')\n",
    "            chapter_nums += int(new_line[1])\n",
    "#     print('The sum of the chapter numbers is ', chapter_nums, '.', sep='')\n",
    "    return chapter_nums"
   ]
  },
  {
   "cell_type": "markdown",
   "metadata": {},
   "source": [
    "# Number of Chapters"
   ]
  },
  {
   "cell_type": "markdown",
   "metadata": {},
   "source": [
    "num_of_chapters() maps to:\n",
    "1. int\n",
    "1. convert from one data type to another\n",
    "1. perform indexing and slicing operations ([ ] and [ : ])\n",
    "1. assignment (=)\n",
    "1. logical (and)\n",
    "1. arithmetic (+)\n",
    "1. if statement\n",
    "1. nested conditional expressions\n",
    "1. for loop/statement\n",
    "1. def statement\n",
    "1. return statement"
   ]
  },
  {
   "cell_type": "code",
   "execution_count": 6,
   "metadata": {},
   "outputs": [],
   "source": [
    "def num_of_chapters(lines):\n",
    "    number_of_chapters = 0\n",
    "    for line in lines:\n",
    "        if line[:7] == 'Chapter' and line[8:].isdigit():\n",
    "            number_of_chapters += 1\n",
    "    return number_of_chapters"
   ]
  },
  {
   "cell_type": "markdown",
   "metadata": {},
   "source": [
    "# Word Finder"
   ]
  },
  {
   "cell_type": "markdown",
   "metadata": {},
   "source": [
    "word_finder() maps to:\n",
    "1. int\n",
    "1. assignment (=)\n",
    "1. arithmetic (+)\n",
    "1. if statement\n",
    "1. nested conditional expressions\n",
    "1. for loop/statement\n",
    "1. def statement\n",
    "1. return statement\n",
    "1. parameters and arguments"
   ]
  },
  {
   "cell_type": "code",
   "execution_count": 7,
   "metadata": {},
   "outputs": [],
   "source": [
    "def word_finder(search_word, words):\n",
    "    num_of_word = 0\n",
    "    for word in words:\n",
    "        if search_word.upper() == word.upper():\n",
    "            num_of_word += 1\n",
    "        \n",
    "    return num_of_word"
   ]
  },
  {
   "cell_type": "markdown",
   "metadata": {},
   "source": [
    "# No Vowels"
   ]
  },
  {
   "cell_type": "code",
   "execution_count": 8,
   "metadata": {},
   "outputs": [],
   "source": [
    "# def no_vowels(lines, start_chap, end_chap, vowels = 'aeiou'):\n",
    "#     words_no_characters = []\n",
    "#     variable = False\n",
    "#     for line in lines:\n",
    "#         if (f'Chapter {start_chap}') in line:\n",
    "#             print('I did it!')\n",
    "            \n",
    "#         elif (f'Chapter {end_chap}') in line:\n",
    "#             print('Yay!! We found them both!!!')\n",
    "#             variable = True\n",
    "#             break\n",
    "            \n",
    "#     if variable:\n",
    "#         for word in line.split():\n",
    "#             words_no_characters.append(re.sub(f'({vowels})', '', word, flags = re.IGNORECASE))\n",
    "#     else:\n",
    "#         pass\n",
    "    \n",
    "#     print(words_no_characters)\n",
    "#     return words_no_characters\n",
    "    \n",
    "def no_vowels():    \n",
    "    vowels = ['a', 'e', 'i', 'o', 'u']\n",
    "    words_no_vowels = []\n",
    "    for word in words:\n",
    "        word.lower()\n",
    "        no_vowel = ''\n",
    "        for letter in word:\n",
    "            if letter not in vowels:\n",
    "                no_vowel += letter\n",
    "            elif letter in vowels:\n",
    "                pass\n",
    "        words_no_vowels.append(no_vowel)\n",
    "        \n",
    "    return words_no_vowels"
   ]
  },
  {
   "cell_type": "code",
   "execution_count": 9,
   "metadata": {},
   "outputs": [],
   "source": [
    "# def anagram_finder(my_word, sep_letters, words):\n",
    "#     anagrams = []\n",
    "#     for word in words:\n",
    "#         sep_letters_copy = sep_letters\n",
    "#         word_letters = ''\n",
    "#         word = word.lower()\n",
    "#         if word == my_word:\n",
    "#             continue\n",
    "#         elif len(word) != len(my_word):\n",
    "#             continue\n",
    "            \n",
    "#         for letter in word:\n",
    "#             if letter in sep_letters_copy:\n",
    "#                 word_letters += letter\n",
    "#                 sep_letters_copy.remove(letter)\n",
    "#                 if len(word_letters) == len(my_word):\n",
    "#                     print(word, 'has my letters! :-)')\n",
    "#                     anagrams.append(word_letters)\n",
    "#             else:\n",
    "#                 break\n",
    "            \n",
    "# #     print('Here are the anagrams:', anagrams)\n",
    "#     return anagrams"
   ]
  },
  {
   "cell_type": "code",
   "execution_count": 18,
   "metadata": {},
   "outputs": [],
   "source": [
    "def anagrams(text, scrabble_words):\n",
    "    lines_to_choose_from = []\n",
    "    sentences = re.split(\"[?!.]+\", text)\n",
    "    for sentence in sentences:\n",
    "        full_sentence = sentence # + '.'\n",
    "        lines_to_choose_from.append(full_sentence)\n",
    "    chosen_sentence = random.choice(lines_to_choose_from)\n",
    "    sentence_words = chosen_sentence.split()\n",
    "\n",
    "    for i in range(len(sentence_words)):\n",
    "        found_anagrams = []\n",
    "        chosen_word = random.choice(sentence_words)\n",
    "        chosen_word = chosen_word.lower()\n",
    "        chosen_word_letters = []\n",
    "        for letter in chosen_word:\n",
    "            chosen_word_letters.append(letter)\n",
    "        sentence_words.remove(chosen_word)\n",
    "#         print(chosen_word, sentence_words)\n",
    "#         print(chosen_word_letters)\n",
    "\n",
    "        for word in scrabble_words:\n",
    "            word = word.lower()\n",
    "            chosen_word_letters2 = copy(chosen_word_letters)\n",
    "            status = ''\n",
    "            if len(word) != len(chosen_word_letters):\n",
    "                continue \n",
    "\n",
    "            for letter in word:\n",
    "                if letter not in chosen_word_letters2:\n",
    "                    break\n",
    "\n",
    "                else:\n",
    "                    status += letter\n",
    "                    chosen_word_letters2.remove(letter)\n",
    "\n",
    "                if status == word:\n",
    "                    found_anagrams.append(word)\n",
    "                \n",
    "        if chosen_word in found_anagrams:\n",
    "            found_anagrams.remove(chosen_word)\n",
    "            if len(found_anagrams) == 0:\n",
    "                continue\n",
    "        \n",
    "        else:\n",
    "            break\n",
    "    \n",
    "    \n",
    "    print('Here\\'s the full sentence:', chosen_sentence)\n",
    "    print('Here\\'s the randomly selected word:', chosen_word)\n",
    "    print('Here are its anagrams:', found_anagrams)\n",
    "\n",
    "    return chosen_sentence, chosen_word, found_anagrams"
   ]
  },
  {
   "cell_type": "markdown",
   "metadata": {},
   "source": [
    "# main() Function"
   ]
  },
  {
   "cell_type": "markdown",
   "metadata": {},
   "source": [
    "main() maps to:\n",
    "1. list\n",
    "1. (perform indexing and slicing operations ([:]))\n",
    "1. assignment (=)\n",
    "1. containment (in)\n",
    "1. for loop/statement\n",
    "1. Properly format and document code using the following:\n",
    "    1. indentation ??\n",
    "    1. white space\n",
    "1. def statement\n",
    "1. return statement\n",
    "1. nested conditional expressions\n",
    "1. if... else...."
   ]
  },
  {
   "cell_type": "code",
   "execution_count": 17,
   "metadata": {},
   "outputs": [
    {
     "name": "stdout",
     "output_type": "stream",
     "text": [
      "Here's the full sentence:  They begged to be shot quickly, so that they could die\n",
      "while their minds were still clean\n",
      "Here's the randomly selected word: that\n",
      "Here are its anagrams: ['tath', 'that']\n",
      "(' They begged to be shot quickly, so that they could die\\r\\nwhile their minds were still clean', 'that', ['tath', 'that'])\n"
     ]
    },
    {
     "ename": "NameError",
     "evalue": "name 'compare_lists' is not defined",
     "output_type": "error",
     "traceback": [
      "\u001b[1;31m---------------------------------------------------------------------------\u001b[0m",
      "\u001b[1;31mNameError\u001b[0m                                 Traceback (most recent call last)",
      "\u001b[1;32m<ipython-input-17-7c4d3a2d1210>\u001b[0m in \u001b[0;36m<module>\u001b[1;34m()\u001b[0m\n\u001b[0;32m     40\u001b[0m     \u001b[0mprint\u001b[0m\u001b[1;33m(\u001b[0m\u001b[0mvariable\u001b[0m\u001b[1;33m)\u001b[0m\u001b[1;33m\u001b[0m\u001b[0m\n\u001b[0;32m     41\u001b[0m \u001b[1;33m\u001b[0m\u001b[0m\n\u001b[1;32m---> 42\u001b[1;33m \u001b[0mmain\u001b[0m\u001b[1;33m(\u001b[0m\u001b[1;33m)\u001b[0m\u001b[1;33m\u001b[0m\u001b[0m\n\u001b[0m",
      "\u001b[1;32m<ipython-input-17-7c4d3a2d1210>\u001b[0m in \u001b[0;36mmain\u001b[1;34m()\u001b[0m\n\u001b[0;32m     37\u001b[0m     \u001b[0mprint\u001b[0m\u001b[1;33m(\u001b[0m\u001b[0mfind_a_variable_name\u001b[0m\u001b[1;33m)\u001b[0m\u001b[1;33m\u001b[0m\u001b[0m\n\u001b[0;32m     38\u001b[0m \u001b[1;33m\u001b[0m\u001b[0m\n\u001b[1;32m---> 39\u001b[1;33m     \u001b[0mvariable\u001b[0m \u001b[1;33m=\u001b[0m \u001b[0mcompare_lists\u001b[0m\u001b[1;33m(\u001b[0m\u001b[1;33m)\u001b[0m\u001b[1;33m\u001b[0m\u001b[0m\n\u001b[0m\u001b[0;32m     40\u001b[0m     \u001b[0mprint\u001b[0m\u001b[1;33m(\u001b[0m\u001b[0mvariable\u001b[0m\u001b[1;33m)\u001b[0m\u001b[1;33m\u001b[0m\u001b[0m\n\u001b[0;32m     41\u001b[0m \u001b[1;33m\u001b[0m\u001b[0m\n",
      "\u001b[1;31mNameError\u001b[0m: name 'compare_lists' is not defined"
     ]
    }
   ],
   "source": [
    "def main():\n",
    "    words = re.split(\"[^\\w']+\", text)\n",
    "    scrabble_words = scrabble_content.text.splitlines()\n",
    "    lines = text.splitlines()\n",
    "#     ggd_words = []\n",
    "#     for word in words:\n",
    "#         if green_glass_door(word):\n",
    "#             if word in ggd_words:\n",
    "#                 pass\n",
    "#             else:\n",
    "#                 ggd_words.append(word)\n",
    "                \n",
    "#     print(ggd_words[:100]) #first 100 words\n",
    "#     print('There are', len(ggd_words[:100]), 'words in ggd_words.')\n",
    "    \n",
    "#     sum = sum_of_chapters(lines)\n",
    "#     print('The sum of the chapter numbers is ', sum, '.', sep='')\n",
    "    \n",
    "#     num = num_of_chapters(lines)\n",
    "#     print('There are ', num, ' chapters in 1984.', sep='')\n",
    "#     search_word = input('What word would you like to look for?')\n",
    "    \n",
    "#     results = word_finder(search_word, words)\n",
    "#     print('\\'', search_word, '\\'', ' appears ', results, ' times.', sep='')\n",
    "    \n",
    "#     yeah = no_nowels()\n",
    "#     print(yeah)\n",
    "    \n",
    "#     sep_letters = []\n",
    "#     my_word = input('What is your word?').lower()\n",
    "#     for letter in my_word:\n",
    "#         sep_letters.append(letter)\n",
    "#     variable = anagram_finder(my_word, sep_letters, words)\n",
    "#     print(variable)\n",
    "\n",
    "    find_a_variable_name = anagrams(text, scrabble_words)\n",
    "    print(find_a_variable_name)\n",
    "    \n",
    "    variable = compare_lists()\n",
    "    print(variable)\n",
    "    \n",
    "main()"
   ]
  },
  {
   "cell_type": "code",
   "execution_count": null,
   "metadata": {},
   "outputs": [],
   "source": [
    "def no_vowels(words, lines):\n",
    "    vowels = ['a', 'e', 'i', 'o', 'u']\n",
    "    words_no_vowels = []\n",
    "    for word in words[200:400]:\n",
    "        word = word.lower()\n",
    "        no_vowel = ''\n",
    "        for letter in word:\n",
    "            if letter not in vowels:\n",
    "                no_vowel += letter\n",
    "        words_no_vowels.append(no_vowel)\n",
    "        \n",
    "    return words_no_vowels"
   ]
  },
  {
   "cell_type": "code",
   "execution_count": 18,
   "metadata": {},
   "outputs": [],
   "source": [
    "def get_words():\n",
    "    J_words = []\n",
    "    K_words = []\n",
    "    with open('Justin.txt') as f:\n",
    "        for line in f:\n",
    "            line = line.lower()\n",
    "            J_words.append(line.rstrip())\n",
    "    with open('Kaelem.txt') as of:\n",
    "        for line in of:\n",
    "            line = line.lower()\n",
    "            K_words.append(line.rstrip())\n",
    "            \n",
    "    return J_words, K_words"
   ]
  },
  {
   "cell_type": "code",
   "execution_count": 19,
   "metadata": {},
   "outputs": [],
   "source": [
    "def compare_lists():\n",
    "    what_they_wrote = get_words()\n",
    "    \n",
    "    return what_they_wrote"
   ]
  }
 ],
 "metadata": {
  "kernelspec": {
   "display_name": "Python 3",
   "language": "python",
   "name": "python3"
  },
  "language_info": {
   "codemirror_mode": {
    "name": "ipython",
    "version": 3
   },
   "file_extension": ".py",
   "mimetype": "text/x-python",
   "name": "python",
   "nbconvert_exporter": "python",
   "pygments_lexer": "ipython3",
   "version": "3.7.0"
  }
 },
 "nbformat": 4,
 "nbformat_minor": 2
}
