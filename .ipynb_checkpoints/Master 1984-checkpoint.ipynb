{
 "cells": [
  {
   "cell_type": "markdown",
   "metadata": {},
   "source": [
    "# **1984**"
   ]
  },
  {
   "cell_type": "markdown",
   "metadata": {},
   "source": [
    "### Import "
   ]
  },
  {
   "cell_type": "code",
   "execution_count": 2,
   "metadata": {},
   "outputs": [],
   "source": [
    "import requests\n",
    "import re\n",
    "from copy import copy\n",
    "from collections import Counter"
   ]
  },
  {
   "cell_type": "markdown",
   "metadata": {},
   "source": [
    "### Get Book"
   ]
  },
  {
   "cell_type": "code",
   "execution_count": 3,
   "metadata": {},
   "outputs": [],
   "source": [
    "def get_book(link):\n",
    "    content = requests.get(link)\n",
    "    words = re.split(\"[^\\w']+\",content.text)\n",
    "    lines = content.text.splitlines()\n",
    "    return (content.text, words, lines)"
   ]
  },
  {
   "cell_type": "markdown",
   "metadata": {},
   "source": [
    "### Get Sum of Chapters and Num of Chapters"
   ]
  },
  {
   "cell_type": "code",
   "execution_count": 4,
   "metadata": {},
   "outputs": [],
   "source": [
    "def get_sum_and_num_of_chapters(lines):\n",
    "    chapter_sums = 0\n",
    "    number_of_chapters = 0\n",
    "    for line in lines:\n",
    "        if line[:7] == 'Chapter' and line[8:].isdigit():\n",
    "            chapter_sums += int(line[8:])\n",
    "            number_of_chapters += 1\n",
    "    return (chapter_sums, number_of_chapters)"
   ]
  },
  {
   "cell_type": "markdown",
   "metadata": {},
   "source": [
    "**Maps to sections:**\n",
    "* I.1.A. convert from one data type to another\n",
    "* I.1.C. perform indexing and slicing operations ([ ] and [ : ])"
   ]
  },
  {
   "cell_type": "markdown",
   "metadata": {},
   "source": [
    "### Find Word"
   ]
  },
  {
   "cell_type": "code",
   "execution_count": 5,
   "metadata": {},
   "outputs": [],
   "source": [
    "def find_word(words, search_word):\n",
    "    '''Finds number of words containing search_word in words'''\n",
    "    searched_word = [word for word in words if search_word.lower() in word.lower()]\n",
    "    return len(searched_word)"
   ]
  },
  {
   "cell_type": "markdown",
   "metadata": {},
   "source": [
    "### Green Glass Door"
   ]
  },
  {
   "cell_type": "code",
   "execution_count": 6,
   "metadata": {},
   "outputs": [],
   "source": [
    "def green_glass_door(word):\n",
    "    '''\n",
    "        Returns True if word contains a double letter\n",
    "         - 'yellow' and 'green' return True\n",
    "         - 'blue' and 'red' return False\n",
    "    '''\n",
    "    for i, letter in enumerate(word[1:]):\n",
    "        if letter.lower() == word[i].lower():\n",
    "            return True\n",
    "    return False   \n",
    "\n",
    "def green_glass_door_2(word):\n",
    "    last_letter = ''\n",
    "    for letter in word:\n",
    "        if letter.lower() == last_letter.lower():\n",
    "            return True\n",
    "        last_letter = letter\n",
    "    return False"
   ]
  },
  {
   "cell_type": "code",
   "execution_count": 7,
   "metadata": {},
   "outputs": [],
   "source": [
    "# Green Glass Door Tests\n",
    "should_pass = ['yellow', 'green', 'mommy', 'Llama']\n",
    "should_fail = ['red', 'blue', 'mother', 'Emu']\n",
    "for word in should_pass:\n",
    "    if not green_glass_door(word):\n",
    "        print(word, 'failed. Should have passed. green_glass_door')\n",
    "    if not green_glass_door_2(word):\n",
    "        print(word, 'failed. Should have passed.green_glass_door_2')\n",
    "\n",
    "for word in should_fail:\n",
    "    if green_glass_door(word):\n",
    "        print(word, 'passed. Should have failed. green_glass_door')\n",
    "    if green_glass_door_2(word):\n",
    "        print(word, 'failed. Should have failed. green_glass_door_2')"
   ]
  },
  {
   "cell_type": "markdown",
   "metadata": {},
   "source": [
    "### Get Chapter Without Character"
   ]
  },
  {
   "cell_type": "code",
   "execution_count": 8,
   "metadata": {},
   "outputs": [],
   "source": [
    "def get_chapter_without_char(lines, start_chapter, stop_chapter, char='aeiou'):\n",
    "    true_or_false = False    \n",
    "    text_without_char = []\n",
    "    for line in lines: \n",
    "        if (f'Chapter {start_chapter}') in line:\n",
    "            true_or_false = True\n",
    "        elif (f'Chapter {stop_chapter}') in line:\n",
    "            true_or_false = False\n",
    "            break\n",
    "        if not true_or_false:\n",
    "            continue\n",
    "        while true_or_false:\n",
    "            if char == ' ':\n",
    "                text_without_char.append(re.sub(f'[{char}]', '', line))\n",
    "            else:\n",
    "                for word in line.split():\n",
    "                    text_without_char.append(re.sub(f'[{char}]', '', word, flags=re.IGNORECASE))\n",
    "            break\n",
    "\n",
    "    if char == ' ':\n",
    "        return (text_without_char, '')\n",
    "    else:\n",
    "        return (text_without_char, ' ')"
   ]
  },
  {
   "cell_type": "markdown",
   "metadata": {},
   "source": [
    "### Main"
   ]
  },
  {
   "cell_type": "code",
   "execution_count": 9,
   "metadata": {},
   "outputs": [
    {
     "name": "stdout",
     "output_type": "stream",
     "text": [
      "339 Chapter7'Ifthereishope,'wroteWinston,'itliesintheproles.'Iftherewashope,itMUSTlieintheproles,becauseonlythereinthoseswarmingdisregardedmasses,85percentofthepopulationofOceania,couldtheforcetodestroythePartyeverbegenerated.ThePartycouldnotbeoverthrownfromwithin.Itsenemies,ifithadanyenemies,hadnowayofcomingtogetherorevenofidentifyingoneanother.EvenifthelegendaryBrotherhoodexisted,asjustpossiblyitmight,itwasinconceivablethatitsmemberscouldeverassembleinlargernumbersthantwosandthrees.Rebellionmeantalookintheeyes,aninflexionofthevoice,atthemost,anoccasionalwhisperedword.Buttheproles,ifonlytheycouldsomehowbecomeconsciousoftheirownstrength.wouldhavenoneedtoconspire.Theyneededonlytoriseupandshakethemselveslikeahorseshakingoffflies.IftheychosetheycouldblowthePartytopiecestomorrowmorning.Surelysoonerorlateritmustoccurtothemtodoit?Andyet----!Herememberedhowoncehehadbeenwalkingdownacrowdedstreetwhenatremendousshoutofhundredsofvoiceswomen'svoices--hadburstfromaside-streetalittlewayahead.Itwasagreatformidablecryofangeranddespair,adeep,loud'Oh-o-o-o-oh!'thatwenthummingonlikethereverberationofabell.Hishearthadleapt.It'sstarted!hehadthought.Ariot!Theprolesarebreakinglooseatlast!Whenhehadreachedthespotitwastoseeamoboftwoorthreehundredwomencrowdingroundthestallsofastreetmarket,withfacesastragicasthoughtheyhadbeenthedoomedpassengersonasinkingship.Butatthismomentthegeneraldespairbrokedownintoamultitudeofindividualquarrels.Itappearedthatoneofthestallshadbeensellingtinsaucepans.Theywerewretched,flimsythings,butcooking-potsofanykindwerealwaysdifficulttoget.Nowthesupplyhadunexpectedlygivenout.Thesuccessfulwomen,bumpedandjostledbytherest,weretryingtomakeoffwiththeirsaucepanswhiledozensofothersclamouredroundthestall,accusingthestall-keeperoffavouritismandofhavingmoresaucepanssomewhereinreserve.Therewasafreshoutburstofyells.Twobloatedwomen,oneofthemwithherhaircomingdown,hadgotholdofthesamesaucepanandweretryingtotearitoutofoneanother'shands.Foramomenttheywerebothtugging,andthenthehandlecameoff.Winstonwatchedthemdisgustedly.Andyet,justforamoment,whatalmostfrighteningpowerhadsoundedinthatcryfromonlyafewhundredthroats!Whywasitthattheycouldnevershoutlikethataboutanythingthatmattered?Hewrote:Untiltheybecomeconscioustheywillneverrebel,anduntilaftertheyhaverebelledtheycannotbecomeconscious.That,hereflected,mightalmosthavebeenatranscriptionfromoneofthePartytextbooks.ThePartyclaimed,ofcourse,tohaveliberatedtheprolesfrombondage.BeforetheRevolutiontheyhadbeenhideouslyoppressedbythecapitalists,theyhadbeenstarvedandflogged,womenhadbeenforcedtoworkinthecoalmines(womenstilldidworkinthecoalmines,asamatteroffact),childrenhadbeensoldintothefactoriesattheageofsix.Butsimultaneously,truetothePrinciplesofdoublethink,thePartytaughtthattheproleswerenaturalinferiorswhomustbekeptinsubjection,likeanimals,bytheapplicationofafewsimplerules.Inrealityverylittlewasknownabouttheproles.Itwasnotnecessarytoknowmuch.Solongastheycontinuedtoworkandbreed,theirotheractivitieswerewithoutimportance.Lefttothemselves,likecattleturnedlooseupontheplainsofArgentina,theyhadrevertedtoastyleoflifethatappearedtobenaturaltothem,asortofancestralpattern.Theywereborn,theygrewupinthegutters,theywenttoworkattwelve,theypassedthroughabriefblossoming-periodofbeautyandsexualdesire,theymarriedattwenty,theyweremiddle-agedatthirty,theydied,forthemostpart,atsixty.Heavyphysicalwork,thecareofhomeandchildren,pettyquarrelswithneighbours,films,football,beer,andaboveall,gambling,filledupthehorizonoftheirminds.Tokeepthemincontrolwasnotdifficult.AfewagentsoftheThoughtPolicemovedalwaysamongthem,spreadingfalserumoursandmarkingdownandeliminatingthefewindividualswhowerejudgedcapableofbecomingdangerous;butnoattemptwasmadetoindoctrinatethemwiththeideologyoftheParty.Itwasnotdesirablethattheprolesshouldhavestrongpoliticalfeelings.Allthatwasrequiredofthemwasaprimitivepatriotismwhichcouldbeappealedtowheneveritwasnecessarytomakethemacceptlongerworking-hoursorshorterrations.Andevenwhentheybecamediscontented,astheysometimesdid,theirdiscontentlednowhere,becausebeingwithoutgeneralideas,theycouldonlyfocusitonpettyspecificgrievances.Thelargerevilsinvariablyescapedtheirnotice.Thegreatmajorityofprolesdidnotevenhavetelescreensintheirhomes.Eventhecivilpoliceinterferedwiththemverylittle.TherewasavastamountofcriminalityinLondon,awholeworld-within-a-worldofthieves,bandits,prostitutes,drug-peddlers,andracketeersofeverydescription;butsinceitallhappenedamongtheprolesthemselves,itwasofnoimportance.Inallquestionsofmoralstheywereallowedtofollowtheirancestralcode.ThesexualpuritanismofthePartywasnotimposeduponthem.Promiscuitywentunpunished,divorcewaspermitted.Forthatmatter,evenreligiousworshipwouldhavebeenpermittediftheproleshadshownanysignofneedingorwantingit.Theywerebeneathsuspicion.AsthePartysloganputit:'Prolesandanimalsarefree.'Winstonreacheddownandcautiouslyscratchedhisvaricoseulcer.Ithadbegunitchingagain.ThethingyouinvariablycamebacktowastheimpossibilityofknowingwhatlifebeforetheRevolutionhadreallybeenlike.Hetookoutofthedraweracopyofachildren'shistorytextbookwhichhehadborrowedfromMrsParsons,andbegancopyingapassageintothediary:Intheolddays(itran),beforethegloriousRevolution,Londonwasnotthebeautifulcitythatweknowtoday.Itwasadark,dirty,miserableplacewherehardlyanybodyhadenoughtoeatandwherehundredsandthousandsofpoorpeoplehadnobootsontheirfeetandnotevenarooftosleepunder.Childrennoolderthanyouhadtoworktwelvehoursadayforcruelmasterswhofloggedthemwithwhipsiftheyworkedtooslowlyandfedthemonnothingbutstalebreadcrustsandwater.Butinamongallthisterriblepovertytherewerejustafewgreatbigbeautifulhousesthatwerelivedinbyrichmenwhohadasmanyasthirtyservantstolookafterthem.Theserichmenwerecalledcapitalists.Theywerefat,uglymenwithwickedfaces,liketheoneinthepictureontheoppositepage.Youcanseethatheisdressedinalongblackcoatwhichwascalledafrockcoat,andaqueer,shinyhatshapedlikeastovepipe,whichwascalledatophat.Thiswastheuniformofthecapitalists,andnooneelsewasallowedtowearit.Thecapitalistsownedeverythingintheworld,andeveryoneelsewastheirslave.Theyownedalltheland,allthehouses,allthefactories,andallthemoney.Ifanyonedisobeyedthemtheycouldthrowthemintoprison,ortheycouldtakehisjobawayandstarvehimtodeath.Whenanyordinarypersonspoketoacapitalisthehadtocringeandbowtohim,andtakeoffhiscapandaddresshimas'Sir'.ThechiefofallthecapitalistswascalledtheKing,and----Butheknewtherestofthecatalogue.Therewouldbementionofthebishopsintheirlawnsleeves,thejudgesintheirerminerobes,thepillory,thestocks,thetreadmill,thecat-o'-ninetails,theLordMayor'sBanquet,andthepracticeofkissingthePope'stoe.TherewasalsosomethingcalledtheJUSPRIMAENOCTIS,whichwouldprobablynotbementionedinatextbookforchildren.Itwasthelawbywhicheverycapitalisthadtherighttosleepwithanywomanworkinginoneofhisfactories.Howcouldyoutellhowmuchofitwaslies?ItMIGHTbetruethattheaveragehumanbeingwasbetteroffnowthanhehadbeenbeforetheRevolution.Theonlyevidencetothecontrarywasthemuteprotestinyourownbones,theinstinctivefeelingthattheconditionsyoulivedinwereintolerableandthatatsomeothertimetheymusthavebeendifferent.Itstruckhimthatthetrulycharacteristicthingaboutmodernlifewasnotitscrueltyandinsecurity,butsimplyitsbareness,itsdinginess,itslistlessness.Life,ifyoulookedaboutyou,borenoresemblancenotonlytotheliesthatstreamedoutofthetelescreens,buteventotheidealsthatthePartywastryingtoachieve.Greatareasofit,evenforaPartymember,wereneutralandnon-political,amatterofsloggingthroughdrearyjobs,fightingforaplaceontheTube,darningaworn-outsock,cadgingasaccharinetablet,savingacigaretteend.TheidealsetupbythePartywassomethinghuge,terrible,andglittering--aworldofsteelandconcrete,ofmonstrousmachinesandterrifyingweapons--anationofwarriorsandfanatics,marchingforwardinperfectunity,allthinkingthesamethoughtsandshoutingthesameslogans,perpetuallyworking,fighting,triumphing,persecuting--threehundredmillionpeopleallwiththesameface.Therealitywasdecaying,dingycitieswhereunderfedpeopleshuffledtoandfroinleakyshoes,inpatched-upnineteenth-centuryhousesthatsmeltalwaysofcabbageandbadlavatories.HeseemedtoseeavisionofLondon,vastandruinous,cityofamilliondustbins,andmixedupwithitwasapictureofMrsParsons,awomanwithlinedfaceandwispyhair,fiddlinghelplesslywithablockedwaste-pipe.Hereacheddownandscratchedhisankleagain.Dayandnightthetelescreensbruisedyourearswithstatisticsprovingthatpeopletodayhadmorefood,moreclothes,betterhouses,betterrecreations--thattheylivedlonger,workedshorterhours,werebigger,healthier,stronger,happier,moreintelligent,bettereducated,thanthepeopleoffiftyyearsago.Notawordofitcouldeverbeprovedordisproved.ThePartyclaimed,forexample,thattoday40percentofadultproleswereliterate:beforetheRevolution,itwassaid,thenumberhadonlybeen15percent.ThePartyclaimedthattheinfantmortalityratewasnowonly160perthousand,whereasbeforetheRevolutionithadbeen300--andsoitwenton.Itwaslikeasingleequationwithtwounknowns.Itmightverywellbethatliterallyeverywordinthehistorybooks,eventhethingsthatoneacceptedwithoutquestion,waspurefantasy.ForallheknewtheremightneverhavebeenanysuchlawastheJUSPRIMAENOCTIS,oranysuchcreatureasacapitalist,oranysuchgarmentasatophat.Everythingfadedintomist.Thepastwaserased,theerasurewasforgotten,theliebecametruth.Justonceinhislifehehadpossessed--AFTERtheevent:thatwaswhatcounted--concrete,unmistakableevidenceofanactoffalsification.Hehadhelditbetweenhisfingersforaslongasthirtyseconds.In1973,itmusthavebeen--atanyrate,itwasataboutthetimewhenheandKatharinehadparted.Butthereallyrelevantdatewassevenoreightyearsearlier.Thestoryreallybeganinthemiddlesixties,theperiodofthegreatpurgesinwhichtheoriginalleadersoftheRevolutionwerewipedoutonceandforall.By1970noneofthemwasleft,exceptBigBrotherhimself.Alltheresthadbythattimebeenexposedastraitorsandcounter-revolutionaries.Goldsteinhadfledandwashidingnooneknewwhere,andoftheothers,afewhadsimplydisappeared,whilethemajorityhadbeenexecutedafterspectacularpublictrialsatwhichtheymadeconfessionoftheircrimes.AmongthelastsurvivorswerethreemennamedJones,Aaronson,andRutherford.Itmusthavebeenin1965thatthesethreehadbeenarrested.Asoftenhappened,theyhadvanishedforayearormore,sothatonedidnotknowwhethertheywerealiveordead,andthenhadsuddenlybeenbroughtforthtoincriminatethemselvesintheusualway.Theyhadconfessedtointelligencewiththeenemy(atthatdate,too,theenemywasEurasia),embezzlementofpublicfunds,themurderofvarioustrustedPartymembers,intriguesagainsttheleadershipofBigBrotherwhichhadstartedlongbeforetheRevolutionhappened,andactsofsabotagecausingthedeathofhundredsofthousandsofpeople.Afterconfessingtothesethingstheyhadbeenpardoned,reinstatedintheParty,andgivenpostswhichwereinfactsinecuresbutwhichsoundedimportant.Allthreehadwrittenlong,abjectarticlesin'TheTimes',analysingthereasonsfortheirdefectionandpromisingtomakeamends.SometimeaftertheirreleaseWinstonhadactuallyseenallthreeofthemintheChestnutTreeCafe.Herememberedthesortofterrifiedfascinationwithwhichhehadwatchedthemoutofthecornerofhiseye.Theyweremenfarolderthanhimself,relicsoftheancientworld,almostthelastgreatfiguresleftoverfromtheheroicdaysoftheParty.Theglamouroftheundergroundstruggleandthecivilwarstillfaintlyclungtothem.Hehadthefeeling,thoughalreadyatthattimefactsanddatesweregrowingblurry,thathehadknowntheirnamesyearsearlierthanhehadknownthatofBigBrother.Butalsotheywereoutlaws,enemies,untouchables,doomedwithabsolutecertaintytoextinctionwithinayearortwo.NoonewhohadoncefallenintothehandsoftheThoughtPoliceeverescapedintheend.Theywerecorpseswaitingtobesentbacktothegrave.Therewasnooneatanyofthetablesnearesttothem.Itwasnotwiseeventobeseenintheneighbourhoodofsuchpeople.Theyweresittinginsilencebeforeglassesoftheginflavouredwithcloveswhichwasthespecialityofthecafe.Ofthethree,itwasRutherfordwhoseappearancehadmostimpressedWinston.Rutherfordhadoncebeenafamouscaricaturist,whosebrutalcartoonshadhelpedtoinflamepopularopinionbeforeandduringtheRevolution.Evennow,atlongintervals,hiscartoonswereappearinginTheTimes.Theyweresimplyanimitationofhisearliermanner,andcuriouslylifelessandunconvincing.Alwaystheywerearehashingoftheancientthemes--slumtenements,starvingchildren,streetbattles,capitalistsintophats--evenonthebarricadesthecapitalistsstillseemedtoclingtotheirtophatsanendless,hopelessefforttogetbackintothepast.Hewasamonstrousman,withamaneofgreasygreyhair,hisfacepouchedandseamed,withthicknegroidlips.Atonetimehemusthavebeenimmenselystrong;nowhisgreatbodywassagging,sloping,bulging,fallingawayineverydirection.Heseemedtobebreakingupbeforeone'seyes,likeamountaincrumbling.Itwasthelonelyhouroffifteen.Winstoncouldnotnowrememberhowhehadcometobeinthecafeatsuchatime.Theplacewasalmostempty.Atinnymusicwastricklingfromthetelescreens.Thethreemensatintheircorneralmostmotionless,neverspeaking.Uncommanded,thewaiterbroughtfreshglassesofgin.Therewasachessboardonthetablebesidethem,withthepiecessetoutbutnogamestarted.Andthen,forperhapshalfaminuteinall,somethinghappenedtothetelescreens.Thetunethattheywereplayingchanged,andthetoneofthemusicchangedtoo.Therecameintoit--butitwassomethinghardtodescribe.Itwasapeculiar,cracked,braying,jeeringnote:inhismindWinstoncalleditayellownote.Andthenavoicefromthetelescreenwassinging:UnderthespreadingchestnuttreeIsoldyouandyousoldme:Thereliethey,andherelieweUnderthespreadingchestnuttree.Thethreemenneverstirred.ButwhenWinstonglancedagainatRutherford'sruinousface,hesawthathiseyeswerefulloftears.Andforthefirsttimehenoticed,withakindofinwardshudder,andyetnotknowingATWHATheshuddered,thatbothAaronsonandRutherfordhadbrokennoses.Alittlelaterallthreewerere-arrested.Itappearedthattheyhadengagedinfreshconspiraciesfromtheverymomentoftheirrelease.Attheirsecondtrialtheyconfessedtoalltheiroldcrimesoveragain,withawholestringofnewones.Theywereexecuted,andtheirfatewasrecordedinthePartyhistories,awarningtoposterity.Aboutfiveyearsafterthis,in1973,Winstonwasunrollingawadofdocumentswhichhadjustfloppedoutofthepneumatictubeontohisdeskwhenhecameonafragmentofpaperwhichhadevidentlybeenslippedinamongtheothersandthenforgotten.Theinstanthehadflatteneditouthesawitssignificance.Itwasahalf-pagetornoutof'TheTimes'ofabouttenyearsearlier--thetophalfofthepage,sothatitincludedthedate--anditcontainedaphotographofthedelegatesatsomePartyfunctioninNewYork.ProminentinthemiddleofthegroupwereJones,Aaronson,andRutherford.Therewasnomistakingthem,inanycasetheirnameswereinthecaptionatthebottom.ThepointwasthatatbothtrialsallthreemenhadconfessedthatonthatdatetheyhadbeenonEurasiansoil.TheyhadflownfromasecretairfieldinCanadatoarendezvoussomewhereinSiberia,andhadconferredwithmembersoftheEurasianGeneralStaff,towhomtheyhadbetrayedimportantmilitarysecrets.ThedatehadstuckinWinston'smemorybecauseitchancedtobemidsummerday;butthewholestorymustbeonrecordincountlessotherplacesaswell.Therewasonlyonepossibleconclusion:theconfessionswerelies.Ofcourse,thiswasnotinitselfadiscovery.EvenatthattimeWinstonhadnotimaginedthatthepeoplewhowerewipedoutinthepurgeshadactuallycommittedthecrimesthattheywereaccusedof.Butthiswasconcreteevidence;itwasafragmentoftheabolishedpast,likeafossilbonewhichturnsupinthewrongstratumanddestroysageologicaltheory.ItwasenoughtoblowthePartytoatoms,ifinsomewayitcouldhavebeenpublishedtotheworldanditssignificancemadeknown.Hehadgonestraightonworking.Assoonashesawwhatthephotographwas,andwhatitmeant,hehadcovereditupwithanothersheetofpaper.Luckily,whenheunrolledit,ithadbeenupside-downfromthepointofviewofthetelescreen.Hetookhisscribblingpadonhiskneeandpushedbackhischairsoastogetasfarawayfromthetelescreenaspossible.Tokeepyourfaceexpressionlesswasnotdifficult,andevenyourbreathingcouldbecontrolled,withaneffort:butyoucouldnotcontrolthebeatingofyourheart,andthetelescreenwasquitedelicateenoughtopickitup.Heletwhathejudgedtobetenminutesgoby,tormentedallthewhilebythefearthatsomeaccident--asuddendraughtblowingacrosshisdesk,forinstance--wouldbetrayhim.Then,withoutuncoveringitagain,hedroppedthephotographintothememoryhole,alongwithsomeotherwastepapers.Withinanotherminute,perhaps,itwouldhavecrumbledintoashes.Thatwasten--elevenyearsago.Today,probably,hewouldhavekeptthatphotograph.Itwascuriousthatthefactofhavinghelditinhisfingersseemedtohimtomakeadifferenceevennow,whenthephotographitself,aswellastheeventitrecorded,wasonlymemory.WastheParty'sholduponthepastlessstrong,hewondered,becauseapieceofevidencewhichexistednolongerHADONCEexisted?Buttoday,supposingthatitcouldbesomehowresurrectedfromitsashes,thephotographmightnotevenbeevidence.Already,atthetimewhenhemadehisdiscovery,OceaniawasnolongeratwarwithEurasia,anditmusthavebeentotheagentsofEastasiathatthethreedeadmenhadbetrayedtheircountry.Sincethentherehadbeenotherchanges--two,three,hecouldnotrememberhowmany.Verylikelytheconfessionshadbeenrewrittenandrewrittenuntiltheoriginalfactsanddatesnolongerhadthesmallestsignificance.Thepastnotonlychanged,butchangedcontinuously.Whatmostafflictedhimwiththesenseofnightmarewasthathehadneverclearlyunderstoodwhythehugeimposturewasundertaken.Theimmediateadvantagesoffalsifyingthepastwereobvious,buttheultimatemotivewasmysterious.Hetookuphispenagainandwrote:IunderstandHOW:IdonotunderstandWHY.Hewondered,ashehadmanytimeswonderedbefore,whetherhehimselfwasalunatic.Perhapsalunaticwassimplyaminorityofone.Atonetimeithadbeenasignofmadnesstobelievethattheearthgoesroundthesun;today,tobelievethatthepastisunalterable.HemightbeALONEinholdingthatbelief,andifalone,thenalunatic.Butthethoughtofbeingalunaticdidnotgreatlytroublehim:thehorrorwasthathemightalsobewrong.Hepickedupthechildren'shistorybookandlookedattheportraitofBigBrotherwhichformeditsfrontispiece.Thehypnoticeyesgazedintohisown.Itwasasthoughsomehugeforcewerepressingdownuponyou--somethingthatpenetratedinsideyourskull,batteringagainstyourbrain,frighteningyououtofyourbeliefs,persuadingyou,almost,todenytheevidenceofyoursenses.IntheendthePartywouldannouncethattwoandtwomadefive,andyouwouldhavetobelieveit.Itwasinevitablethattheyshouldmakethatclaimsoonerorlater:thelogicoftheirpositiondemandedit.Notmerelythevalidityofexperience,buttheveryexistenceofexternalreality,wastacitlydeniedbytheirphilosophy.Theheresyofheresieswascommonsense.Andwhatwasterrifyingwasnotthattheywouldkillyouforthinkingotherwise,butthattheymightberight.For,afterall,howdoweknowthattwoandtwomakefour?Orthattheforceofgravityworks?Orthatthepastisunchangeable?Ifboththepastandtheexternalworldexistonlyinthemind,andiftheminditselfiscontrollablewhatthen?Butno!Hiscourageseemedsuddenlytostiffenofitsownaccord.ThefaceofO'Brien,notcalledupbyanyobviousassociation,hadfloatedintohismind.Heknew,withmorecertaintythanbefore,thatO'Brienwasonhisside.HewaswritingthediaryforO'Brien--TOO'Brien:itwaslikeaninterminableletterwhichnoonewouldeverread,butwhichwasaddressedtoaparticularpersonandtookitscolourfromthatfact.ThePartytoldyoutorejecttheevidenceofyoureyesandears.Itwastheirfinal,mostessentialcommand.Hisheartsankashethoughtoftheenormouspowerarrayedagainsthim,theeasewithwhichanyPartyintellectualwouldoverthrowhimindebate,thesubtleargumentswhichhewouldnotbeabletounderstand,muchlessanswer.Andyethewasintheright!Theywerewrongandhewasright.Theobvious,thesilly,andthetruehadgottobedefended.Truismsaretrue,holdontothat!Thesolidworldexists,itslawsdonotchange.Stonesarehard,wateriswet,objectsunsupportedfalltowardstheearth'scentre.WiththefeelingthathewasspeakingtoO'Brien,andalsothathewassettingforthanimportantaxiom,hewrote:Freedomisthefreedomtosaythattwoplustwomakefour.Ifthatisgranted,allelsefollows.\n",
      "3981 Chptr 7 'f thr s hp,' wrt Wnstn, 't ls n th prls.' f thr ws hp, t MST l n th prls, bcs nly thr n ths swrmng dsrgrdd msss, 85 pr cnt f th ppltn f cn, cld th frc t dstry th Prty vr b gnrtd. Th Prty cld nt b vrthrwn frm wthn. ts nms, f t hd ny nms, hd n wy f cmng tgthr r vn f dntfyng n nthr. vn f th lgndry Brthrhd xstd, s jst pssbly t mght, t ws ncncvbl tht ts mmbrs cld vr ssmbl n lrgr nmbrs thn tws nd thrs. Rblln mnt lk n th ys, n nflxn f th vc, t th mst, n ccsnl whsprd wrd. Bt th prls, f nly thy cld smhw bcm cnscs f thr wn strngth. wld hv n nd t cnspr. Thy ndd nly t rs p nd shk thmslvs lk hrs shkng ff fls. f thy chs thy cld blw th Prty t pcs tmrrw mrnng. Srly snr r ltr t mst ccr t thm t d t? nd yt----! H rmmbrd hw nc h hd bn wlkng dwn crwdd strt whn trmnds sht f hndrds f vcs wmn's vcs--hd brst frm sd-strt lttl wy hd. t ws grt frmdbl cry f ngr nd dspr, dp, ld 'h----h!' tht wnt hmmng n lk th rvrbrtn f bll. Hs hrt hd lpt. t's strtd! h hd thght. rt! Th prls r brkng ls t lst! Whn h hd rchd th spt t ws t s mb f tw r thr hndrd wmn crwdng rnd th stlls f strt mrkt, wth fcs s trgc s thgh thy hd bn th dmd pssngrs n snkng shp. Bt t ths mmnt th gnrl dspr brk dwn nt mlttd f ndvdl qrrls. t pprd tht n f th stlls hd bn sllng tn scpns. Thy wr wrtchd, flmsy thngs, bt ckng-pts f ny knd wr lwys dffclt t gt. Nw th spply hd nxpctdly gvn t. Th sccssfl wmn, bmpd nd jstld by th rst, wr tryng t mk ff wth thr scpns whl dzns f thrs clmrd rnd th stll, ccsng th stll-kpr f fvrtsm nd f hvng mr scpns smwhr n rsrv. Thr ws frsh tbrst f ylls. Tw bltd wmn, n f thm wth hr hr cmng dwn, hd gt hld f th sm scpn nd wr tryng t tr t t f n nthr's hnds. Fr mmnt thy wr bth tggng, nd thn th hndl cm ff. Wnstn wtchd thm dsgstdly. nd yt, jst fr mmnt, wht lmst frghtnng pwr hd sndd n tht cry frm nly fw hndrd thrts! Why ws t tht thy cld nvr sht lk tht bt nythng tht mttrd? H wrt: ntl thy bcm cnscs thy wll nvr rbl, nd ntl ftr thy hv rblld thy cnnt bcm cnscs. Tht, h rflctd, mght lmst hv bn trnscrptn frm n f th Prty txtbks. Th Prty clmd, f crs, t hv lbrtd th prls frm bndg. Bfr th Rvltn thy hd bn hdsly pprssd by th cptlsts, thy hd bn strvd nd flggd, wmn hd bn frcd t wrk n th cl mns (wmn stll dd wrk n th cl mns, s mttr f fct), chldrn hd bn sld nt th fctrs t th g f sx. Bt smltnsly, tr t th Prncpls f dblthnk, th Prty tght tht th prls wr ntrl nfrrs wh mst b kpt n sbjctn, lk nmls, by th pplctn f fw smpl rls. n rlty vry lttl ws knwn bt th prls. t ws nt ncssry t knw mch. S lng s thy cntnd t wrk nd brd, thr thr ctvts wr wtht mprtnc. Lft t thmslvs, lk cttl trnd ls pn th plns f rgntn, thy hd rvrtd t styl f lf tht pprd t b ntrl t thm, srt f ncstrl pttrn. Thy wr brn, thy grw p n th gttrs, thy wnt t wrk t twlv, thy pssd thrgh brf blssmng-prd f bty nd sxl dsr, thy mrrd t twnty, thy wr mddl-gd t thrty, thy dd, fr th mst prt, t sxty. Hvy physcl wrk, th cr f hm nd chldrn, ptty qrrls wth nghbrs, flms, ftbll, br, nd bv ll, gmblng, flld p th hrzn f thr mnds. T kp thm n cntrl ws nt dffclt. fw gnts f th Thght Plc mvd lwys mng thm, sprdng fls rmrs nd mrkng dwn nd lmntng th fw ndvdls wh wr jdgd cpbl f bcmng dngrs; bt n ttmpt ws md t ndctrnt thm wth th dlgy f th Prty. t ws nt dsrbl tht th prls shld hv strng pltcl flngs. ll tht ws rqrd f thm ws prmtv ptrtsm whch cld b ppld t whnvr t ws ncssry t mk thm ccpt lngr wrkng-hrs r shrtr rtns. nd vn whn thy bcm dscntntd, s thy smtms dd, thr dscntnt ld nwhr, bcs bng wtht gnrl ds, thy cld nly fcs t n ptty spcfc grvncs. Th lrgr vls nvrbly scpd thr ntc. Th grt mjrty f prls dd nt vn hv tlscrns n thr hms. vn th cvl plc ntrfrd wth thm vry lttl. Thr ws vst mnt f crmnlty n Lndn, whl wrld-wthn--wrld f thvs, bndts, prsttts, drg-pddlrs, nd rcktrs f vry dscrptn; bt snc t ll hppnd mng th prls thmslvs, t ws f n mprtnc. n ll qstns f mrls thy wr llwd t fllw thr ncstrl cd. Th sxl prtnsm f th Prty ws nt mpsd pn thm. Prmscty wnt npnshd, dvrc ws prmttd. Fr tht mttr, vn rlgs wrshp wld hv bn prmttd f th prls hd shwn ny sgn f ndng r wntng t. Thy wr bnth sspcn. s th Prty slgn pt t: 'Prls nd nmls r fr.' Wnstn rchd dwn nd ctsly scrtchd hs vrcs lcr. t hd bgn tchng gn. Th thng y nvrbly cm bck t ws th mpssblty f knwng wht lf bfr th Rvltn hd rlly bn lk. H tk t f th drwr cpy f chldrn's hstry txtbk whch h hd brrwd frm Mrs Prsns, nd bgn cpyng pssg nt th dry: n th ld dys (t rn), bfr th glrs Rvltn, Lndn ws nt th btfl cty tht w knw tdy. t ws drk, drty, msrbl plc whr hrdly nybdy hd ngh t t nd whr hndrds nd thsnds f pr ppl hd n bts n thr ft nd nt vn rf t slp ndr. Chldrn n ldr thn y hd t wrk twlv hrs dy fr crl mstrs wh flggd thm wth whps f thy wrkd t slwly nd fd thm n nthng bt stl brdcrsts nd wtr. Bt n mng ll ths trrbl pvrty thr wr jst fw grt bg btfl hss tht wr lvd n by rch mn wh hd s mny s thrty srvnts t lk ftr thm. Ths rch mn wr clld cptlsts. Thy wr ft, gly mn wth wckd fcs, lk th n n th pctr n th ppst pg. Y cn s tht h s drssd n lng blck ct whch ws clld frck ct, nd qr, shny ht shpd lk stvpp, whch ws clld tp ht. Ths ws th nfrm f th cptlsts, nd n n ls ws llwd t wr t. Th cptlsts wnd vrythng n th wrld, nd vryn ls ws thr slv. Thy wnd ll th lnd, ll th hss, ll th fctrs, nd ll th mny. f nyn dsbyd thm thy cld thrw thm nt prsn, r thy cld tk hs jb wy nd strv hm t dth. Whn ny rdnry prsn spk t cptlst h hd t crng nd bw t hm, nd tk ff hs cp nd ddrss hm s 'Sr'. Th chf f ll th cptlsts ws clld th Kng, nd---- Bt h knw th rst f th ctlg. Thr wld b mntn f th bshps n thr lwn slvs, th jdgs n thr rmn rbs, th pllry, th stcks, th trdmll, th ct-'-nn tls, th Lrd Myr's Bnqt, nd th prctc f kssng th Pp's t. Thr ws ls smthng clld th JS PRM NCTS, whch wld prbbly nt b mntnd n txtbk fr chldrn. t ws th lw by whch vry cptlst hd th rght t slp wth ny wmn wrkng n n f hs fctrs. Hw cld y tll hw mch f t ws ls? t MGHT b tr tht th vrg hmn bng ws bttr ff nw thn h hd bn bfr th Rvltn. Th nly vdnc t th cntrry ws th mt prtst n yr wn bns, th nstnctv flng tht th cndtns y lvd n wr ntlrbl nd tht t sm thr tm thy mst hv bn dffrnt. t strck hm tht th trly chrctrstc thng bt mdrn lf ws nt ts crlty nd nscrty, bt smply ts brnss, ts dngnss, ts lstlssnss. Lf, f y lkd bt y, br n rsmblnc nt nly t th ls tht strmd t f th tlscrns, bt vn t th dls tht th Prty ws tryng t chv. Grt rs f t, vn fr Prty mmbr, wr ntrl nd nn-pltcl, mttr f slggng thrgh drry jbs, fghtng fr plc n th Tb, drnng wrn-t sck, cdgng scchrn tblt, svng cgrtt nd. Th dl st p by th Prty ws smthng hg, trrbl, nd glttrng-- wrld f stl nd cncrt, f mnstrs mchns nd trrfyng wpns-- ntn f wrrrs nd fntcs, mrchng frwrd n prfct nty, ll thnkng th sm thghts nd shtng th sm slgns, prptlly wrkng, fghtng, trmphng, prsctng--thr hndrd mlln ppl ll wth th sm fc. Th rlty ws dcyng, dngy cts whr ndrfd ppl shffld t nd fr n lky shs, n ptchd-p nntnth-cntry hss tht smlt lwys f cbbg nd bd lvtrs. H smd t s vsn f Lndn, vst nd rns, cty f mlln dstbns, nd mxd p wth t ws pctr f Mrs Prsns, wmn wth lnd fc nd wspy hr, fddlng hlplssly wth blckd wst-pp. H rchd dwn nd scrtchd hs nkl gn. Dy nd nght th tlscrns brsd yr rs wth sttstcs prvng tht ppl tdy hd mr fd, mr clths, bttr hss, bttr rcrtns--tht thy lvd lngr, wrkd shrtr hrs, wr bggr, hlthr, strngr, hppr, mr ntllgnt, bttr dctd, thn th ppl f ffty yrs g. Nt wrd f t cld vr b prvd r dsprvd. Th Prty clmd, fr xmpl, tht tdy 40 pr cnt f dlt prls wr ltrt: bfr th Rvltn, t ws sd, th nmbr hd nly bn 15 pr cnt. Th Prty clmd tht th nfnt mrtlty rt ws nw nly 160 pr thsnd, whrs bfr th Rvltn t hd bn 300--nd s t wnt n. t ws lk sngl qtn wth tw nknwns. t mght vry wll b tht ltrlly vry wrd n th hstry bks, vn th thngs tht n ccptd wtht qstn, ws pr fntsy. Fr ll h knw thr mght nvr hv bn ny sch lw s th JS PRM NCTS, r ny sch crtr s cptlst, r ny sch grmnt s tp ht. vrythng fdd nt mst. Th pst ws rsd, th rsr ws frgttn, th l bcm trth. Jst nc n hs lf h hd pssssd--FTR th vnt: tht ws wht cntd--cncrt, nmstkbl vdnc f n ct f flsfctn. H hd hld t btwn hs fngrs fr s lng s thrty scnds. n 1973, t mst hv bn--t ny rt, t ws t bt th tm whn h nd Kthrn hd prtd. Bt th rlly rlvnt dt ws svn r ght yrs rlr. Th stry rlly bgn n th mddl sxts, th prd f th grt prgs n whch th rgnl ldrs f th Rvltn wr wpd t nc nd fr ll. By 1970 nn f thm ws lft, xcpt Bg Brthr hmslf. ll th rst hd by tht tm bn xpsd s trtrs nd cntr-rvltnrs. Gldstn hd fld nd ws hdng n n knw whr, nd f th thrs, fw hd smply dspprd, whl th mjrty hd bn xctd ftr spctclr pblc trls t whch thy md cnfssn f thr crms. mng th lst srvvrs wr thr mn nmd Jns, rnsn, nd Rthrfrd. t mst hv bn n 1965 tht ths thr hd bn rrstd. s ftn hppnd, thy hd vnshd fr yr r mr, s tht n dd nt knw whthr thy wr lv r dd, nd thn hd sddnly bn brght frth t ncrmnt thmslvs n th sl wy. Thy hd cnfssd t ntllgnc wth th nmy (t tht dt, t, th nmy ws rs), mbzzlmnt f pblc fnds, th mrdr f vrs trstd Prty mmbrs, ntrgs gnst th ldrshp f Bg Brthr whch hd strtd lng bfr th Rvltn hppnd, nd cts f sbtg csng th dth f hndrds f thsnds f ppl. ftr cnfssng t ths thngs thy hd bn prdnd, rnsttd n th Prty, nd gvn psts whch wr n fct sncrs bt whch sndd mprtnt. ll thr hd wrttn lng, bjct rtcls n 'Th Tms', nlysng th rsns fr thr dfctn nd prmsng t mk mnds. Sm tm ftr thr rls Wnstn hd ctlly sn ll thr f thm n th Chstnt Tr Cf. H rmmbrd th srt f trrfd fscntn wth whch h hd wtchd thm t f th crnr f hs y. Thy wr mn fr ldr thn hmslf, rlcs f th ncnt wrld, lmst th lst grt fgrs lft vr frm th hrc dys f th Prty. Th glmr f th ndrgrnd strggl nd th cvl wr stll fntly clng t thm. H hd th flng, thgh lrdy t tht tm fcts nd dts wr grwng blrry, tht h hd knwn thr nms yrs rlr thn h hd knwn tht f Bg Brthr. Bt ls thy wr tlws, nms, ntchbls, dmd wth bslt crtnty t xtnctn wthn yr r tw. N n wh hd nc flln nt th hnds f th Thght Plc vr scpd n th nd. Thy wr crpss wtng t b snt bck t th grv. Thr ws n n t ny f th tbls nrst t thm. t ws nt ws vn t b sn n th nghbrhd f sch ppl. Thy wr sttng n slnc bfr glsss f th gn flvrd wth clvs whch ws th spclty f th cf. f th thr, t ws Rthrfrd whs pprnc hd mst mprssd Wnstn. Rthrfrd hd nc bn fms crctrst, whs brtl crtns hd hlpd t nflm pplr pnn bfr nd drng th Rvltn. vn nw, t lng ntrvls, hs crtns wr pprng n Th Tms. Thy wr smply n mttn f hs rlr mnnr, nd crsly lflss nd ncnvncng. lwys thy wr rhshng f th ncnt thms--slm tnmnts, strvng chldrn, strt bttls, cptlsts n tp hts--vn n th brrcds th cptlsts stll smd t clng t thr tp hts n ndlss, hplss ffrt t gt bck nt th pst. H ws mnstrs mn, wth mn f grsy gry hr, hs fc pchd nd smd, wth thck ngrd lps. t n tm h mst hv bn mmnsly strng; nw hs grt bdy ws sggng, slpng, blgng, fllng wy n vry drctn. H smd t b brkng p bfr n's ys, lk mntn crmblng. t ws th lnly hr f fftn. Wnstn cld nt nw rmmbr hw h hd cm t b n th cf t sch tm. Th plc ws lmst mpty. tnny msc ws trcklng frm th tlscrns. Th thr mn st n thr crnr lmst mtnlss, nvr spkng. ncmmndd, th wtr brght frsh glsss f gn. Thr ws chssbrd n th tbl bsd thm, wth th pcs st t bt n gm strtd. nd thn, fr prhps hlf mnt n ll, smthng hppnd t th tlscrns. Th tn tht thy wr plyng chngd, nd th tn f th msc chngd t. Thr cm nt t--bt t ws smthng hrd t dscrb. t ws pclr, crckd, bryng, jrng nt: n hs mnd Wnstn clld t yllw nt. nd thn vc frm th tlscrn ws sngng: ndr th sprdng chstnt tr sld y nd y sld m: Thr l thy, nd hr l w ndr th sprdng chstnt tr. Th thr mn nvr strrd. Bt whn Wnstn glncd gn t Rthrfrd's rns fc, h sw tht hs ys wr fll f trs. nd fr th frst tm h ntcd, wth knd f nwrd shddr, nd yt nt knwng T WHT h shddrd, tht bth rnsn nd Rthrfrd hd brkn nss. lttl ltr ll thr wr r-rrstd. t pprd tht thy hd nggd n frsh cnsprcs frm th vry mmnt f thr rls. t thr scnd trl thy cnfssd t ll thr ld crms vr gn, wth whl strng f nw ns. Thy wr xctd, nd thr ft ws rcrdd n th Prty hstrs, wrnng t pstrty. bt fv yrs ftr ths, n 1973, Wnstn ws nrllng wd f dcmnts whch hd jst flppd t f th pnmtc tb n t hs dsk whn h cm n frgmnt f ppr whch hd vdntly bn slppd n mng th thrs nd thn frgttn. Th nstnt h hd flttnd t t h sw ts sgnfcnc. t ws hlf-pg trn t f 'Th Tms' f bt tn yrs rlr--th tp hlf f th pg, s tht t ncldd th dt--nd t cntnd phtgrph f th dlgts t sm Prty fnctn n Nw Yrk. Prmnnt n th mddl f th grp wr Jns, rnsn, nd Rthrfrd. Thr ws n mstkng thm, n ny cs thr nms wr n th cptn t th bttm. Th pnt ws tht t bth trls ll thr mn hd cnfssd tht n tht dt thy hd bn n rsn sl. Thy hd flwn frm scrt rfld n Cnd t rndzvs smwhr n Sbr, nd hd cnfrrd wth mmbrs f th rsn Gnrl Stff, t whm thy hd btryd mprtnt mltry scrts. Th dt hd stck n Wnstn's mmry bcs t chncd t b mdsmmr dy; bt th whl stry mst b n rcrd n cntlss thr plcs s wll. Thr ws nly n pssbl cnclsn: th cnfssns wr ls. f crs, ths ws nt n tslf dscvry. vn t tht tm Wnstn hd nt mgnd tht th ppl wh wr wpd t n th prgs hd ctlly cmmttd th crms tht thy wr ccsd f. Bt ths ws cncrt vdnc; t ws frgmnt f th blshd pst, lk fssl bn whch trns p n th wrng strtm nd dstrys glgcl thry. t ws ngh t blw th Prty t tms, f n sm wy t cld hv bn pblshd t th wrld nd ts sgnfcnc md knwn. H hd gn strght n wrkng. s sn s h sw wht th phtgrph ws, nd wht t mnt, h hd cvrd t p wth nthr sht f ppr. Lckly, whn h nrlld t, t hd bn psd-dwn frm th pnt f vw f th tlscrn. H tk hs scrbblng pd n hs kn nd pshd bck hs chr s s t gt s fr wy frm th tlscrn s pssbl. T kp yr fc xprssnlss ws nt dffclt, nd vn yr brthng cld b cntrlld, wth n ffrt: bt y cld nt cntrl th btng f yr hrt, nd th tlscrn ws qt dlct ngh t pck t p. H lt wht h jdgd t b tn mnts g by, trmntd ll th whl by th fr tht sm ccdnt-- sddn drght blwng crss hs dsk, fr nstnc--wld btry hm. Thn, wtht ncvrng t gn, h drppd th phtgrph nt th mmry hl, lng wth sm thr wst pprs. Wthn nthr mnt, prhps, t wld hv crmbld nt shs. Tht ws tn--lvn yrs g. Tdy, prbbly, h wld hv kpt tht phtgrph. t ws crs tht th fct f hvng hld t n hs fngrs smd t hm t mk dffrnc vn nw, whn th phtgrph tslf, s wll s th vnt t rcrdd, ws nly mmry. Ws th Prty's hld pn th pst lss strng, h wndrd, bcs pc f vdnc whch xstd n lngr HD NC xstd? Bt tdy, sppsng tht t cld b smhw rsrrctd frm ts shs, th phtgrph mght nt vn b vdnc. lrdy, t th tm whn h md hs dscvry, cn ws n lngr t wr wth rs, nd t mst hv bn t th gnts f sts tht th thr dd mn hd btryd thr cntry. Snc thn thr hd bn thr chngs--tw, thr, h cld nt rmmbr hw mny. Vry lkly th cnfssns hd bn rwrttn nd rwrttn ntl th rgnl fcts nd dts n lngr hd th smllst sgnfcnc. Th pst nt nly chngd, bt chngd cntnsly. Wht mst fflctd hm wth th sns f nghtmr ws tht h hd nvr clrly ndrstd why th hg mpstr ws ndrtkn. Th mmdt dvntgs f flsfyng th pst wr bvs, bt th ltmt mtv ws mystrs. H tk p hs pn gn nd wrt: ndrstnd HW: d nt ndrstnd WHY. H wndrd, s h hd mny tms wndrd bfr, whthr h hmslf ws lntc. Prhps lntc ws smply mnrty f n. t n tm t hd bn sgn f mdnss t blv tht th rth gs rnd th sn; tdy, t blv tht th pst s nltrbl. H mght b LN n hldng tht blf, nd f ln, thn lntc. Bt th thght f bng lntc dd nt grtly trbl hm: th hrrr ws tht h mght ls b wrng. H pckd p th chldrn's hstry bk nd lkd t th prtrt f Bg Brthr whch frmd ts frntspc. Th hypntc ys gzd nt hs wn. t ws s thgh sm hg frc wr prssng dwn pn y--smthng tht pntrtd nsd yr skll, bttrng gnst yr brn, frghtnng y t f yr blfs, prsdng y, lmst, t dny th vdnc f yr snss. n th nd th Prty wld nnnc tht tw nd tw md fv, nd y wld hv t blv t. t ws nvtbl tht thy shld mk tht clm snr r ltr: th lgc f thr pstn dmndd t. Nt mrly th vldty f xprnc, bt th vry xstnc f xtrnl rlty, ws tctly dnd by thr phlsphy. Th hrsy f hrss ws cmmn sns. nd wht ws trrfyng ws nt tht thy wld kll y fr thnkng thrws, bt tht thy mght b rght. Fr, ftr ll, hw d w knw tht tw nd tw mk fr? r tht th frc f grvty wrks? r tht th pst s nchngbl? f bth th pst nd th xtrnl wrld xst nly n th mnd, nd f th mnd tslf s cntrllbl wht thn? Bt n! Hs crg smd sddnly t stffn f ts wn ccrd. Th fc f 'Brn, nt clld p by ny bvs ssctn, hd fltd nt hs mnd. H knw, wth mr crtnty thn bfr, tht 'Brn ws n hs sd. H ws wrtng th dry fr 'Brn--T 'Brn: t ws lk n ntrmnbl lttr whch n n wld vr rd, bt whch ws ddrssd t prtclr prsn nd tk ts clr frm tht fct. Th Prty tld y t rjct th vdnc f yr ys nd rs. t ws thr fnl, mst ssntl cmmnd. Hs hrt snk s h thght f th nrms pwr rryd gnst hm, th s wth whch ny Prty ntllctl wld vrthrw hm n dbt, th sbtl rgmnts whch h wld nt b bl t ndrstnd, mch lss nswr. nd yt h ws n th rght! Thy wr wrng nd h ws rght. Th bvs, th slly, nd th tr hd gt t b dfndd. Trsms r tr, hld n t tht! Th sld wrld xsts, ts lws d nt chng. Stns r hrd, wtr s wt, bjcts nspprtd fll twrds th rth's cntr. Wth th flng tht h ws spkng t 'Brn, nd ls tht h ws sttng frth n mprtnt xm, h wrt: Frdm s th frdm t sy tht tw pls tw mk fr. f tht s grntd, ll ls fllws.\n"
     ]
    }
   ],
   "source": [
    "def main():\n",
    "    content, words, lines = get_book('http://gutenberg.net.au/ebooks01/0100021.txt')\n",
    "#     sum_of_chapters, num_of_chapters = get_sum_and_num_of_chapters(lines)\n",
    "#     search_word = input('What word would you like to look for?')\n",
    "#     found_word = find_word(words, search_word)\n",
    "#     print(found_word)\n",
    "#     grn_gls_door = [word.lower() for word in words if green_glass_door(word)]\n",
    "#     c = Counter(grn_gls_door)\n",
    "#     print(c.most_common)\n",
    "    text_without_char, space = get_chapter_without_char(lines, 7, 8, ' ')\n",
    "    print(len(text_without_char), space.join(text_without_char))\n",
    "    \n",
    "    text_without_char, space = get_chapter_without_char(lines, 7, 8)\n",
    "    print(len(text_without_char), space.join(text_without_char))\n",
    "    \n",
    "main() "
   ]
  }
 ],
 "metadata": {
  "kernelspec": {
   "display_name": "Python 3",
   "language": "python",
   "name": "python3"
  },
  "language_info": {
   "codemirror_mode": {
    "name": "ipython",
    "version": 3
   },
   "file_extension": ".py",
   "mimetype": "text/x-python",
   "name": "python",
   "nbconvert_exporter": "python",
   "pygments_lexer": "ipython3",
   "version": "3.7.0"
  }
 },
 "nbformat": 4,
 "nbformat_minor": 2
}
