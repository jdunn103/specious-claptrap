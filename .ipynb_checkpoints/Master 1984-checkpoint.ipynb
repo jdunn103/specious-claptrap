{
 "cells": [
  {
   "cell_type": "markdown",
   "metadata": {},
   "source": [
    "# **1984**"
   ]
  },
  {
   "cell_type": "markdown",
   "metadata": {},
   "source": [
    "### Import "
   ]
  },
  {
   "cell_type": "code",
   "execution_count": 3,
   "metadata": {},
   "outputs": [],
   "source": [
    "import requests\n",
    "from copy import copy\n",
    "import re\n",
    "from collections import Counter"
   ]
  },
  {
   "cell_type": "markdown",
   "metadata": {},
   "source": [
    "### Get Book"
   ]
  },
  {
   "cell_type": "code",
   "execution_count": 2,
   "metadata": {},
   "outputs": [],
   "source": [
    "def get_book(link):\n",
    "    content = requests.get(link)\n",
    "    words = re.split(\"[^\\w']+\",content.text)\n",
    "    lines = content.text.splitlines()\n",
    "    return content.text, words, lines\n",
    "    pos = content.text.find('PART ONE')\n",
    "    text = content.text[pos:]"
   ]
  },
  {
   "cell_type": "markdown",
   "metadata": {},
   "source": [
    "### Get Sum of Chapters"
   ]
  },
  {
   "cell_type": "code",
   "execution_count": 5,
   "metadata": {},
   "outputs": [],
   "source": [
    "def get_sum_of_chapters(lines, words):\n",
    "    chapters = []\n",
    "    num_chapters = find_word(words, 'Chapter')\n",
    "    for line in lines:\n",
    "        for num in range(1,num_chapters+1):\n",
    "            if line == (f'Chapter {num}'):\n",
    "                chapters.append(line)\n",
    "    chapter_nums = [int(chapter.split()[-1]) for chapter in chapters]\n",
    "    return sum(chapter_nums)\n",
    "\n",
    "\n",
    "\n",
    "def sum_of_chapters(lines):\n",
    "    chapter_nums = 0\n",
    "    for line in lines:\n",
    "        if line[:7] == 'Chapter' and line[8:].isdigit():\n",
    "            new_line = line.split(' ')\n",
    "            chapter_nums += int(new_line[1])\n",
    "#     print('The sum of the chapter numbers is ', chapter_nums, '.', sep='')\n",
    "    return chapter_nums\n",
    "\n",
    "\n",
    "\n",
    "def num_of_chapters(lines):\n",
    "    number_of_chapters = 0\n",
    "    for line in lines:\n",
    "        if line[:7] == 'Chapter' and line[8:].isdigit():\n",
    "            number_of_chapters += 1\n",
    "    return number_of_chapters"
   ]
  },
  {
   "cell_type": "markdown",
   "metadata": {},
   "source": [
    "### Find Word"
   ]
  },
  {
   "cell_type": "code",
   "execution_count": 6,
   "metadata": {},
   "outputs": [],
   "source": [
    "def find_word(words, search_word):\n",
    "    searched_word = [word for word in words if search_word.lower() in word.lower()]\n",
    "    return len(searched_word)\n",
    "\n",
    "def word_finder(search_word, words):\n",
    "    num_of_word = 0\n",
    "    for word in words:\n",
    "        if search_word.upper() == word.upper():\n",
    "            num_of_word += 1\n",
    "        \n",
    "    return num_of_word"
   ]
  },
  {
   "cell_type": "markdown",
   "metadata": {},
   "source": [
    "### Green Glass Door"
   ]
  },
  {
   "cell_type": "code",
   "execution_count": 7,
   "metadata": {},
   "outputs": [],
   "source": [
    "def green_glass_door(word):\n",
    "    for i, letter in enumerate(word[1:]):\n",
    "        if letter.lower() == word[i].lower():\n",
    "            return True\n",
    "    return False   \n",
    "\n",
    "\n",
    "\n",
    "\n",
    "def green_glass_door(word):\n",
    "    for i, letter in enumerate(word[1:]):\n",
    "        if letter.lower() == word[i].lower():\n",
    "            return True\n",
    "    return False\n",
    "\n",
    "# def green_glass_door_2(word):\n",
    "#     last_letter = ''\n",
    "#     for letter in word:\n",
    "#         if letter == last_letter:\n",
    "#             return True\n",
    "# #         print(letter, last_letter)\n",
    "#         last_letter = letter\n",
    "#     return False"
   ]
  },
  {
   "cell_type": "markdown",
   "metadata": {},
   "source": [
    "### Get Chapter Without Character"
   ]
  },
  {
   "cell_type": "code",
   "execution_count": 8,
   "metadata": {},
   "outputs": [],
   "source": [
    "def get_chapter_without_char(lines, start_chapter, stop_chapter, char='aeiou'):\n",
    "    true_or_false = False    \n",
    "    text_without_char = []\n",
    "    for line in lines: \n",
    "        if (f'Chapter {start_chapter}') in line:\n",
    "            true_or_false = True\n",
    "        elif (f'Chapter {stop_chapter}') in line:\n",
    "            true_or_false = False\n",
    "            break\n",
    "        if not true_or_false:\n",
    "            continue\n",
    "        while true_or_false:\n",
    "            for word in line.split():\n",
    "                text_without_char.append(re.sub(f'[{char}]', '', word, flags=re.IGNORECASE))\n",
    "            break\n",
    "            \n",
    "    return ' '.join(text_without_char)\n",
    "\n",
    "\n",
    "def no_vowels(lines, start_chap, end_chap, vowels = 'aeiou'):\n",
    "    words_no_characters = []\n",
    "    variable = False\n",
    "    for line in lines:\n",
    "        if (f'Chapter {start_chap}') in line:\n",
    "            print('I did it!')\n",
    "            \n",
    "        elif (f'Chapter {end_chap}') in line:\n",
    "            print('Yay!! We found them both!!!')\n",
    "            variable = True\n",
    "            break\n",
    "            \n",
    "    if variable:\n",
    "        for word in line.split():\n",
    "            words_no_characters.append(re.sub(f'({vowels})', '', word, flags = re.IGNORECASE))\n",
    "    else:\n",
    "        pass\n",
    "    \n",
    "    print(words_no_characters)\n",
    "    return words_no_characters\n",
    "    \n",
    "#     vowels = ['a', 'e', 'i', 'o', 'u']\n",
    "#     words_no_vowels = []\n",
    "#     for word in words:\n",
    "#         word.lower()\n",
    "#         no_vowel = ''\n",
    "#         for letter in word:\n",
    "#             if letter not in vowels:\n",
    "#                 no_vowel += letter\n",
    "#             elif letter in vowels:\n",
    "#                 pass\n",
    "#         words_no_vowels.append(no_vowel)\n",
    "        \n",
    "#     return words_no_vowels"
   ]
  },
  {
   "cell_type": "markdown",
   "metadata": {},
   "source": [
    "### Main"
   ]
  },
  {
   "cell_type": "code",
   "execution_count": 10,
   "metadata": {},
   "outputs": [
    {
     "name": "stdout",
     "output_type": "stream",
     "text": [
      "<bound method Counter.most_common of Counter({'all': 423, 'been': 416, 'will': 180, 'seemed': 173, 'still': 151, 'three': 122, 'little': 114, 'off': 97, 'see': 93, 'telescreen': 92, 'room': 87, 'too': 84, 'looked': 82, 'between': 76, 'possible': 73, 'seen': 70, 'called': 69, 'feeling': 68, 'happened': 67, 'well': 64, 'look': 63, 'suddenly': 62, 'necessary': 60, 'small': 58, 'good': 57, 'took': 56, 'different': 53, 'actually': 52, 'impossible': 50, 'glass': 49, 'across': 49, 'street': 48, 'full': 48, 'better': 48, 'middle': 44, 'door': 43, 'matter': 42, 'less': 42, 'stopped': 41, 'keep': 40, 'tell': 40, 'book': 40, 'appeared': 40, 'shall': 39, 'looking': 38, 'stood': 37, 'floor': 37, 'inner': 37, 'really': 36, 'soon': 36, 'wall': 35, 'passed': 34, 'week': 32, 'sitting': 32, 'opposite': 31, 'written': 31, 'deep': 30, 'needed': 30, 'need': 30, 'occurred': 29, 'forgotten': 29, 'happen': 29, 'feel': 29, 'cell': 29, 'overalls': 28, 'smell': 28, 'effort': 27, 'feet': 27, 'difference': 27, 'difficult': 27, 'immediately': 25, 'fell': 25, 'followed': 25, 'speech': 25, 'freedom': 24, 'boots': 24, 'books': 24, 'sleep': 24, 'added': 24, 'free': 23, 'brotherhood': 23, 'consciousness': 23, 'process': 23, 'expression': 22, 'filled': 22, 'meet': 22, 'coffee': 22, 'bells': 22, 'appearance': 21, 'stuff': 21, 'indeed': 21, 'running': 20, 'call': 20, 'food': 19, 'finally': 19, 'disappeared': 19, \"i'll\": 19, 'knees': 19, 'afternoon': 19, 'happening': 19, 'darkness': 18, 'weeks': 18, 'pulled': 18, 'walls': 17, 'teeth': 17, 'passage': 17, 'streets': 16, 'rubbish': 16, 'impression': 16, 'shoot': 16, 'message': 16, 'following': 16, 'sooner': 16, 'common': 16, 'dropped': 16, 'class': 16, 'till': 16, 'telescreens': 16, 'hidden': 15, 'belly': 15, 'carried': 15, 'killed': 15, 'skull': 15, 'intellectual': 15, 'allowed': 15, 'beginning': 15, 'supposed': 14, 'difficulty': 14, 'manner': 14, 'occasionally': 14, 'terrible': 14, 'falling': 14, 'mass': 14, 'cannot': 14, 'confess': 14, 'crossed': 13, 'cigarette': 13, 'suppose': 13, 'carrying': 13, 'narrow': 13, 'endless': 13, 'seem': 13, 'attention': 13, 'asleep': 13, 'masses': 13, 'fifteen': 13, 'getting': 13, 'fallen': 13, 'millions': 13, 'tree': 13, 'stirred': 13, 'pressed': 13, 'confessed': 13, 'beer': 13, 'effect': 13, 'charrington': 13, 'official': 12, 'canteen': 12, 'bottle': 12, 'possession': 12, 'literally': 12, 'seeing': 12, 'community': 12, 'uttered': 12, 'committed': 12, 'carefully': 12, 'intelligent': 12, 'married': 12, 'yellow': 12, 'folly': 12, 'officer': 12, 'childhood': 11, 'corridor': 11, 'screen': 11, 'attack': 11, 'kill': 11, 'feelings': 11, 'banners': 11, 'helpless': 11, 'swallowed': 11, 'applied': 11, 'settled': 11, 'arrested': 11, 'nevertheless': 11, 'bloody': 11, 'choose': 11, \"charrington's\": 11, 'slipped': 10, 'nineteenth': 10, 'carry': 10, 'generally': 10, 'horror': 10, 'wood': 10, 'needs': 10, 'million': 10, 'struggle': 10, 'passing': 10, 'possibly': 10, 'glasses': 10, 'accord': 10, 'blood': 10, 'attitude': 10, 'happens': 10, 'chinless': 10, 'current': 9, 'follow': 9, 'steel': 9, 'cigarettes': 9, 'smooth': 9, 'guess': 9, 'terror': 9, 'intelligence': 9, 'horrible': 9, 'confessions': 9, 'usually': 9, 'committee': 9, 'yelled': 9, 'stepped': 9, 'utterly': 9, 'confession': 9, 'understood': 9, 'commit': 9, 'possibility': 9, \"'room\": 9, 'nineteen': 8, 'mattered': 8, 'tobacco': 8, 'command': 8, 'suggested': 8, 'dollars': 8, 'helplessness': 8, 'putting': 8, 'smallest': 8, 'expressionless': 8, 'dull': 8, 'succeeded': 8, 'essential': 8, 'sudden': 8, 'attempt': 8, 'dressed': 8, 'flitted': 8, 'bottom': 8, 'green': 8, 'trees': 8, 'messages': 8, 'goods': 8, 'pass': 8, 'saccharine': 8, 'rolled': 8, 'agreed': 8, 'happy': 8, 'aaronson': 8, 'fall': 8, 'alley': 8, 'equally': 8, 'utter': 8, 'progress': 8, 'unless': 7, 'keeping': 7, 'possess': 7, 'pretty': 7, 'deeply': 7, 'press': 7, 'useless': 7, 'arrest': 7, 'battered': 7, 'doorway': 7, 'connected': 7, 'accepted': 7, 'issue': 7, 'agree': 7, 'rewritten': 7, 'knee': 7, 'supply': 7, 'assume': 7, 'smaller': 7, \"'look\": 7, 'rebellion': 7, 'loose': 7, 'confessing': 7, 'sufficiently': 7, 'appear': 7, 'chess': 7, 'cheek': 7, 'deeper': 7, 'happiness': 7, 'cheeks': 7, 'territory': 7, 'needle': 7, 'cabbage': 6, 'wooden': 6, 'account': 6, 'business': 6, 'letters': 6, 'suffering': 6, 'especially': 6, 'terrifying': 6, 'apparent': 6, 'announcement': 6, 'grammes': 6, 'appeal': 6, 'summer': 6, 'fully': 6, 'ragged': 6, 'stirring': 6, 'alliance': 6, 'telling': 6, 'gradually': 6, 'issued': 6, 'recall': 6, 'ill': 6, 'pattern': 6, 'innumerable': 6, 'beetle': 6, 'dragged': 6, 'school': 6, 'address': 6, 'hopeless': 6, 'countless': 6, 'controlled': 6, 'lottery': 6, 'meeting': 6, 'cheekbones': 6, 'surrounded': 6, 'yell': 6, 'according': 6, 'adding': 6, 'doors': 5, 'mirror': 5, 'shutting': 5, 'naturally': 5, 'squeeze': 5, 'fitted': 5, 'sheer': 5, 'bullets': 5, 'totally': 5, 'corridors': 5, 'sheep': 5, 'fill': 5, 'normally': 5, 'referred': 5, 'unnecessary': 5, 'sweet': 5, 'seeming': 5, 'battle': 5, 'fortress': 5, 'systematically': 5, 'processions': 5, 'bullet': 5, 'degrees': 5, 'arrived': 5, 'indoors': 5, 'physically': 5, 'needing': 5, 'pools': 5, 'unconsciousness': 5, 'occasion': 5, 'efficiency': 5, 'unrolled': 5, 'matters': 5, 'classes': 5, 'assembled': 5, 'connexion': 5, 'allow': 5, 'tillotson': 5, 'hurrying': 5, 'permitted': 5, 'troop': 5, 'indifferently': 5, 'cellars': 5, 'cutting': 5, \"they'll\": 5, 'tomorrow': 5, 'nagging': 5, 'poor': 5, 'forbidden': 5, 'appointed': 5, 'affair': 5, 'blackness': 5, 'humming': 5, 'accept': 5, 'possessed': 5, 'terrified': 5, 'battles': 5, 'chessboard': 5, 'follows': 5, 'assumed': 5, 'approached': 5, 'bleeding': 5, 'arrange': 5, 'suffer': 5, 'illusion': 5, 'stepping': 5, 'intermittently': 5, 'grass': 5, 'bluebells': 5, 'smelling': 5, 'resettled': 5, 'speed': 5, 'pressure': 5, 'foreseen': 5, 'flooded': 5, 'addition': 5, 'opposition': 5, 'rolling': 5, 'immortal': 5, 'interrogation': 5, 'bulletin': 5, 'http': 4, 'occurring': 4, 'glittering': 4, 'rooms': 4, 'scattered': 4, 'roof': 4, 'swallowing': 4, 'successful': 4, 'hall': 4, 'spanner': 4, 'mindedness': 4, 'recalled': 4, 'programmes': 4, 'immediate': 4, 'automatically': 4, 'worry': 4, 'arrests': 4, 'successfully': 4, 'annihilated': 4, 'hurried': 4, 'bigger': 4, 'clipped': 4, 'casually': 4, 'fourteen': 4, 'appropriate': 4, 'tall': 4, 'feeble': 4, 'foot': 4, 'swimming': 4, 'splitting': 4, 'struggling': 4, 'admitted': 4, 'painfully': 4, 'fortresses': 4, 'deed': 4, 'admission': 4, 'errors': 4, 'windowless': 4, 'rubbed': 4, 'interrupted': 4, 'processes': 4, 'cross': 4, 'marriage': 4, 'metallic': 4, 'express': 4, 'disappear': 4, 'silly': 4, 'approach': 4, 'announced': 4, 'cooking': 4, 'tinny': 4, 'suggestion': 4, 'suppressed': 4, 'forgetting': 4, 'hurriedly': 4, 'occasional': 4, 'doomed': 4, 'selling': 4, 'yells': 4, 'oppressed': 4, 'flogged': 4, 'cattle': 4, 'flattened': 4, 'pressing': 4, 'sleeping': 4, 'surrender': 4, 'speeches': 4, \"you'll\": 4, 'chopper': 4, 'hallucination': 4, 'arrive': 4, \"'all\": 4, 'shabby': 4, 'communication': 4, 'meetings': 4, 'infallible': 4, 'accepting': 4, 'cheering': 4, 'sorry': 4, 'strapped': 4, 'nodded': 4, 'fatter': 4, 'opportunity': 4, 'innocent': 4, 'syllables': 4, 'weakness': 4, 'irregular': 4, 'iii': 4, 'blissful': 4, 'intelligible': 4, 'russian': 4, 'cells': 4, 'weeping': 4, 'session': 4, 'collective': 4, 'arrow': 4, 'grammatical': 4, 'ebook': 3, 'ebooks': 3, 'gritty': 3, 'roofs': 3, 'willow': 3, 'straggled': 3, 'unintelligible': 3, 'surrounding': 3, 'rubber': 3, 'cheerful': 3, 'illegal': 3, 'meaningless': 3, 'expressing': 3, 'originally': 3, 'restless': 3, 'setting': 3, 'uneasiness': 3, 'approaching': 3, 'emmanuel': 3, 'pillow': 3, 'individually': 3, 'uttering': 3, 'fleeting': 3, 'helplessly': 3, 'filling': 3, 'committees': 3, 'issuing': 3, 'affection': 3, 'recurred': 3, 'rabbit': 3, 'breeze': 3, 'buggers': 3, 'agreement': 3, 'instructress': 3, 'shooting': 3, 'flopped': 3, 'bb': 3, 'fullwise': 3, 'offensive': 3, 'cartoons': 3, 'ideologically': 3, 'oozing': 3, 'unconnected': 3, 'occasions': 3, 'cheese': 3, 'ungood': 3, 'expressed': 3, 'eyeless': 3, 'spoon': 3, 'foresee': 3, 'biggest': 3, 'funny': 3, '100': 3, 'swallow': 3, 'offence': 3, 'appealed': 3, 'occur': 3, 'stalls': 3, 'quarrels': 3, 'stall': 3, 'petty': 3, 'textbook': 3, 'kissing': 3, 'neighbourhood': 3, 'impressed': 3, 'jeering': 3, 'accident': 3, 'supposing': 3, 'controllable': 3, 'eccentricity': 3, 'doorways': 3, 'swollen': 3, 'travelled': 3, 'gutter': 3, 'recollect': 3, 'odds': 3, 'arranged': 3, 'cobblestone': 3, 'success': 3, 'seemingly': 3, 'grovelling': 3, 'transferred': 3, 'suppress': 3, 'attached': 3, 'nipped': 3, 'scrubby': 3, 'kiss': 3, \"'well\": 3, 'corrupt': 3, 'sleepy': 3, 'intermittent': 3, 'goodthinkful': 3, 'cliff': 3, 'planned': 3, 'pegging': 3, 'necessity': 3, 'tool': 3, 'sniffed': 3, 'killing': 3, 'strolling': 3, 'fretted': 3, 'ally': 3, 'gripped': 3, 'uncontrollably': 3, 'territories': 3, 'essentially': 3, 'efficient': 3, 'necessarily': 3, 'scrapped': 3, 'accurate': 3, 'chooses': 3, 'surroundings': 3, 'feebly': 3, 'thoughtfully': 3, 'submission': 3, 'fallacy': 3, 'ugliness': 3, 'stool': 3, \"free'\": 3, 'grammar': 3, 'abbreviations': 3, 'goodthink': 3, '800000': 2, 'orwell': 2, 'dimmed': 2, 'commanding': 2, 'flapped': 2, 'fitfully': 2, 'plugged': 2, 'guesswork': 2, 'rotting': 2, 'sagging': 2, 'rubble': 2, 'appendix': 2, 'terrace': 2, '300': 2, 'lettering': 2, 'corresponding': 2, 'apparatus': 2, 'affairs': 2, 'colourless': 2, 'dipped': 2, 'communicate': 2, 'mediterranean': 2, 'burrow': 2, 'terrific': 2, 'dragging': 2, 'resettling': 2, 'offering': 2, 'snuffbox': 2, 'hisses': 2, 'exaggerated': 2, 'transferring': 2, 'supple': 2, 'throbbing': 2, 'loneliness': 2, 'theyll': 2, 'football': 2, 'litter': 2, 'sniff': 2, 'greenish': 2, 'fellow': 2, 'unwillingly': 2, 'strenuousness': 2, 'fiddling': 2, 'dummy': 2, \"'attention\": 2, 'annihilation': 2, \"thee'\": 2, 'scribbled': 2, 'bathroom': 2, 'saloon': 2, 'bitten': 2, 'molehill': 2, 'nothingness': 2, 'office': 2, '000': 2, 'swelled': 2, 'rapped': 2, 'flagged': 2, 'cancelled': 2, 'heels': 2, 'buttocks': 2, 'carriages': 2, 'nearness': 2, 'doubleplusungood': 2, 'issues': 2, 'error': 2, 'corrections': 2, 'unseen': 2, 'corrected': 2, 'correct': 2, 'collect': 2, 'overfulfilled': 2, 'ineffectual': 2, 'textbooks': 2, 'rubbishy': 2, 'ffcc': 2, 'commonly': 2, 'corruption': 2, 'seventeen': 2, 'grille': 2, 'villages': 2, 'appeals': 2, 'pannikin': 2, 'spoonfuls': 2, 'passion': 2, 'excellent': 2, 'doubleplusgood': 2, 'goodness': 2, 'eagerness': 2, 'vagueness': 2, 'sees': 2, 'puddle': 2, 'opponent': 2, 'add': 2, 'sleeves': 2, 'tennis': 2, 'dampness': 2, 'notebook': 2, 'beggars': 2, 'nipper': 2, \"'good\": 2, 'afford': 2, 'dutifully': 2, 'accurately': 2, 'terribly': 2, 'muttering': 2, 'keen': 2, 'recurring': 2, 'poorer': 2, 'accused': 2, 'approved': 2, 'efforts': 2, 'stiffen': 2, 'embarrassing': 2, 'accusing': 2, 'rebelled': 2, 'peddlers': 2, 'queer': 2, 'shuffled': 2, 'embezzlement': 2, 'blurry': 2, 'barricades': 2, 'shudder': 2, 'staff': 2, 'sheet': 2, 'scribbling': 2, 'afflicted': 2, 'madness': 2, 'announce': 2, 'letter': 2, 'cobbled': 2, 'puddles': 2, 'stiffening': 2, 'commotion': 2, 'grabbed': 2, 'supposedly': 2, 'affected': 2, 'endlessly': 2, \"'tell\": 2, 'faintness': 2, 'calls': 2, 'offer': 2, 'wallop': 2, 'dress': 2, 'accidental': 2, 'wheels': 2, 'dwelling': 2, 'accent': 2, 'softness': 2, 'attractive': 2, 'uselessness': 2, 'mattress': 2, 'apologetically': 2, 'kettle': 2, 'bookcase': 2, 'rosewood': 2, 'pillars': 2, 'disappearances': 2, 'battlefield': 2, 'sleeplessness': 2, 'tooth': 2, 'embedded': 2, 'appealing': 2, 'intentionally': 2, 'possibilities': 2, 'summons': 2, 'intellect': 2, 'stunned': 2, 'welled': 2, 'sufficient': 2, 'reappeared': 2, 'missing': 2, 'grizzled': 2, 'difficulties': 2, 'mood': 2, 'carriage': 2, 'footpath': 2, 'underfoot': 2, 'shook': 2, 'hurry': 2, 'wrapped': 2, \"'actually\": 2, 'banner': 2, 'dripping': 2, 'smells': 2, 'clatter': 2, 'undifferentiated': 2, 'pillowed': 2, 'mindless': 2, 'tenderness': 2, 'cunning': 2, 'planning': 2, 'bootlaces': 2, 'sixteen': 2, 'discuss': 2, 'apparently': 2, 'root': 2, 'letting': 2, \"'opeless\": 2, \"'tomorrow\": 2, 'squatted': 2, 'blackberry': 2, 'acrorss': 2, 'drivelling': 2, 'stripped': 2, 'cheekbone': 2, 'cool': 2, \"'i'll\": 2, 'pulling': 2, 'muzzle': 2, 'friendliness': 2, 'messenger': 2, 'immobile': 2, 'thinness': 2, 'boomed': 2, 'snivelling': 2, 'booming': 2, 'hopefully': 2, 'richness': 2, 'comma': 2, 'stopping': 2, \"'will\": 2, 'disseminate': 2, 'collectively': 2, 'attendants': 2, 'allusion': 2, 'bedroom': 2, 'proceedings': 2, 'schoolchildren': 2, 'ripped': 2, 'tapped': 2, 'eighteen': 2, 'collectivism': 2, 'irrevocable': 2, 'reasserted': 2, 'irreconcilable': 2, 'appreciate': 2, 'russia': 2, 'occurs': 2, 'brazzaville': 2, 'accomplishes': 2, 'effects': 2, 'tapping': 2, 'support': 2, 'followers': 2, 'loss': 2, 'inefficient': 2, 'tiredness': 2, 'attraction': 2, 'propped': 2, 'millimetre': 2, 'assailed': 2, 'tyranny': 2, 'freeze': 2, 'accumulation': 2, 'differences': 2, 'outlook': 2, 'upper': 2, 'programme': 2, 'willingness': 2, 'degree': 2, 'harmless': 2, 'attitudes': 2, 'indifference': 2, 'goodthinker': 2, 'infallibility': 2, 'winning': 2, 'opposites': 2, 'seems': 2, 'scrubbing': 2, 'chattering': 2, 'stooped': 2, \"'thass\": 2, 'accordingly': 2, 'mentally': 2, 'sagged': 2, 'ball': 2, 'frantically': 2, 'wordless': 2, 'boot': 2, 'arriving': 2, 'merciless': 2, 'preferred': 2, 'loosened': 2, 'communists': 2, 'narrowed': 2, 'emptiness': 2, 'occupy': 2, 'acceptance': 2, 'sessions': 2, 'weariness': 2, 'bubble': 2, 'roots': 2, 'struggled': 2, 'batteries': 2, 'addressing': 2, 'shrill': 2, 'unbidden': 2, 'stiffened': 2, 'ladders': 2, 'gabbling': 2, \"'politically\": 2, \"'intellectually\": 2, 'nameless': 2, 'assisted': 2, 'staccato': 2, 'affix': 2, 'syllable': 2, 'bellyfeel': 2, 'goodsex': 2, 'prolefeed': 2, 'abbreviating': 2, 'associations': 2, 'communist': 2, 'ffe4e1': 1, '0100021': 1, '2001': 1, '2008': 1, 'thirteen': 1, 'nuzzled': 1, 'hallway': 1, 'indoor': 1, 'ruggedly': 1, 'dulled': 1, 'smallish': 1, 'meagreness': 1, 'eddies': 1, 'skimmed': 1, 'bluebottle': 1, 'snooping': 1, 'babbling': 1, 'transmitted': 1, 'commanded': 1, 'assumption': 1, 'corrugated': 1, 'dwellings': 1, 'barriers': 1, 'gorilla': 1, \"tomorrow's\": 1, 'shallow': 1, 'bookshelves': 1, 'yellowed': 1, 'slummy': 1, '1944': 1, 'blankness': 1, 'booziness': 1, 'shedding': 1, 'refugees': 1, 'wallowing': 1, 'jewess': 1, 'matchwood': 1, 'applause': 1, 'fuss': 1, 'shapeliness': 1, 'swallowers': 1, 'eighteenth': 1, 'irresistibly': 1, 'fuzzy': 1, 'goatee': 1, 'silliness': 1, 'assembly': 1, 'hysterically': 1, 'polysyllabic': 1, 'proceeded': 1, 'uncontrollable': 1, 'commander': 1, 'maddening': 1, 'swelling': 1, 'assault': 1, 'heel': 1, 'vindictiveness': 1, 'hammer': 1, 'fearless': 1, 'hallucinations': 1, 'arrows': 1, 'sexless': 1, 'aggressive': 1, \"sheep's\": 1, 'eyeballs': 1, 'dissemble': 1, 'scribbles': 1, 'irritation': 1, 'reek': 1, 'apprehensive': 1, 'employee': 1, 'fattish': 1, 'whiffs': 1, 'popped': 1, 'gambolling': 1, 'disappointed': 1, 'jabbed': 1, 'bellowed': 1, 'rubbing': 1, 'drilling': 1, 'yelling': 1, 'eavesdropping': 1, 'wrappings': 1, 'loopholes': 1, 'batter': 1, 'greetings': 1, 'scrubbed': 1, 'subterranean': 1, 'sorrowful': 1, 'sorrows': 1, 'disdainfully': 1, 'carelessness': 1, 'annihilate': 1, 'annually': 1, '600': 1, 'attacked': 1, 'yapped': 1, 'mechanically': 1, 'sharpness': 1, 'assign': 1, 'reeked': 1, 'welling': 1, 'forgiveness': 1, 'granddaughter': 1, 'utterance': 1, 'officially': 1, 'genially': 1, 'refilled': 1, 'truthfulness': 1, 'apply': 1, 'enthusiastically': 1, 'proof': 1, 'gracefully': 1, 'neatness': 1, 'recesses': 1, 'abbreviated': 1, 'dialled': 1, 'seventeenth': 1, 'grossly': 1, 'speakwritten': 1, 'collated': 1, 'reissued': 1, 'accuracy': 1, 'barefoot': 1, 'chinned': 1, 'fitness': 1, 'juggling': 1, 'equipped': 1, 'engineers': 1, 'specially': 1, 'skill': 1, 'spelling': 1, 'novelettes': 1, 'offending': 1, 'supplied': 1, 'dissolved': 1, 'associates': 1, 'offenders': 1, 'incurred': 1, 'personally': 1, 'reappearance': 1, 'commemorating': 1, 'commemorate': 1, 'lessons': 1, 'lesson': 1, 'authentically': 1, 'buttons': 1, 'wool': 1, \"'free'\": 1, 'untruthfully': 1, 'disagreeable': 1, 'milkless': 1, 'handleless': 1, 'topped': 1, 'pool': 1, 'mess': 1, 'sloppiness': 1, 'pannikins': 1, 'gabble': 1, 'plusgood': 1, \"there'll\": 1, 'badness': 1, 'appreciation': 1, 'sympathetically': 1, 'committing': 1, 'doubtfully': 1, 'carelessly': 1, 'remorselessly': 1, 'agreeing': 1, 'patterns': 1, 'sadness': 1, 'aloofness': 1, 'dateness': 1, 'unwritten': 1, \"fool'\": 1, 'tubby': 1, 'rolls': 1, 'greeted': 1, 'cheery': 1, \"'hullo\": 1, 'hullo': 1, \"'keenness\": 1, 'illiterate': 1, 'beggar': 1, 'dressing': 1, 'keenness': 1, 'woods': 1, 'spotted': 1, 'irrepressible': 1, 'offices': 1, 'foodstuffs': 1, 'lugged': 1, 'charred': 1, 'fanatically': 1, 'passionately': 1, 'suggest': 1, 'whizzing': 1, 'dabbling': 1, 'dribbled': 1, 'resentfully': 1, 'spoons': 1, 'insufficient': 1, 'stickiness': 1, 'carefree': 1, 'scuttling': 1, \"'sorry\": 1, 'scuttle': 1, 'nippers': 1, 'wrapping': 1, 'whiteness': 1, 'tallish': 1, 'shutter': 1, 'stuffy': 1, 'villainous': 1, 'alluring': 1, 'sell': 1, 'joyless': 1, 'marriages': 1, 'permission': 1, 'attracted': 1, 'begotten': 1, 'submitting': 1, 'scuffles': 1, 'dinned': 1, 'paraffin': 1, 'scrabbling': 1, 'assemble': 1, 'threes': 1, 'bell': 1, 'passengers': 1, 'keeper': 1, 'tugging': 1, 'application': 1, 'breed': 1, 'gutters': 1, 'blossoming': 1, 'racketeers': 1, 'impossibility': 1, 'borrowed': 1, 'pillory': 1, 'treadmill': 1, 'bareness': 1, 'dinginess': 1, 'listlessness': 1, 'slogging': 1, 'warriors': 1, 'perpetually': 1, 'happier': 1, 'appearing': 1, 'lifeless': 1, 'immensely': 1, 'motionless': 1, 'uncommanded': 1, 'shuddered': 1, 'unrolling': 1, 'conferred': 1, 'midsummer': 1, 'fossil': 1, 'resurrected': 1, 'battering': 1, 'association': 1, 'addressed': 1, 'arrayed': 1, 'unsupported': 1, 'missed': 1, 'attendances': 1, 'communal': 1, 'balminess': 1, 'suggestive': 1, 'cobbles': 1, 'bloom': 1, 'waddling': 1, 'shuffling': 1, 'barefooted': 1, 'wariness': 1, 'rabbits': 1, 'whipped': 1, 'pattered': 1, '200': 1, 'passionate': 1, 'weekly': 1, 'staggering': 1, 'winners': 1, 'intercommunication': 1, 'downhill': 1, 'keepers': 1, 'unnoticed': 1, 'cheesy': 1, 'hook': 1, 'boozer': 1, \"hell's\": 1, \"''ark\": 1, \"'isself\": 1, 'gallon': 1, 'treetops': 1, 'stubbled': 1, 'aggressively': 1, 'horribly': 1, \"''e\": 1, 'bladder': 1, \"''ere's\": 1, 'apple': 1, 'oppression': 1, \"'funny\": 1, 'referring': 1, 'zagging': 1, 'mellowed': 1, \"bladder's\": 1, 'worries': 1, 'sill': 1, 'quarrel': 1, 'balls': 1, 'fussy': 1, 'intellectuality': 1, 'keepsake': 1, 'peered': 1, \"stuff's\": 1, 'brass': 1, 'floorspace': 1, 'miscellaneous': 1, 'snuffboxes': 1, 'brooches': 1, 'appreciatively': 1, \"we'll\": 1, 'steep': 1, 'slatternly': 1, 'occupying': 1, 'illuminate': 1, 'thoroughness': 1, 'impressive': 1, 'copper': 1, 'gallery': 1, 'illustrating': 1, 'supplemented': 1, 'steeple': 1, 'reconnoitring': 1, 'careless': 1, 'backstreet': 1, 'officiousness': 1, 'lassitude': 1, 'brassy': 1, 'squalling': 1, 'freezes': 1, 'swells': 1, 'fills': 1, 'jagged': 1, 'succumbed': 1, 'summon': 1, 'mystically': 1, 'bitter': 1, 'knell': 1, 'redder': 1, \"it'll\": 1, 'fluttering': 1, 'loudness': 1, 'niggling': 1, 'irritating': 1, 'necessitated': 1, 'tasteless': 1, 'foolery': 1, \"'discussion\": 1, \"chess'\": 1, 'fool': 1, 'stuffed': 1, 'communicating': 1, 'inapplicable': 1, 'buzz': 1, 'unattended': 1, 'attentive': 1, 'tripped': 1, 'spooned': 1, \"'eighteen\": 1, \"'nineteen\": 1, 'cromwell': 1, 'spirally': 1, 'accumulated': 1, 'zoom': 1, 'scrimmage': 1, 'butted': 1, 'wriggled': 1, 'squatting': 1, 'jammed': 1, 'paddington': 1, 'moss': 1, 'boos': 1, 'hemmed': 1, 'callouses': 1, 'mournfully': 1, 'dappled': 1, 'attracting': 1, 'passport': 1, 'summery': 1, 'toothless': 1, 'freely': 1, 'butter': 1, 'boggy': 1, 'sweetness': 1, 'greenness': 1, 'sooty': 1, 'hopped': 1, 'grassy': 1, 'knoll': 1, 'calling': 1, 'prettiness': 1, 'bluebell': 1, 'excellence': 1, 'ripping': 1, 'whiff': 1, 'attract': 1, 'spotting': 1, 'coarseness': 1, 'sneeze': 1, 'torrent': 1, 'flood': 1, 'kisses': 1, 'zipper': 1, 'rotten': 1, 'kneeling': 1, 'hotter': 1, 'peacefully': 1, 'knotted': 1, 'arranging': 1, 'kissed': 1, 'attending': 1, 'collections': 1, 'enrolling': 1, 'hammers': 1, 'littered': 1, 'arrowslits': 1, 'parenthetically': 1, 'guessed': 1, 'commodity': 1, 'booklets': 1, \"school'\": 1, 'corrupted': 1, 'rebelling': 1, 'sixteens': 1, 'acuteness': 1, 'bottling': 1, 'parenthood': 1, 'lagged': 1, 'quarry': 1, 'loosestrife': 1, 'fretfully': 1, 'hottest': 1, 'sleepiest': 1, 'wriggle': 1, 'dissent': 1, 'boldness': 1, 'prosaically': 1, 'coverless': 1, 'mirrored': 1, 'offensively': 1, 'peeped': 1, 'pillar': 1, 'tunefully': 1, 'traffic': 1, 'drastically': 1, 'accidentally': 1, 'disappointment': 1, 'readiness': 1, '99': 1, 'spanners': 1, 'slammed': 1, 'diffusing': 1, 'reddened': 1, 'skilfully': 1, 'prettier': 1, 'heeled': 1, 'sheets': 1, 'springiness': 1, 'boyhood': 1, 'crook': 1, 'horrors': 1, 'reassure': 1, 'deepest': 1, 'nostalgically': 1, 'capped': 1, 'thoughtless': 1, 'commented': 1, 'staffs': 1, 'effigies': 1, 'embellishing': 1, 'fuller': 1, 'volunteers': 1, 'flagstaffs': 1, 'hammering': 1, 'jollying': 1, 'effigy': 1, 'looted': 1, 'wireless': 1, 'suffocation': 1, 'coolness': 1, 'pepper': 1, 'rallied': 1, 'massing': 1, 'worthless': 1, 'collector': 1, 'stopper': 1, 'glassy': 1, 'succeed': 1, 'accents': 1, 'spinning': 1, 'impossibly': 1, 'rallies': 1, 'excelled': 1, 'dimmest': 1, 'falsehood': 1, 'schooldays': 1, 'horrify': 1, 'abyss': 1, 'brilliantly': 1, 'witty': 1, 'worried': 1, 'cheer': 1, 'boo': 1, 'differentiated': 1, 'mortally': 1, 'accomplices': 1, 'stroll': 1, 'chilly': 1, 'shuddering': 1, 'sleepily': 1, 'sodden': 1, 'afternoons': 1, 'peelings': 1, 'feed': 1, 'spiritless': 1, 'cooked': 1, 'stillness': 1, 'youthfulness': 1, 'selfishness': 1, 'naggingly': 1, 'beseech': 1, 'greedy': 1, 'dully': 1, 'fleeing': 1, 'robbed': 1, 'homeless': 1, 'disappearance': 1, 'refugee': 1, 'robbing': 1, 'attempting': 1, 'confesses': 1, 'cleverness': 1, 'squeezed': 1, 'doorstep': 1, 'spaciousness': 1, 'passageway': 1, 'unproceed': 1, 'antegetting': 1, 'plusfull': 1, 'soundless': 1, 'grimmer': 1, 'embarrassment': 1, 'borrow': 1, 'irritably': 1, 'beginnings': 1, \"'shall\": 1, 'impassively': 1, 'fitting': 1, 'disappointing': 1, 'soundlessly': 1, 'assent': 1, 'silkiness': 1, 'bulkiness': 1, 'smuggle': 1, \"book'\": 1, 'jelly': 1, 'irrationally': 1, 'caterpillars': 1, 'massed': 1, 'suddenness': 1, 'floodlit': 1, 'massacres': 1, 'lootings': 1, 'aggressions': 1, 'maddened': 1, 'proceeding': 1, 'rippled': 1, 'rooftops': 1, 'fluttered': 1, 'gripping': 1, 'preoccupy': 1, 'recalling': 1, 'mattresses': 1, 'wheeled': 1, 'trolleys': 1, 'spells': 1, 'neurotically': 1, 'accomplish': 1, 'dribble': 1, 'sluttish': 1, 'bliss': 1, 'effectively': 1, 'annihilating': 1, 'bloodthirsty': 1, 'looting': 1, 'industriousness': 1, 'bottomless': 1, 'coolies': 1, 'continually': 1, 'speeded': 1, 'accordance': 1, 'illiteracy': 1, 'possessions': 1, 'sweep': 1, 'industrially': 1, 'shattering': 1, 'necessities': 1, 'psychologically': 1, 'acceptable': 1, 'digging': 1, 'moods': 1, 'opposed': 1, 'minuteness': 1, 'expressions': 1, 'breeds': 1, 'immunized': 1, 'propelled': 1, 'battleship': 1, 'attempts': 1, 'lull': 1, 'geographically': 1, 'assimilate': 1, 'righteousness': 1, 'fundamentally': 1, 'illusions': 1, 'irresponsible': 1, 'interstellar': 1, 'destructiveness': 1, 'freed': 1, 'shallower': 1, 'reassured': 1, 'ridden': 1, 'footstep': 1, 'pull': 1, 'gagging': 1, 'marvellous': 1, 'efficiently': 1, 'exaggeration': 1, 'manners': 1, 'recurrence': 1, 'schools': 1, 'specifically': 1, 'rebellions': 1, '1900': 1, 'unfreedom': 1, 'technically': 1, 'currents': 1, 'progressive': 1, 'professional': 1, 'barren': 1, 'tyrannies': 1, 'surveillance': 1, 'channels': 1, 'forerunners': 1, 'unopposed': 1, 'collectivization': 1, 'inefficiently': 1, 'allows': 1, 'recurrent': 1, 'habitually': 1, 'classification': 1, 'allowing': 1, 'transmitting': 1, \"'class\": 1, 'essence': 1, 'successors': 1, 'breeding': 1, 'commercial': 1, 'indifferent': 1, 'mutters': 1, 'mannerism': 1, 'formally': 1, 'unwilling': 1, 'dissipated': 1, 'rebellious': 1, 'repelled': 1, 'mutually': 1, 'repression': 1, 'rearrange': 1, 'firmness': 1, 'ossified': 1, 'arrogant': 1, 'concessions': 1, 'illustration': 1, 'sweeps': 1, 'prodded': 1, 'dresses': 1, 'strolled': 1, 'tirelessly': 1, 'contourless': 1, 'sweeping': 1, 'cloudless': 1, 'bellies': 1, 'bazaars': 1, 'ladder': 1, 'nakedness': 1, 'suffered': 1, 'preoccupied': 1, 'smuggled': 1, 'wheedle': 1, 'racketeering': 1, 'illicit': 1, 'distilled': 1, 'marketeers': 1, 'struggles': 1, 'patted': 1, 'thass': 1, \"'wass\": 1, 'sentimentally': 1, 'galloped': 1, 'coldness': 1, 'floors': 1, 'glitter': 1, 'shoeless': 1, 'ruffianism': 1, 'oddly': 1, \"'apparently\": 1, 'annoyance': 1, 'forgetfulness': 1, 'blubbering': 1, 'toothy': 1, 'mottled': 1, 'chill': 1, 'commonplace': 1, 'engineer': 1, 'unappeasable': 1, 'flitting': 1, 'irresistible': 1, 'waddled': 1, 'shapeless': 1, 'cherry': 1, 'dripped': 1, 'flurry': 1, 'supported': 1, 'dizzy': 1, 'uselessly': 1, 'shameless': 1, 'forsook': 1, 'businesslike': 1, 'needles': 1, 'ruffians': 1, 'intellectuals': 1, 'slapped': 1, 'tripping': 1, 'weep': 1, 'sorrowfully': 1, 'bullying': 1, 'assassination': 1, 'disconnectedly': 1, 'dazzling': 1, 'skipped': 1, 'drugged': 1, 'wakefulness': 1, 'electrically': 1, 'snapping': 1, 'fullest': 1, 'nodding': 1, 'approval': 1, 'blubbered': 1, 'ebbed': 1, 'lessened': 1, \"'really\": 1, 'disappearing': 1, 'reappearing': 1, 'crossing': 1, 'recrossing': 1, \"'better\": 1, 'gratefully': 1, 'wantonness': 1, 'russians': 1, 'cruelly': 1, 'bitterness': 1, 'interrogating': 1, 'erroneous': 1, 'powerless': 1, 'innocence': 1, 'shells': 1, 'sorrow': 1, 'begged': 1, 'hollow': 1, \"'three\": 1, 'reassuringly': 1, \"'keep\": 1, 'painless': 1, 'rebelliousness': 1, 'shrivelled': 1, 'riddle': 1, 'looser': 1, 'witted': 1, 'puzzled': 1, 'collaborated': 1, 'insurrection': 1, 'seek': 1, 'seeks': 1, 'mammoths': 1, 'digression': 1, 'schoolmaster': 1, 'assert': 1, 'choosing': 1, 'eggs': 1, 'annual': 1, 'thrill': 1, 'disagreement': 1, 'malleable': 1, 'irrelevant': 1, 'morally': 1, 'enrolled': 1, 'looped': 1, 'yellowish': 1, 'nobby': 1, 'crooked': 1, 'partially': 1, 'peeling': 1, 'barrel': 1, 'scraggy': 1, 'looks': 1, 'carrot': 1, 'dropping': 1, 'tossed': 1, 'stiff': 1, 'collapsed': 1, 'gracelessness': 1, 'sobbed': 1, 'plottings': 1, 'soothing': 1, 'attempted': 1, 'accomplished': 1, 'shallowness': 1, 'opposing': 1, 'presupposed': 1, 'happenings': 1, 'succumbing': 1, 'attain': 1, 'smoothed': 1, 'cropped': 1, 'willows': 1, 'surrendered': 1, 'foolish': 1, 'furrows': 1, 'intellectually': 1, 'emotionally': 1, 'interrogated': 1, 'attachment': 1, 'schoolmasterish': 1, 'immense': 1, 'immovably': 1, 'succession': 1, 'didactically': 1, 'quill': 1, 'worrying': 1, 'leopoldville': 1, 'bill': 1, 'bulletins': 1, 'miss': 1, 'communications': 1, 'willing': 1, 'successive': 1, 'settle': 1, 'leafless': 1, 'sallower': 1, 'awkwardness': 1, 'squeezing': 1, 'irresolutely': 1, 'accompany': 1, 'pointless': 1, 'resurrection': 1, 'gummed': 1, 'midday': 1, 'commas': 1, 'admitting': 1, 'haggling': 1, 'digressions': 1, 'vertically': 1, 'horizontally': 1, 'reassurance': 1, 'uncalled': 1, 'sporadically': 1, 'tiddly': 1, 'drill': 1, 'colossus': 1, 'booty': 1, 'needless': 1, 'stubborn': 1, 'willed': 1, 'devotees': 1, 'stripping': 1, \"weeds'\": 1, 'suppression': 1, 'discussion': 1, 'etymologically': 1, 'suffix': 1, 'speedful': 1, 'speedwise': 1, 'goodwise': 1, 'affixes': 1, 'gooder': 1, 'goodest': 1, 'irregularly': 1, 'irregularities': 1, 'incorrectly': 1, 'essay': 1, 'correctly': 1, \"manner'\": 1, 'goodthinked': 1, 'goodthinkwise': 1, 'latter': 1, 'commoner': 1, 'unbellyfeel': 1, 'wickedness': 1, 'worshipped': 1, 'baal': 1, 'commandments': 1, 'attributes': 1, 'exceedingly': 1, 'immorality': 1, 'misdeeds': 1, 'aberrations': 1, 'begetting': 1, 'connotation': 1, \"'good'\": 1, 'teleprogrammes': 1, 'inprecorr': 1, 'commune': 1, 'suggests': 1, 'accounted': 1, 'stress': 1, 'foolproof': 1, 'differed': 1, 'supplementary': 1, 'currency': 1, 'smattering': 1, 'irrespective': 1, 'illegitimately': 1, 'theoretically': 1, 'attaching': 1, 'queen': 1, 'rook': 1, 'approximately': 1, \"jefferson's\": 1})>\n"
     ]
    }
   ],
   "source": [
    "def main():\n",
    "    with open('pride-and-prejudice.txt') as p_and_p:\n",
    "        p_text = p_and_p.read()\n",
    "        p_lines = p_text.splitlines()\n",
    "        p_words = p_text.split()\n",
    "    content, words, lines = get_book('http://gutenberg.net.au/ebooks01/0100021.txt')\n",
    "    sum_of_chapters = get_sum_of_chapters(lines, words)\n",
    "    print(sum_of_chapters)\n",
    "    sum_of_p_chapters = get_sum_of_chapters(p_lines, p_words)\n",
    "    found_word = find_word(words, 'Winston')\n",
    "    found_p_word = find_word(p_words, 'Elizabeth')\n",
    "    grn_gls_door = [word.lower() for word in words if green_glass_door(word)]\n",
    "    c = Counter(grn_gls_door)\n",
    "    print(c.most_common)\n",
    "    p_grn_gls_door = [p_word for p_word in p_words if green_glass_door(p_word)]\n",
    "    text_without_char = get_chapter_without_char(lines, 7, 8, content)\n",
    "    p_text_without_char = get_chapter_without_char(p_lines, 1, 2)\n",
    "    print(len(text_without_char), ' '.join(text_without_char))\n",
    "    h = get_chapter_without_char(lines, 1, 2)\n",
    "    print(h)\n",
    "main() #hee jiggle my wiggle\n",
    "\n",
    "def main():\n",
    "    words = re.split(\"[^\\w']+\", text)\n",
    "    lines = text.splitlines()\n",
    "    print(lines[:10])\n",
    "    ggd_words = []\n",
    "    for word in words:\n",
    "        if green_glass_door(word):\n",
    "            if word in ggd_words:\n",
    "                pass\n",
    "            else:\n",
    "                ggd_words.append(word)\n",
    "                \n",
    "    print(ggd_words[:100]) #first 100 words\n",
    "    print('There are', len(ggd_words[:100]), 'words in ggd_words.')\n",
    "    \n",
    "    sum = sum_of_chapters(lines)\n",
    "    print('The sum of the chapter numbers is ', sum, '.', sep='')\n",
    "    \n",
    "    num = num_of_chapters(lines)\n",
    "    print('There are ', num, ' chapters in 1984.', sep='')\n",
    "    search_word = input('What word would you like to look for?')\n",
    "    \n",
    "    results = word_finder(search_word, words)\n",
    "    print('\\'', search_word, '\\'', ' appears ', results, ' times.', sep='')\n",
    "    \n",
    "    yeah = no_vowels(lines, 1, 2)\n",
    "    print(yeah)\n",
    "    \n",
    "main()"
   ]
  }
 ],
 "metadata": {
  "kernelspec": {
   "display_name": "Python 3",
   "language": "python",
   "name": "python3"
  },
  "language_info": {
   "codemirror_mode": {
    "name": "ipython",
    "version": 3
   },
   "file_extension": ".py",
   "mimetype": "text/x-python",
   "name": "python",
   "nbconvert_exporter": "python",
   "pygments_lexer": "ipython3",
   "version": "3.7.0"
  }
 },
 "nbformat": 4,
 "nbformat_minor": 2
}
