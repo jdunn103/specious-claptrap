{
 "cells": [
  {
   "cell_type": "code",
   "execution_count": 81,
   "metadata": {},
   "outputs": [
    {
     "name": "stdout",
     "output_type": "stream",
     "text": [
      "1\n",
      "2\n",
      "2\n"
     ]
    }
   ],
   "source": [
    "def f1():\n",
    "    try:\n",
    "        print('1')\n",
    "        return 1\n",
    "    finally:\n",
    "        print('2')\n",
    "        return 2\n",
    " \n",
    "x=f1()\n",
    "print(x)"
   ]
  },
  {
   "cell_type": "code",
   "execution_count": 99,
   "metadata": {},
   "outputs": [
    {
     "name": "stdout",
     "output_type": "stream",
     "text": [
      "Java\n",
      "Scala\n",
      "Python\n"
     ]
    }
   ],
   "source": [
    "courses={1:'Java',2:'Scala',3:'Python'}\n",
    "for i in courses:\n",
    "    print(courses[i])"
   ]
  },
  {
   "cell_type": "code",
   "execution_count": 111,
   "metadata": {},
   "outputs": [
    {
     "data": {
      "text/plain": [
       "'Charlie'"
      ]
     },
     "execution_count": 111,
     "metadata": {},
     "output_type": "execute_result"
    }
   ],
   "source": [
    "class Animal():\n",
    "    name = 'Charlie'\n",
    "class Dog(Animal):\n",
    "    tail = True\n",
    "class TailessDog(Dog):\n",
    "    tail = False\n",
    "a = TailessDog()\n",
    "a.name"
   ]
  },
  {
   "cell_type": "code",
   "execution_count": 122,
   "metadata": {},
   "outputs": [
    {
     "name": "stdout",
     "output_type": "stream",
     "text": [
      "beforeter Haha\n"
     ]
    }
   ],
   "source": [
    "with open('dummy_text.txt', 'w+') as f:\n",
    "    f.write('Haha')\n",
    "    f.write('after Haha')\n",
    "    f.seek(0)\n",
    "    f.write('before')\n",
    "    f.seek(0)\n",
    "    print(f.read())"
   ]
  }
 ],
 "metadata": {
  "kernelspec": {
   "display_name": "Python 3",
   "language": "python",
   "name": "python3"
  },
  "language_info": {
   "codemirror_mode": {
    "name": "ipython",
    "version": 3
   },
   "file_extension": ".py",
   "mimetype": "text/x-python",
   "name": "python",
   "nbconvert_exporter": "python",
   "pygments_lexer": "ipython3",
   "version": "3.7.0"
  }
 },
 "nbformat": 4,
 "nbformat_minor": 2
}
