{
 "cells": [
  {
   "cell_type": "markdown",
   "metadata": {},
   "source": [
    "### Import "
   ]
  },
  {
   "cell_type": "code",
   "execution_count": 1,
   "metadata": {},
   "outputs": [],
   "source": [
    "import requests, re, random\n",
    "from copy import copy\n",
    "from collections import Counter\n",
    "from copy import copy"
   ]
  },
  {
   "cell_type": "markdown",
   "metadata": {},
   "source": [
    "### Get Book"
   ]
  },
  {
   "cell_type": "code",
   "execution_count": 2,
   "metadata": {},
   "outputs": [],
   "source": [
    "def get_book():\n",
    "    content = requests.get('http://gutenberg.net.au/ebooks01/0100021.txt')\n",
    "    words = re.split(\"[^\\w']+\",content.text)\n",
    "    lines = content.text.splitlines()\n",
    "    return content.text, words, lines"
   ]
  },
  {
   "cell_type": "markdown",
   "metadata": {},
   "source": [
    "### Get Sum of Chapters"
   ]
  },
  {
   "cell_type": "code",
   "execution_count": null,
   "metadata": {},
   "outputs": [],
   "source": [
    "def get_sum_of_chapters(lines, words):\n",
    "    chapters = []\n",
    "    num_chapters = find_word(words, 'Chapter')\n",
    "    for line in lines:\n",
    "        for num in range(1,num_chapters+1):\n",
    "            if line == (f'Chapter {num}'):\n",
    "                chapters.append(line)\n",
    "    chapter_nums = [int(chapter.split()[-1]) for chapter in chapters]\n",
    "    return sum(chapter_nums)"
   ]
  },
  {
   "cell_type": "markdown",
   "metadata": {},
   "source": [
    "### Find Word"
   ]
  },
  {
   "cell_type": "code",
   "execution_count": null,
   "metadata": {},
   "outputs": [],
   "source": [
    "def find_word(words, search_word):\n",
    "    searched_word = [word for word in words if search_word.lower() in word.lower()]\n",
    "    return len(searched_word)"
   ]
  },
  {
   "cell_type": "markdown",
   "metadata": {},
   "source": [
    "### Green Glass Door"
   ]
  },
  {
   "cell_type": "code",
   "execution_count": null,
   "metadata": {},
   "outputs": [],
   "source": [
    "def green_glass_door(word):\n",
    "    for i, letter in enumerate(word[1:]):\n",
    "        if letter.lower() == word[i].lower():\n",
    "            return True\n",
    "    return False   "
   ]
  },
  {
   "cell_type": "markdown",
   "metadata": {},
   "source": [
    "### Get Chapter Without Character"
   ]
  },
  {
   "cell_type": "code",
   "execution_count": null,
   "metadata": {},
   "outputs": [],
   "source": [
    "def get_chapter_without_char(lines, start_chapter, stop_chapter, char='aeiou'):\n",
    "    if stop_chapter <= start_chapter:\n",
    "        raise ValueError\n",
    "    true_or_false = False    \n",
    "    text_without_char = []\n",
    "    length_of_chap = 0\n",
    "    for line in lines: \n",
    "        if (f'Chapter {start_chapter}') in line: # Start\n",
    "            true_or_false = True\n",
    "        elif (f'Chapter {stop_chapter}') in line: # Stop\n",
    "            break\n",
    "            \n",
    "        if true_or_false:            \n",
    "            length_of_chap += len(line.split())\n",
    "            text_without_char.append(re.sub(f'[{char}]', '', line, flags=re.IGNORECASE))\n",
    "\n",
    "    if char == ' ':\n",
    "        return (''.join(text_without_char), length_of_chap)\n",
    "    else:\n",
    "        return (' '.join(text_without_char), length_of_chap)"
   ]
  },
  {
   "cell_type": "markdown",
   "metadata": {},
   "source": [
    "### Anagram"
   ]
  },
  {
   "cell_type": "code",
   "execution_count": 3,
   "metadata": {},
   "outputs": [],
   "source": [
    "def get_dictionary_words():\n",
    "    return requests.get('http://www.gtoal.com/wordgames/yawl/word.list').text"
   ]
  },
  {
   "cell_type": "code",
   "execution_count": 78,
   "metadata": {},
   "outputs": [],
   "source": [
    "def get_anagram_game(text, dictionary_words):\n",
    "    sentences = re.split(\"[.?!]+\", text)\n",
    "    sentence = (random.choice(sentences)).split()\n",
    "    random_word = random.choice(sentence)\n",
    "    letters = list(random_word.lower())\n",
    "#     print(letters)\n",
    "\n",
    "    found_words = []\n",
    "    for word in dictionary_words:\n",
    "        status = ''\n",
    "        letters1 = copy(letters)        \n",
    "        if len(word) != len(letters):\n",
    "            continue\n",
    "        for letter in word:            \n",
    "            if letter not in letters1:\n",
    "                break                \n",
    "            \n",
    "            status += letter\n",
    "            letters1.remove(letter)\n",
    "            \n",
    "            if status == word:\n",
    "                found_words.append(word)\n",
    "    if random_word in found_words:\n",
    "        found_words.remove(random_word.lower())\n",
    "    if len(found_words) != 0:\n",
    "        random_anagram = random.choice(found_words)\n",
    "        print(random_word)\n",
    "        print(random_anagram)\n",
    "    else:\n",
    "        print(\"I'm calling it again\")\n",
    "        a = get_anagram_game(text, dictionary_words)\n",
    "        print(a)\n",
    "        random_anagram = ''\n",
    "    sentence[sentence.index(random_word)] = random_anagram\n",
    "    print(sentence)\n",
    "    return ' '.join(sentence)"
   ]
  },
  {
   "cell_type": "markdown",
   "metadata": {},
   "source": [
    "### Main"
   ]
  },
  {
   "cell_type": "code",
   "execution_count": null,
   "metadata": {},
   "outputs": [],
   "source": [
    "def main():\n",
    "    content, words, lines = get_book()\n",
    "    dictionary_words = get_dictionary_words()\n",
    "    sentence = get_anagram_game(content[content.find('PART ONE'):], dictionary_words.splitlines())\n",
    "#     print(sentence)\n",
    "\n",
    "main()"
   ]
  },
  {
   "cell_type": "code",
   "execution_count": 34,
   "metadata": {},
   "outputs": [],
   "source": [
    "#     with open('pride-and-prejudice.txt') as p_and_p:\n",
    "#         p_text = p_and_p.read()\n",
    "#         p_lines = p_text.splitlines()\n",
    "#         p_words = p_text.split()\n",
    "# content, words, lines = get_book()\n",
    "#     text_without_char = get_chapter_without_char(lines, 7, 8)\n",
    "#     print(len(text_without_char), text_without_char)\n",
    "#     sum_of_chapters = get_sum_of_chapters(lines, words)\n",
    "#     print(sum_of_chapters)\n",
    "#     sum_of_p_chapters = get_sum_of_chapters(p_lines, p_words)\n",
    "#     found_word = find_word(words, 'Winston')\n",
    "#     found_p_word = find_word(p_words, 'Elizabeth')\n",
    "#     grn_gls_door = [word.lower() for word in words if green_glass_door(word)]\n",
    "#     p_grn_gls_door = [p_word for p_word in p_words if green_glass_door(p_word)]\n",
    "#     \n",
    "#     c = Counter(grn_gls_door)\n",
    "#     print(c.most_common)\n",
    "#     p_text_without_char = get_chapter_without_char(p_lines, 1, 2)\n",
    "#     print(len(text_without_char), ' '.join(text_without_char))\n",
    "#     h = get_chapter_without_char(lines, 1, 2)\n",
    "#     print(h)"
   ]
  }
 ],
 "metadata": {
  "kernelspec": {
   "display_name": "Python 3",
   "language": "python",
   "name": "python3"
  },
  "language_info": {
   "codemirror_mode": {
    "name": "ipython",
    "version": 3
   },
   "file_extension": ".py",
   "mimetype": "text/x-python",
   "name": "python",
   "nbconvert_exporter": "python",
   "pygments_lexer": "ipython3",
   "version": "3.7.0"
  }
 },
 "nbformat": 4,
 "nbformat_minor": 2
}
