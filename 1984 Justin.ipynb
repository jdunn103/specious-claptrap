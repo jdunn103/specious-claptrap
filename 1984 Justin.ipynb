{
 "cells": [
  {
   "cell_type": "markdown",
   "metadata": {},
   "source": [
    "### Import "
   ]
  },
  {
   "cell_type": "code",
   "execution_count": 1,
   "metadata": {},
   "outputs": [],
   "source": [
    "import requests, re, random, time\n",
    "from copy import copy\n",
    "from collections import Counter\n",
    "from copy import copy"
   ]
  },
  {
   "cell_type": "markdown",
   "metadata": {},
   "source": [
    "### Get Book"
   ]
  },
  {
   "cell_type": "code",
   "execution_count": 2,
   "metadata": {},
   "outputs": [],
   "source": [
    "def get_book():\n",
    "    content = requests.get('http://gutenberg.net.au/ebooks01/0100021.txt')\n",
    "    words = re.split(\"[^\\w']+\",content.text)\n",
    "    lines = content.text.splitlines()\n",
    "    return (content.text, words, lines)"
   ]
  },
  {
   "cell_type": "markdown",
   "metadata": {},
   "source": [
    "### Get Sum of Chapters"
   ]
  },
  {
   "cell_type": "code",
   "execution_count": 3,
   "metadata": {},
   "outputs": [],
   "source": [
    "def get_sum_of_chapters(lines, words):\n",
    "    chapters = []\n",
    "    num_chapters = find_word(words, 'Chapter')\n",
    "    for line in lines:\n",
    "        for num in range(1,num_chapters+1):\n",
    "            if line == (f'Chapter {num}'):\n",
    "                chapters.append(line)\n",
    "    chapter_nums = [int(chapter.split()[-1]) for chapter in chapters]\n",
    "    return sum(chapter_nums)"
   ]
  },
  {
   "cell_type": "markdown",
   "metadata": {},
   "source": [
    "### Find Word"
   ]
  },
  {
   "cell_type": "code",
   "execution_count": 4,
   "metadata": {},
   "outputs": [],
   "source": [
    "def find_word(words, search_word):\n",
    "    searched_word = [word for word in words if search_word.lower() in word.lower()]\n",
    "    return len(searched_word)"
   ]
  },
  {
   "cell_type": "markdown",
   "metadata": {},
   "source": [
    "### Green Glass Door"
   ]
  },
  {
   "cell_type": "code",
   "execution_count": 5,
   "metadata": {},
   "outputs": [],
   "source": [
    "def green_glass_door(word):\n",
    "    for i, letter in enumerate(word[1:]):\n",
    "        if letter.lower() == word[i].lower():\n",
    "            return True\n",
    "    return False   "
   ]
  },
  {
   "cell_type": "markdown",
   "metadata": {},
   "source": [
    "### Get Chapter Without Character"
   ]
  },
  {
   "cell_type": "code",
   "execution_count": 6,
   "metadata": {},
   "outputs": [],
   "source": [
    "def get_chapter_without_char(lines, start_chapter, stop_chapter, char='aeiou'):\n",
    "    if stop_chapter <= start_chapter:\n",
    "        raise ValueError\n",
    "    true_or_false = False    \n",
    "    text_without_char = []\n",
    "    length_of_chap = 0\n",
    "    for line in lines: \n",
    "        if (f'Chapter {start_chapter}') in line: # Start\n",
    "            true_or_false = True\n",
    "        elif (f'Chapter {stop_chapter}') in line: # Stop\n",
    "            break\n",
    "            \n",
    "        if true_or_false:            \n",
    "            length_of_chap += len(line.split())\n",
    "            text_without_char.append(re.sub(f'[{char}]', '', line, flags=re.IGNORECASE))\n",
    "\n",
    "    if char == ' ':\n",
    "        return (''.join(text_without_char), length_of_chap)\n",
    "    else:\n",
    "        return (' '.join(text_without_char), length_of_chap)"
   ]
  },
  {
   "cell_type": "markdown",
   "metadata": {},
   "source": [
    "### Anagram"
   ]
  },
  {
   "cell_type": "code",
   "execution_count": 7,
   "metadata": {},
   "outputs": [],
   "source": [
    "def count_down():\n",
    "    count_down = [3,2,1]\n",
    "    for pos in range(3):\n",
    "        print(count_down[pos])\n",
    "        time.sleep(1)"
   ]
  },
  {
   "cell_type": "code",
   "execution_count": 8,
   "metadata": {},
   "outputs": [],
   "source": [
    "def get_dictionary_words():\n",
    "    return requests.get('http://www.gtoal.com/wordgames/yawl/word.list').text"
   ]
  },
  {
   "cell_type": "code",
   "execution_count": 9,
   "metadata": {},
   "outputs": [],
   "source": [
    "def get_anagram_game(text, dictionary_words):\n",
    "    sentences = re.split(\"[.?!]+\", text)\n",
    "    sentence = (random.choice(sentences)).split()\n",
    "    random_word = random.choice(sentence)\n",
    "    letters = list(random_word.lower())\n",
    "    if len(sentence) < 5:# or len(random_word) < 4:\n",
    "        a = get_anagram_game(text, dictionary_words)\n",
    "        return a\n",
    "    \n",
    "    found_words = []\n",
    "    for word in dictionary_words:\n",
    "        status = ''\n",
    "        letters1 = copy(letters)        \n",
    "        if len(word) != len(letters):\n",
    "            continue\n",
    "        for letter in word:            \n",
    "            if letter not in letters1:\n",
    "                break                \n",
    "            \n",
    "            status += letter\n",
    "            letters1.remove(letter)\n",
    "            \n",
    "            if status == word:\n",
    "                found_words.append(word)\n",
    "    if random_word.lower() in found_words:\n",
    "        found_words.remove(random_word.lower())\n",
    "    if len(found_words) > 0:\n",
    "        random_anagram = random.choice(found_words)\n",
    "    else:\n",
    "        a = get_anagram_game(text, dictionary_words)\n",
    "        return a\n",
    "    sentence[sentence.index(random_word)] = random_anagram\n",
    "    if sentence.index(random_anagram) == 0:\n",
    "        sentence[0] = sentence[0].capitalize()\n",
    "    return (' '.join(sentence), random_word)"
   ]
  },
  {
   "cell_type": "code",
   "execution_count": 14,
   "metadata": {},
   "outputs": [],
   "source": [
    "def play_anagram_game(content):\n",
    "    dictionary_words = get_dictionary_words()\n",
    "    print('Write the original version of the anagram')\n",
    "    incorrect_guesses = []\n",
    "    answers = []\n",
    "    random_words = []\n",
    "    num_guesses = 0\n",
    "    correct_guesses = 0\n",
    "    time_delta = 0\n",
    "    count_down()\n",
    "    \n",
    "    start_time = time.perf_counter()\n",
    "    while time_delta < 60:\n",
    "        end_time = time.perf_counter()\n",
    "        time_delta = end_time - start_time\n",
    "        sentence, random_word = get_anagram_game(content, dictionary_words.splitlines())\n",
    "        if random_word in random_words:\n",
    "            continue\n",
    "        random_words.append(random_word.lower())\n",
    "        guess = input(f'{sentence}. ')\n",
    "        if random_word.lower() == guess.lower():\n",
    "            correct_guesses += 1\n",
    "        else:\n",
    "            incorrect_guesses.append(guess)\n",
    "            answers.append(random_word.lower())\n",
    "        num_guesses += 1\n",
    "    print(time_delta)\n",
    "    print('You got', correct_guesses, 'out of', num_guesses, 'right!')\n",
    "    if len(incorrect_guesses) != 0:\n",
    "        for i in range(len(incorrect_guesses)):\n",
    "            print(f\"You said the answer was '{incorrect_guesses[i]}' but the real answer was '{answers[i]}'!\")\n"
   ]
  },
  {
   "cell_type": "markdown",
   "metadata": {},
   "source": [
    "### Main"
   ]
  },
  {
   "cell_type": "code",
   "execution_count": 15,
   "metadata": {},
   "outputs": [
    {
     "name": "stdout",
     "output_type": "stream",
     "text": [
      "Write the original version of the anagram\n",
      "3\n",
      "2\n",
      "1\n"
     ]
    },
    {
     "name": "stdin",
     "output_type": "stream",
     "text": [
      "The prisoners sat very still, ither hands crossed on their knees.  their\n",
      "Eth kitchen sink was full nearly to the brim with filthy greenish water which smelt worse than ever of cabbage.  the\n",
      "' 'Yes, something of that dink.  kind\n",
      "It was as when Winston dah gazed into the heart of the paperweight, with the feeling that it would be possible to get inside that glassy world, and that once inside it time could be arrested.  had\n",
      "Winston roused himself dan sat up straighter.  and\n",
      "A yellow ray from the sinking sun fell across the foot of the bed and lighted up the fireplace, where the water in the pan was boiling fats.  staf\n",
      "Wot monstrous women with brick-red forearms folded across their aprons were talking outside a doorway.  two\n"
     ]
    },
    {
     "name": "stdout",
     "output_type": "stream",
     "text": [
      "62.06670398899999\n",
      "You got 6 out of 7 right!\n",
      "You said the answer was 'staf' but the real answer was 'fast'!\n"
     ]
    }
   ],
   "source": [
    "def main():\n",
    "    content, words, lines = get_book()\n",
    "    play_anagram_game(content[content.find('PART ONE'):])\n",
    "    \n",
    "main()"
   ]
  },
  {
   "cell_type": "code",
   "execution_count": null,
   "metadata": {},
   "outputs": [],
   "source": [
    "#     with open('pride-and-prejudice.txt') as p_and_p:\n",
    "#         p_text = p_and_p.read()\n",
    "#         p_lines = p_text.splitlines()\n",
    "#         p_words = p_text.split()\n",
    "# content, words, lines = get_book()\n",
    "#     text_without_char = get_chapter_without_char(lines, 7, 8)\n",
    "#     print(len(text_without_char), text_without_char)\n",
    "#     sum_of_chapters = get_sum_of_chapters(lines, words)\n",
    "#     print(sum_of_chapters)\n",
    "#     sum_of_p_chapters = get_sum_of_chapters(p_lines, p_words)\n",
    "#     found_word = find_word(words, 'Winston')\n",
    "#     found_p_word = find_word(p_words, 'Elizabeth')\n",
    "#     grn_gls_door = [word.lower() for word in words if green_glass_door(word)]\n",
    "#     p_grn_gls_door = [p_word for p_word in p_words if green_glass_door(p_word)]\n",
    "#     \n",
    "#     c = Counter(grn_gls_door)\n",
    "#     print(c.most_common)\n",
    "#     p_text_without_char = get_chapter_without_char(p_lines, 1, 2)\n",
    "#     print(len(text_without_char), ' '.join(text_without_char))\n",
    "#     h = get_chapter_without_char(lines, 1, 2)\n",
    "#     print(h)\n",
    "x = 0\n",
    "while x<100:\n",
    "    print('hi')\n",
    "    if x<50:\n",
    "        print('Not Half-way')\n",
    "        x+=1\n",
    "        print(x)\n",
    "        continue\n",
    "    print('I feel happy')\n",
    "    x+=1\n",
    "    print(x)"
   ]
  },
  {
   "cell_type": "code",
   "execution_count": null,
   "metadata": {},
   "outputs": [],
   "source": [
    "\n",
    "def main():\n",
    "    num_right = 0\n",
    "    incorrect_answers = []\n",
    "    try:\n",
    "        num = int(input('How many questions do you want to answer? '))\n",
    "    except ValueError:\n",
    "        num = int(input('An integer please: '))\n",
    "    if num == 0:\\n\n",
    "        print(\\\"I'll take that as a '10'\\\")\n",
    "        num = 10\n",
    "    operator = input('What operator do you want to use? +, -, x, / ')\n",
    "    if operator != '+' and operator != '-' and operator != 'x' and operator != '/':\n",
    "        operator = input('What operator do you want to use? +, -, x, / ')\n",
    "        if operator != '+' and operator != '-' and operator != 'x' and operator != '/':\n",
    "            operator = '+'\n",
    "            print(\\\"Your operator is '+'\\\")\n",
    "    try:\\n\",\n",
    "        max_num = int(input('What do you want the largest second operand to be? '))\n",
    "    except ValueError:\n",
    "        max_num = int(input('An integer please: '))\n",
    "    ready()\n",
    "    start_time = time.perf_counter()\n",
    "    for i in range(num):\n",
    "        real_value = 'x'\n",
    "        real_value, ans = calculate(operator, i+1, max_num)\n",
    "        if real_value == ans:\n",
    "            num_right += 1\n",
    "        else:\n",
    "            incorrect_answers.append(i+1)\n",
    "    end_time = time.perf_counter()\n",
    "    t = end_time-start_time\n",
    "    input('Ready to see your score?')\n",
    "    if real_value != 'x':\n",
    "        print(f'You got {num_right} out of {num} right in {t:.2f} seconds.')\n",
    "        if len(incorrect_answers) == 0:\n",
    "            print('You didn\\\\'t get any problems wrong!')\n",
    "        elif len(incorrect_answers) == 1:\n",
    "            print(f'You got problem {incorrect_answers[0]} wrong. Almost perfect!')\n",
    "        else:\\n\",\n",
    "            print(f'You got a lot of problems wrong. That isn\\\\'t very good!')\\n\",\n",
    "            \\n\",\n",
    "main()\"\n",
    "      \n",
    "      \n",
    "def calculate(operator, i, max_num):\\n\n",
    "        r, n = randint(1, max_num), randint(1, 10)\\n\n",
    "        if operator == '+':\\n\",\n",
    "            try:\\n\",\n",
    "                ans = int(input(f'({i}.) {n} {operator} {r} ='))\\n\",\n",
    "            except ValueError:\\n\",\n",
    "                ans = int(input(f'({i}.) {n} {operator} {r} ='))\\n\",\n",
    "            real_value = r+n\\n\",\n",
    "            return real_value, ans\\n\",\n",
    "        elif operator == '-':\\n\",\n",
    "            try:\\n\",\n",
    "                ans = int(input(f'({i}.) {r+n} {operator} {r} ='))\\n\",\n",
    "            except ValueError:\\n\",\n",
    "               ans = int(input(f'({i}.) {r+n} {operator} {r} ='))\\n\",\n",
    "            real_value = n\\n\",\n",
    "            return real_value, ans\\n\",\n",
    "        elif operator == 'x':\\n\",\n",
    "            try:\\n\",\n",
    "                ans = int(input(f'({i}.) {n} {operator} {r} ='))\\n\",\n",
    "            except ValueError:\\n\",\n",
    "                ans = int(input(f'({i}.) {n} {operator} {r} ='))\\n\",\n",
    "            real_value = r*n\\n\",\n",
    "           return real_value, ans\\n\",\n",
    "        elif operator == '/':\\n\",\n",
    "            try:\\n\",\n",
    "                ans = int(input(f'({i}.) {r*n} {operator} {r} ='))\\n\",\n",
    "            except ValueError:\\n\",\n",
    "                ans = int(input(f'({i}.) {r*n} {operator} {r} ='))\\n\",\n",
    "            real_value = n\\n\",\n",
    "            return real_value, ans\"\n",
    "     \n",
    "         \"from random import randint\\n\",\n",
    "    import time\\n\",\n",
    "    def ready():\\n\",\n",
    "        check = input('Ready? y/n: ').lower()\\n\",\n",
    "        \\n\",\n",
    "        if check == 'y':\\n\",\n",
    "            \n",
    "            print()\\n\",\n",
    "        else:\\n\",\n",
    "            print('Okay')\\n\",\n",
    "            ready()\""
   ]
  }
 ],
 "metadata": {
  "kernelspec": {
   "display_name": "Python 3",
   "language": "python",
   "name": "python3"
  },
  "language_info": {
   "codemirror_mode": {
    "name": "ipython",
    "version": 3
   },
   "file_extension": ".py",
   "mimetype": "text/x-python",
   "name": "python",
   "nbconvert_exporter": "python",
   "pygments_lexer": "ipython3",
   "version": "3.7.0"
  }
 },
 "nbformat": 4,
 "nbformat_minor": 2
}
