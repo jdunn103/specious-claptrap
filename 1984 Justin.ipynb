{
 "cells": [
  {
   "cell_type": "markdown",
   "metadata": {},
   "source": [
    "### Import "
   ]
  },
  {
   "cell_type": "code",
   "execution_count": 4,
   "metadata": {},
   "outputs": [],
   "source": [
    "import requests\n",
    "from copy import copy\n",
    "import re\n",
    "from collections import Counter"
   ]
  },
  {
   "cell_type": "markdown",
   "metadata": {},
   "source": [
    "### Get Book"
   ]
  },
  {
   "cell_type": "code",
   "execution_count": 3,
   "metadata": {},
   "outputs": [],
   "source": [
    "def get_book():\n",
    "    content = requests.get('http://gutenberg.net.au/ebooks01/0100021.txt')\n",
    "    words = re.split(\"[^\\w']+\",content.text)\n",
    "    lines = content.text.splitlines()\n",
    "    return content.text, words, lines"
   ]
  },
  {
   "cell_type": "markdown",
   "metadata": {},
   "source": [
    "### Get Sum of Chapters"
   ]
  },
  {
   "cell_type": "code",
   "execution_count": null,
   "metadata": {},
   "outputs": [],
   "source": [
    "def get_sum_of_chapters(lines, words):\n",
    "    chapters = []\n",
    "    num_chapters = find_word(words, 'Chapter')\n",
    "    for line in lines:\n",
    "        for num in range(1,num_chapters+1):\n",
    "            if line == (f'Chapter {num}'):\n",
    "                chapters.append(line)\n",
    "    chapter_nums = [int(chapter.split()[-1]) for chapter in chapters]\n",
    "    return sum(chapter_nums)"
   ]
  },
  {
   "cell_type": "markdown",
   "metadata": {},
   "source": [
    "### Find Word"
   ]
  },
  {
   "cell_type": "code",
   "execution_count": null,
   "metadata": {},
   "outputs": [],
   "source": [
    "def find_word(words, search_word):\n",
    "    searched_word = [word for word in words if search_word.lower() in word.lower()]\n",
    "    return len(searched_word)"
   ]
  },
  {
   "cell_type": "markdown",
   "metadata": {},
   "source": [
    "### Green Glass Door"
   ]
  },
  {
   "cell_type": "code",
   "execution_count": null,
   "metadata": {},
   "outputs": [],
   "source": [
    "def green_glass_door(word):\n",
    "    for i, letter in enumerate(word[1:]):\n",
    "        if letter.lower() == word[i].lower():\n",
    "            return True\n",
    "    return False   "
   ]
  },
  {
   "cell_type": "markdown",
   "metadata": {},
   "source": [
    "### Get Chapter Without Character"
   ]
  },
  {
   "cell_type": "code",
   "execution_count": 19,
   "metadata": {},
   "outputs": [],
   "source": [
    "def get_chapter_without_char(lines, start_chapter, stop_chapter, char='aeiou'):\n",
    "    true_or_false = False    \n",
    "    text_without_char = []\n",
    "    for line in lines: \n",
    "        if (f'Chapter {start_chapter}') in line:\n",
    "            true_or_false = True\n",
    "        elif (f'Chapter {stop_chapter}') in line:\n",
    "            true_or_false = False\n",
    "            break\n",
    "        if not true_or_false:\n",
    "            continue\n",
    "        while true_or_false:\n",
    "            for word in line:\n",
    "                text_without_char.append(re.sub(f'[{char}]', '', word, flags=re.IGNORECASE))\n",
    "            break\n",
    "            \n",
    "    return ''.join(text_without_char)"
   ]
  },
  {
   "cell_type": "markdown",
   "metadata": {},
   "source": [
    "### Main"
   ]
  },
  {
   "cell_type": "code",
   "execution_count": 20,
   "metadata": {},
   "outputs": [
    {
     "name": "stdout",
     "output_type": "stream",
     "text": [
      "15957 Chptr 7'f thr s hp,' wrt Wnstn, 't ls n th prls.'f thr ws hp, t MST l n th prls, bcs nly thr n thsswrmng dsrgrdd msss, 85 pr cnt f th ppltn f cn,cld th frc t dstry th Prty vr b gnrtd. Th Prty cldnt b vrthrwn frm wthn. ts nms, f t hd ny nms, hdn wy f cmng tgthr r vn f dntfyng n nthr. vn fth lgndry Brthrhd xstd, s jst pssbly t mght, t wsncncvbl tht ts mmbrs cld vr ssmbl n lrgr nmbrs thntws nd thrs. Rblln mnt  lk n th ys, n nflxn f thvc, t th mst, n ccsnl whsprd wrd. Bt th prls, f nlythy cld smhw bcm cnscs f thr wn strngth. wld hv nnd t cnspr. Thy ndd nly t rs p nd shk thmslvs lk hrs shkng ff fls. f thy chs thy cld blw th Prty tpcs tmrrw mrnng. Srly snr r ltr t mst ccr t thm td t? nd yt----!H rmmbrd hw nc h hd bn wlkng dwn  crwdd strt whn trmnds sht f hndrds f vcs wmn's vcs--hd brst frm sd-strt  lttl wy hd. t ws  grt frmdbl cry f ngrnd dspr,  dp, ld 'h----h!' tht wnt hmmng n lk thrvrbrtn f  bll. Hs hrt hd lpt. t's strtd! h hd thght. rt! Th prls r brkng ls t lst! Whn h hd rchd th sptt ws t s  mb f tw r thr hndrd wmn crwdng rnd th stllsf  strt mrkt, wth fcs s trgc s thgh thy hd bn th dmdpssngrs n  snkng shp. Bt t ths mmnt th gnrl dspr brkdwn nt  mlttd f ndvdl qrrls. t pprd tht n f thstlls hd bn sllng tn scpns. Thy wr wrtchd, flmsy thngs,bt ckng-pts f ny knd wr lwys dffclt t gt. Nw th spplyhd nxpctdly gvn t. Th sccssfl wmn, bmpd nd jstld byth rst, wr tryng t mk ff wth thr scpns whl dzns fthrs clmrd rnd th stll, ccsng th stll-kpr f fvrtsmnd f hvng mr scpns smwhr n rsrv. Thr ws  frshtbrst f ylls. Tw bltd wmn, n f thm wth hr hr cmngdwn, hd gt hld f th sm scpn nd wr tryng t tr t t fn nthr's hnds. Fr  mmnt thy wr bth tggng, nd thn thhndl cm ff. Wnstn wtchd thm dsgstdly. nd yt, jst fr mmnt, wht lmst frghtnng pwr hd sndd n tht cry frm nly fw hndrd thrts! Why ws t tht thy cld nvr sht lk thtbt nythng tht mttrd?H wrt:   ntl thy bcm cnscs thy wll nvr rbl, nd ntl ftr thyhv rblld thy cnnt bcm cnscs.Tht, h rflctd, mght lmst hv bn  trnscrptn frm n f thPrty txtbks. Th Prty clmd, f crs, t hv lbrtd th prlsfrm bndg. Bfr th Rvltn thy hd bn hdsly pprssd byth cptlsts, thy hd bn strvd nd flggd, wmn hd bn frcdt wrk n th cl mns (wmn stll dd wrk n th cl mns, s mttr f fct), chldrn hd bn sld nt th fctrs t th gf sx. Bt smltnsly, tr t th Prncpls f dblthnk, thPrty tght tht th prls wr ntrl nfrrs wh mst b kpt nsbjctn, lk nmls, by th pplctn f  fw smpl rls. nrlty vry lttl ws knwn bt th prls. t ws nt ncssry tknw mch. S lng s thy cntnd t wrk nd brd, thr thrctvts wr wtht mprtnc. Lft t thmslvs, lk cttl trndls pn th plns f rgntn, thy hd rvrtd t  styl f lftht pprd t b ntrl t thm,  srt f ncstrl pttrn. Thy wrbrn, thy grw p n th gttrs, thy wnt t wrk t twlv, thy pssdthrgh  brf blssmng-prd f bty nd sxl dsr, thy mrrdt twnty, thy wr mddl-gd t thrty, thy dd, fr th mst prt,t sxty. Hvy physcl wrk, th cr f hm nd chldrn, pttyqrrls wth nghbrs, flms, ftbll, br, nd bv ll, gmblng,flld p th hrzn f thr mnds. T kp thm n cntrl ws ntdffclt.  fw gnts f th Thght Plc mvd lwys mng thm,sprdng fls rmrs nd mrkng dwn nd lmntng th fwndvdls wh wr jdgd cpbl f bcmng dngrs; bt n ttmptws md t ndctrnt thm wth th dlgy f th Prty. t ws ntdsrbl tht th prls shld hv strng pltcl flngs. ll thtws rqrd f thm ws  prmtv ptrtsm whch cld b ppld twhnvr t ws ncssry t mk thm ccpt lngr wrkng-hrs rshrtr rtns. nd vn whn thy bcm dscntntd, s thy smtmsdd, thr dscntnt ld nwhr, bcs bng wtht gnrl ds,thy cld nly fcs t n ptty spcfc grvncs. Th lrgr vlsnvrbly scpd thr ntc. Th grt mjrty f prls dd nt vnhv tlscrns n thr hms. vn th cvl plc ntrfrd wth thmvry lttl. Thr ws  vst mnt f crmnlty n Lndn,  whlwrld-wthn--wrld f thvs, bndts, prsttts, drg-pddlrs, ndrcktrs f vry dscrptn; bt snc t ll hppnd mng th prlsthmslvs, t ws f n mprtnc. n ll qstns f mrls thy wrllwd t fllw thr ncstrl cd. Th sxl prtnsm f thPrty ws nt mpsd pn thm. Prmscty wnt npnshd, dvrcws prmttd. Fr tht mttr, vn rlgs wrshp wld hv bnprmttd f th prls hd shwn ny sgn f ndng r wntng t.Thy wr bnth sspcn. s th Prty slgn pt t: 'Prls ndnmls r fr.'Wnstn rchd dwn nd ctsly scrtchd hs vrcs lcr. thd bgn tchng gn. Th thng y nvrbly cm bck t ws thmpssblty f knwng wht lf bfr th Rvltn hd rlly bnlk. H tk t f th drwr  cpy f  chldrn's hstry txtbkwhch h hd brrwd frm Mrs Prsns, nd bgn cpyng  pssg ntth dry:   n th ld dys (t rn), bfr th glrs Rvltn, Lndn wsnt th btfl cty tht w knw tdy. t ws  drk, drty, msrblplc whr hrdly nybdy hd ngh t t nd whr hndrds ndthsnds f pr ppl hd n bts n thr ft nd nt vn  rf tslp ndr. Chldrn n ldr thn y hd t wrk twlv hrs  dy frcrl mstrs wh flggd thm wth whps f thy wrkd t slwly ndfd thm n nthng bt stl brdcrsts nd wtr. Bt n mng llths trrbl pvrty thr wr jst  fw grt bg btfl hsstht wr lvd n by rch mn wh hd s mny s thrty srvnts t lkftr thm. Ths rch mn wr clld cptlsts. Thy wr ft, glymn wth wckd fcs, lk th n n th pctr n th ppst pg.Y cn s tht h s drssd n  lng blck ct whch ws clld frck ct, nd  qr, shny ht shpd lk  stvpp, whch wsclld  tp ht. Ths ws th nfrm f th cptlsts, nd n n lsws llwd t wr t. Th cptlsts wnd vrythng n th wrld, ndvryn ls ws thr slv. Thy wnd ll th lnd, ll th hss,ll th fctrs, nd ll th mny. f nyn dsbyd thm thy cldthrw thm nt prsn, r thy cld tk hs jb wy nd strv hm tdth. Whn ny rdnry prsn spk t  cptlst h hd t crng ndbw t hm, nd tk ff hs cp nd ddrss hm s 'Sr'. Th chf fll th cptlsts ws clld th Kng, nd----Bt h knw th rst f th ctlg. Thr wld b mntn f thbshps n thr lwn slvs, th jdgs n thr rmn rbs, thpllry, th stcks, th trdmll, th ct-'-nn tls, th Lrd Myr'sBnqt, nd th prctc f kssng th Pp's t. Thr ws lssmthng clld th JS PRM NCTS, whch wld prbbly nt bmntnd n  txtbk fr chldrn. t ws th lw by whch vrycptlst hd th rght t slp wth ny wmn wrkng n n f hsfctrs.Hw cld y tll hw mch f t ws ls? t MGHT b tr tht thvrg hmn bng ws bttr ff nw thn h hd bn bfr thRvltn. Th nly vdnc t th cntrry ws th mt prtst n yrwn bns, th nstnctv flng tht th cndtns y lvd n wrntlrbl nd tht t sm thr tm thy mst hv bn dffrnt. tstrck hm tht th trly chrctrstc thng bt mdrn lf ws ntts crlty nd nscrty, bt smply ts brnss, ts dngnss, tslstlssnss. Lf, f y lkd bt y, br n rsmblnc nt nlyt th ls tht strmd t f th tlscrns, bt vn t th dlstht th Prty ws tryng t chv. Grt rs f t, vn fr  Prtymmbr, wr ntrl nd nn-pltcl,  mttr f slggng thrgh drryjbs, fghtng fr  plc n th Tb, drnng  wrn-t sck, cdgng scchrn tblt, svng  cgrtt nd. Th dl st p by thPrty ws smthng hg, trrbl, nd glttrng-- wrld f stlnd cncrt, f mnstrs mchns nd trrfyng wpns-- ntn fwrrrs nd fntcs, mrchng frwrd n prfct nty, ll thnkng thsm thghts nd shtng th sm slgns, prptlly wrkng, fghtng,trmphng, prsctng--thr hndrd mlln ppl ll wth th smfc. Th rlty ws dcyng, dngy cts whr ndrfd ppl shffldt nd fr n lky shs, n ptchd-p nntnth-cntry hss thtsmlt lwys f cbbg nd bd lvtrs. H smd t s  vsn fLndn, vst nd rns, cty f  mlln dstbns, nd mxd p wth tws  pctr f Mrs Prsns,  wmn wth lnd fc nd wspy hr,fddlng hlplssly wth  blckd wst-pp.H rchd dwn nd scrtchd hs nkl gn. Dy nd nght thtlscrns brsd yr rs wth sttstcs prvng tht ppl tdyhd mr fd, mr clths, bttr hss, bttr rcrtns--tht thylvd lngr, wrkd shrtr hrs, wr bggr, hlthr, strngr,hppr, mr ntllgnt, bttr dctd, thn th ppl f ffty yrsg. Nt  wrd f t cld vr b prvd r dsprvd. Th Prty clmd,fr xmpl, tht tdy 40 pr cnt f dlt prls wr ltrt: bfrth Rvltn, t ws sd, th nmbr hd nly bn 15 pr cnt. ThPrty clmd tht th nfnt mrtlty rt ws nw nly 160 prthsnd, whrs bfr th Rvltn t hd bn 300--nd s t wntn. t ws lk  sngl qtn wth tw nknwns. t mght vry wll btht ltrlly vry wrd n th hstry bks, vn th thngs tht nccptd wtht qstn, ws pr fntsy. Fr ll h knw thr mghtnvr hv bn ny sch lw s th JS PRM NCTS, r ny sch crtrs  cptlst, r ny sch grmnt s  tp ht.vrythng fdd nt mst. Th pst ws rsd, th rsr ws frgttn,th l bcm trth. Jst nc n hs lf h hd pssssd--FTR thvnt: tht ws wht cntd--cncrt, nmstkbl vdnc f n ct fflsfctn. H hd hld t btwn hs fngrs fr s lng s thrtyscnds. n 1973, t mst hv bn--t ny rt, t ws t bt th tmwhn h nd Kthrn hd prtd. Bt th rlly rlvnt dt ws svnr ght yrs rlr.Th stry rlly bgn n th mddl sxts, th prd f th grtprgs n whch th rgnl ldrs f th Rvltn wr wpd tnc nd fr ll. By 1970 nn f thm ws lft, xcpt Bg Brthrhmslf. ll th rst hd by tht tm bn xpsd s trtrs ndcntr-rvltnrs. Gldstn hd fld nd ws hdng n n knwwhr, nd f th thrs,  fw hd smply dspprd, whl th mjrtyhd bn xctd ftr spctclr pblc trls t whch thy mdcnfssn f thr crms. mng th lst srvvrs wr thr mn nmdJns, rnsn, nd Rthrfrd. t mst hv bn n 1965 tht ths thrhd bn rrstd. s ftn hppnd, thy hd vnshd fr  yr r mr,s tht n dd nt knw whthr thy wr lv r dd, nd thn hdsddnly bn brght frth t ncrmnt thmslvs n th sl wy.Thy hd cnfssd t ntllgnc wth th nmy (t tht dt, t, thnmy ws rs), mbzzlmnt f pblc fnds, th mrdr f vrstrstd Prty mmbrs, ntrgs gnst th ldrshp f Bg Brthrwhch hd strtd lng bfr th Rvltn hppnd, nd cts f sbtgcsng th dth f hndrds f thsnds f ppl. ftr cnfssng tths thngs thy hd bn prdnd, rnsttd n th Prty, nd gvnpsts whch wr n fct sncrs bt whch sndd mprtnt. ll thrhd wrttn lng, bjct rtcls n 'Th Tms', nlysng th rsnsfr thr dfctn nd prmsng t mk mnds.Sm tm ftr thr rls Wnstn hd ctlly sn ll thr f thmn th Chstnt Tr Cf. H rmmbrd th srt f trrfd fscntnwth whch h hd wtchd thm t f th crnr f hs y. Thy wr mnfr ldr thn hmslf, rlcs f th ncnt wrld, lmst th lst grtfgrs lft vr frm th hrc dys f th Prty. Th glmr f thndrgrnd strggl nd th cvl wr stll fntly clng t thm. H hdth flng, thgh lrdy t tht tm fcts nd dts wr grwngblrry, tht h hd knwn thr nms yrs rlr thn h hd knwn thtf Bg Brthr. Bt ls thy wr tlws, nms, ntchbls, dmdwth bslt crtnty t xtnctn wthn  yr r tw. N n wh hdnc flln nt th hnds f th Thght Plc vr scpd n th nd.Thy wr crpss wtng t b snt bck t th grv.Thr ws n n t ny f th tbls nrst t thm. t ws nt wsvn t b sn n th nghbrhd f sch ppl. Thy wr sttngn slnc bfr glsss f th gn flvrd wth clvs whch ws thspclty f th cf. f th thr, t ws Rthrfrd whs pprnchd mst mprssd Wnstn. Rthrfrd hd nc bn  fms crctrst,whs brtl crtns hd hlpd t nflm pplr pnn bfr nddrng th Rvltn. vn nw, t lng ntrvls, hs crtns wrpprng n Th Tms. Thy wr smply n mttn f hs rlrmnnr, nd crsly lflss nd ncnvncng. lwys thy wr rhshng f th ncnt thms--slm tnmnts, strvng chldrn, strtbttls, cptlsts n tp hts--vn n th brrcds th cptlstsstll smd t clng t thr tp hts n ndlss, hplss ffrt tgt bck nt th pst. H ws  mnstrs mn, wth  mn f grsygry hr, hs fc pchd nd smd, wth thck ngrd lps. t ntm h mst hv bn mmnsly strng; nw hs grt bdy ws sggng,slpng, blgng, fllng wy n vry drctn. H smd t b brkngp bfr n's ys, lk  mntn crmblng.t ws th lnly hr f fftn. Wnstn cld nt nw rmmbr hw hhd cm t b n th cf t sch  tm. Th plc ws lmst mpty. tnny msc ws trcklng frm th tlscrns. Th thr mn st n thrcrnr lmst mtnlss, nvr spkng. ncmmndd, th wtr brghtfrsh glsss f gn. Thr ws  chssbrd n th tbl bsd thm, wthth pcs st t bt n gm strtd. nd thn, fr prhps hlf  mntn ll, smthng hppnd t th tlscrns. Th tn tht thy wrplyng chngd, nd th tn f th msc chngd t. Thr cm ntt--bt t ws smthng hrd t dscrb. t ws  pclr, crckd,bryng, jrng nt: n hs mnd Wnstn clld t  yllw nt. ndthn  vc frm th tlscrn ws sngng:  ndr th sprdng chstnt tr   sld y nd y sld m:  Thr l thy, nd hr l w  ndr th sprdng chstnt tr.Th thr mn nvr strrd. Bt whn Wnstn glncd gn t Rthrfrd'srns fc, h sw tht hs ys wr fll f trs. nd fr th frsttm h ntcd, wth  knd f nwrd shddr, nd yt nt knwngT WHT h shddrd, tht bth rnsn nd Rthrfrd hd brkn nss. lttl ltr ll thr wr r-rrstd. t pprd tht thy hdnggd n frsh cnsprcs frm th vry mmnt f thr rls. tthr scnd trl thy cnfssd t ll thr ld crms vr gn, wth whl strng f nw ns. Thy wr xctd, nd thr ft ws rcrddn th Prty hstrs,  wrnng t pstrty. bt fv yrs ftrths, n 1973, Wnstn ws nrllng  wd f dcmnts whch hd jstflppd t f th pnmtc tb n t hs dsk whn h cm n  frgmntf ppr whch hd vdntly bn slppd n mng th thrs nd thnfrgttn. Th nstnt h hd flttnd t t h sw ts sgnfcnc.t ws  hlf-pg trn t f 'Th Tms' f bt tn yrs rlr--thtp hlf f th pg, s tht t ncldd th dt--nd t cntnd phtgrph f th dlgts t sm Prty fnctn n Nw Yrk. Prmnntn th mddl f th grp wr Jns, rnsn, nd Rthrfrd. Thr wsn mstkng thm, n ny cs thr nms wr n th cptn t thbttm.Th pnt ws tht t bth trls ll thr mn hd cnfssd tht n thtdt thy hd bn n rsn sl. Thy hd flwn frm  scrt rfldn Cnd t  rndzvs smwhr n Sbr, nd hd cnfrrd wthmmbrs f th rsn Gnrl Stff, t whm thy hd btryd mprtntmltry scrts. Th dt hd stck n Wnstn's mmry bcs t chncdt b mdsmmr dy; bt th whl stry mst b n rcrd n cntlssthr plcs s wll. Thr ws nly n pssbl cnclsn: thcnfssns wr ls.f crs, ths ws nt n tslf  dscvry. vn t tht tm Wnstnhd nt mgnd tht th ppl wh wr wpd t n th prgs hdctlly cmmttd th crms tht thy wr ccsd f. Bt ths wscncrt vdnc; t ws  frgmnt f th blshd pst, lk  fsslbn whch trns p n th wrng strtm nd dstrys  glgcl thry.t ws ngh t blw th Prty t tms, f n sm wy t cld hvbn pblshd t th wrld nd ts sgnfcnc md knwn.H hd gn strght n wrkng. s sn s h sw wht th phtgrphws, nd wht t mnt, h hd cvrd t p wth nthr sht f ppr.Lckly, whn h nrlld t, t hd bn psd-dwn frm th pnt fvw f th tlscrn.H tk hs scrbblng pd n hs kn nd pshd bck hs chr s st gt s fr wy frm th tlscrn s pssbl. T kp yr fcxprssnlss ws nt dffclt, nd vn yr brthng cld bcntrlld, wth n ffrt: bt y cld nt cntrl th btng f yrhrt, nd th tlscrn ws qt dlct ngh t pck t p. H ltwht h jdgd t b tn mnts g by, trmntd ll th whl by thfr tht sm ccdnt-- sddn drght blwng crss hs dsk, frnstnc--wld btry hm. Thn, wtht ncvrng t gn, h drppdth phtgrph nt th mmry hl, lng wth sm thr wst pprs.Wthn nthr mnt, prhps, t wld hv crmbld nt shs.Tht ws tn--lvn yrs g. Tdy, prbbly, h wld hv kpt thtphtgrph. t ws crs tht th fct f hvng hld t n hs fngrssmd t hm t mk  dffrnc vn nw, whn th phtgrph tslf,s wll s th vnt t rcrdd, ws nly mmry. Ws th Prty's hldpn th pst lss strng, h wndrd, bcs  pc f vdnc whchxstd n lngr HD NC xstd?Bt tdy, sppsng tht t cld b smhw rsrrctd frm ts shs,th phtgrph mght nt vn b vdnc. lrdy, t th tm whn hmd hs dscvry, cn ws n lngr t wr wth rs, nd t msthv bn t th gnts f sts tht th thr dd mn hd btrydthr cntry. Snc thn thr hd bn thr chngs--tw, thr,h cld nt rmmbr hw mny. Vry lkly th cnfssns hd bnrwrttn nd rwrttn ntl th rgnl fcts nd dts n lngrhd th smllst sgnfcnc. Th pst nt nly chngd, bt chngdcntnsly. Wht mst fflctd hm wth th sns f nghtmr ws thth hd nvr clrly ndrstd why th hg mpstr ws ndrtkn.Th mmdt dvntgs f flsfyng th pst wr bvs, bt thltmt mtv ws mystrs. H tk p hs pn gn nd wrt:    ndrstnd HW:  d nt ndrstnd WHY.H wndrd, s h hd mny tms wndrd bfr, whthr h hmslf ws lntc. Prhps  lntc ws smply  mnrty f n. t n tm thd bn  sgn f mdnss t blv tht th rth gs rnd th sn;tdy, t blv tht th pst s nltrbl. H mght b LN nhldng tht blf, nd f ln, thn  lntc. Bt th thght f bng lntc dd nt grtly trbl hm: th hrrr ws tht h mght lsb wrng.H pckd p th chldrn's hstry bk nd lkd t th prtrt fBg Brthr whch frmd ts frntspc. Th hypntc ys gzd nths wn. t ws s thgh sm hg frc wr prssng dwn pny--smthng tht pntrtd nsd yr skll, bttrng gnst yrbrn, frghtnng y t f yr blfs, prsdng y, lmst, tdny th vdnc f yr snss. n th nd th Prty wld nnnc thttw nd tw md fv, nd y wld hv t blv t. t ws nvtbltht thy shld mk tht clm snr r ltr: th lgc f thrpstn dmndd t. Nt mrly th vldty f xprnc, bt th vryxstnc f xtrnl rlty, ws tctly dnd by thr phlsphy. Thhrsy f hrss ws cmmn sns. nd wht ws trrfyng ws nt thtthy wld kll y fr thnkng thrws, bt tht thy mght b rght.Fr, ftr ll, hw d w knw tht tw nd tw mk fr? r tht thfrc f grvty wrks? r tht th pst s nchngbl? f bth th pstnd th xtrnl wrld xst nly n th mnd, nd f th mnd tslf scntrllbl wht thn?Bt n! Hs crg smd sddnly t stffn f ts wn ccrd. Th fcf 'Brn, nt clld p by ny bvs ssctn, hd fltd nt hsmnd. H knw, wth mr crtnty thn bfr, tht 'Brn ws n hssd. H ws wrtng th dry fr 'Brn--T 'Brn: t ws lk nntrmnbl lttr whch n n wld vr rd, bt whch ws ddrssdt  prtclr prsn nd tk ts clr frm tht fct.Th Prty tld y t rjct th vdnc f yr ys nd rs. t wsthr fnl, mst ssntl cmmnd. Hs hrt snk s h thght fth nrms pwr rryd gnst hm, th s wth whch ny Prtyntllctl wld vrthrw hm n dbt, th sbtl rgmnts whch hwld nt b bl t ndrstnd, mch lss nswr. nd yt h ws n thrght! Thy wr wrng nd h ws rght. Th bvs, th slly, nd thtr hd gt t b dfndd. Trsms r tr, hld n t tht! Th sldwrld xsts, ts lws d nt chng. Stns r hrd, wtr s wt,bjcts nspprtd fll twrds th rth's cntr. Wth th flng thth ws spkng t 'Brn, nd ls tht h ws sttng frth n mprtntxm, h wrt:   Frdm s th frdm t sy tht tw pls tw mk fr. f tht sgrntd, ll ls fllws.\n"
     ]
    }
   ],
   "source": [
    "def main():\n",
    "\n",
    "    content, words, lines = get_book()\n",
    "    text_without_char = get_chapter_without_char(lines, 7, 8)\n",
    "    print(len(text_without_char), text_without_char)\n",
    "\n",
    "main()"
   ]
  },
  {
   "cell_type": "code",
   "execution_count": null,
   "metadata": {},
   "outputs": [],
   "source": [
    "#     with open('pride-and-prejudice.txt') as p_and_p:\n",
    "#         p_text = p_and_p.read()\n",
    "#         p_lines = p_text.splitlines()\n",
    "#         p_words = p_text.split()\n",
    "\n",
    "#     sum_of_chapters = get_sum_of_chapters(lines, words)\n",
    "#     print(sum_of_chapters)\n",
    "#     sum_of_p_chapters = get_sum_of_chapters(p_lines, p_words)\n",
    "#     found_word = find_word(words, 'Winston')\n",
    "#     found_p_word = find_word(p_words, 'Elizabeth')\n",
    "#     grn_gls_door = [word.lower() for word in words if green_glass_door(word)]\n",
    "#     p_grn_gls_door = [p_word for p_word in p_words if green_glass_door(p_word)]\n",
    "#     \n",
    "#     c = Counter(grn_gls_door)\n",
    "#     print(c.most_common)\n",
    "#     p_text_without_char = get_chapter_without_char(p_lines, 1, 2)\n",
    "#     print(len(text_without_char), ' '.join(text_without_char))\n",
    "#     h = get_chapter_without_char(lines, 1, 2)\n",
    "#     print(h)"
   ]
  }
 ],
 "metadata": {
  "kernelspec": {
   "display_name": "Python 3",
   "language": "python",
   "name": "python3"
  },
  "language_info": {
   "codemirror_mode": {
    "name": "ipython",
    "version": 3
   },
   "file_extension": ".py",
   "mimetype": "text/x-python",
   "name": "python",
   "nbconvert_exporter": "python",
   "pygments_lexer": "ipython3",
   "version": "3.7.0"
  }
 },
 "nbformat": 4,
 "nbformat_minor": 2
}
