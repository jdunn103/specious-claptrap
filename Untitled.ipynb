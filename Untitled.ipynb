{
 "cells": [
  {
   "cell_type": "code",
   "execution_count": 81,
   "metadata": {},
   "outputs": [
    {
     "name": "stdout",
     "output_type": "stream",
     "text": [
      "1\n",
      "2\n",
      "2\n"
     ]
    }
   ],
   "source": [
    "def f1():\n",
    "    try:\n",
    "        print('1')\n",
    "        return 1\n",
    "    finally:\n",
    "        print('2')\n",
    "        return 2\n",
    " \n",
    "x=f1()\n",
    "print(x)"
   ]
  },
  {
   "cell_type": "code",
   "execution_count": 267,
   "metadata": {},
   "outputs": [
    {
     "data": {
      "text/plain": [
       "'Mango'"
      ]
     },
     "execution_count": 267,
     "metadata": {},
     "output_type": "execute_result"
    }
   ],
   "source": [
    "import random\n",
    "fruits=['Apple','Mango','Orange','Lemon']\n",
    "random.sample(fruits, 1)[0]\n",
    "# int(random.random()*10)"
   ]
  },
  {
   "cell_type": "code",
   "execution_count": 99,
   "metadata": {},
   "outputs": [
    {
     "name": "stdout",
     "output_type": "stream",
     "text": [
      "Java\n",
      "Scala\n",
      "Python\n"
     ]
    }
   ],
   "source": [
    "courses={1:'Java',2:'Scala',3:'Python'}\n",
    "for i in courses:\n",
    "    print(courses[i])"
   ]
  },
  {
   "cell_type": "code",
   "execution_count": 111,
   "metadata": {},
   "outputs": [
    {
     "data": {
      "text/plain": [
       "'Charlie'"
      ]
     },
     "execution_count": 111,
     "metadata": {},
     "output_type": "execute_result"
    }
   ],
   "source": [
    "class Animal():\n",
    "    name = 'Charlie'\n",
    "class Dog(Animal):\n",
    "    tail = True\n",
    "class TailessDog(Dog):\n",
    "    tail = False\n",
    "a = TailessDog()\n",
    "a.name"
   ]
  },
  {
   "cell_type": "code",
   "execution_count": 130,
   "metadata": {},
   "outputs": [
    {
     "name": "stdout",
     "output_type": "stream",
     "text": [
      "Haha\n",
      "after Haha\n",
      "before\n",
      "Haha\n",
      "after Haha\n",
      "before\n",
      "Haha\n",
      "after Haha\n",
      "before\n",
      "\n"
     ]
    }
   ],
   "source": [
    "with open('dummy_text.txt', 'a+') as f:\n",
    "    f.write('Haha\\n')\n",
    "    f.write('after Haha\\n')\n",
    "    f.seek(0)\n",
    "    f.write('before\\n')\n",
    "    f.seek(0)\n",
    "    print(f.read())"
   ]
  }
 ],
 "metadata": {
  "kernelspec": {
   "display_name": "Python 3",
   "language": "python",
   "name": "python3"
  },
  "language_info": {
   "codemirror_mode": {
    "name": "ipython",
    "version": 3
   },
   "file_extension": ".py",
   "mimetype": "text/x-python",
   "name": "python",
   "nbconvert_exporter": "python",
   "pygments_lexer": "ipython3",
   "version": "3.7.0"
  }
 },
 "nbformat": 4,
 "nbformat_minor": 2
}
