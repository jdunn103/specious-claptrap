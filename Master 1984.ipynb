{
 "cells": [
  {
   "cell_type": "markdown",
   "metadata": {},
   "source": [
    "# **1984**"
   ]
  },
  {
   "cell_type": "markdown",
   "metadata": {},
   "source": [
    "### Import "
   ]
  },
  {
   "cell_type": "code",
   "execution_count": 2,
   "metadata": {},
   "outputs": [],
   "source": [
    "import requests\n",
    "import re\n",
    "from copy import copy\n",
    "from collections import Counter"
   ]
  },
  {
   "cell_type": "markdown",
   "metadata": {},
   "source": [
    "### Get Book"
   ]
  },
  {
   "cell_type": "code",
   "execution_count": 3,
   "metadata": {},
   "outputs": [],
   "source": [
    "def get_book(link):\n",
    "    content = requests.get(link)\n",
    "    words = re.split(\"[^\\w']+\",content.text)\n",
    "    lines = content.text.splitlines()\n",
    "    return (content.text, words, lines)"
   ]
  },
  {
   "cell_type": "markdown",
   "metadata": {},
   "source": [
    "### Get Sum of Chapters and Num of Chapters"
   ]
  },
  {
   "cell_type": "code",
   "execution_count": null,
   "metadata": {},
   "outputs": [],
   "source": [
    "def get_sum_and_num_of_chapters(lines):\n",
    "    chapter_nums = 0\n",
    "    number_of_chapters = 0\n",
    "    for line in lines:\n",
    "        if line[:7] == 'Chapter' and line[8:].isdigit():\n",
    "            chapter_nums += int(line[8:])\n",
    "            number_of_chapters += 1\n",
    "    return (chapter_nums, number_of_chapters)"
   ]
  },
  {
   "cell_type": "markdown",
   "metadata": {},
   "source": [
    "**Maps to sections:**\n",
    "* I.1.A. convert from one data type to another\n",
    "* I.1.C. perform indexing and slicing operations ([ ] and [ : ])"
   ]
  },
  {
   "cell_type": "markdown",
   "metadata": {},
   "source": [
    "### Find Word"
   ]
  },
  {
   "cell_type": "code",
   "execution_count": null,
   "metadata": {},
   "outputs": [],
   "source": [
    "def find_word(words, search_word):\n",
    "    '''Finds number of words containing search_word in words'''\n",
    "    searched_word = [word for word in words if search_word.lower() in word.lower()]\n",
    "    return len(searched_word)"
   ]
  },
  {
   "cell_type": "markdown",
   "metadata": {},
   "source": [
    "### Green Glass Door"
   ]
  },
  {
   "cell_type": "code",
   "execution_count": null,
   "metadata": {},
   "outputs": [],
   "source": [
    "def green_glass_door(word):\n",
    "    '''\n",
    "        Returns True if word contains a double letter\n",
    "         - 'yellow' and 'green' return True\n",
    "         - 'blue' and 'red' return False\n",
    "    '''\n",
    "    for i, letter in enumerate(word[1:]):\n",
    "        if letter.lower() == word[i].lower():\n",
    "            return True\n",
    "    return False   \n",
    "\n",
    "def green_glass_door_2(word):\n",
    "    last_letter = ''\n",
    "    for letter in word:\n",
    "        if letter.lower() == last_letter.lower():\n",
    "            return True\n",
    "        last_letter = letter\n",
    "    return False"
   ]
  },
  {
   "cell_type": "code",
   "execution_count": null,
   "metadata": {},
   "outputs": [],
   "source": [
    "# Green Glass Door Tests\n",
    "should_pass = ['yellow', 'green', 'mommy', 'Llama']\n",
    "should_fail = ['red', 'blue', 'mother', 'Emu']\n",
    "for word in should_pass:\n",
    "    if not green_glass_door(word):\n",
    "        print(word, 'failed. Should have passed. green_glass_door')\n",
    "    if not green_glass_door_2(word):\n",
    "        print(word, 'failed. Should have passed.green_glass_door_2')\n",
    "\n",
    "for word in should_fail:\n",
    "    if green_glass_door(word):\n",
    "        print(word, 'passed. Should have failed. green_glass_door')\n",
    "    if green_glass_door_2(word):\n",
    "        print(word, 'failed. Should have failed. green_glass_door_2')"
   ]
  },
  {
   "cell_type": "markdown",
   "metadata": {},
   "source": [
    "### Get Chapter Without Character"
   ]
  },
  {
   "cell_type": "code",
   "execution_count": null,
   "metadata": {},
   "outputs": [],
   "source": [
    "def get_chapter_without_char(lines, start_chapter, stop_chapter, char='aeiou'):\n",
    "    true_or_false = False    \n",
    "    text_without_char = []\n",
    "    for line in lines: \n",
    "        if (f'Chapter {start_chapter}') in line:\n",
    "            true_or_false = True\n",
    "        elif (f'Chapter {stop_chapter}') in line:\n",
    "            true_or_false = False\n",
    "            break\n",
    "        if not true_or_false:\n",
    "            continue\n",
    "        while true_or_false:\n",
    "            for word in line.split():\n",
    "                text_without_char.append(re.sub(f'[{char}]', '', word, flags=re.IGNORECASE))\n",
    "            break\n",
    "            \n",
    "    return ' '.join(text_without_char)\n",
    "    \n",
    "def no_vowels(words):\n",
    "    vowels = ['a', 'e', 'i', 'o', 'u']\n",
    "    words_no_vowels = []\n",
    "    for word in words:\n",
    "        word.lower()\n",
    "        no_vowel = ''\n",
    "        for letter in word:\n",
    "            if letter not in vowels:\n",
    "                no_vowel += letter\n",
    "        words_no_vowels.append(no_vowel)\n",
    "        \n",
    "    return words_no_vowels"
   ]
  },
  {
   "cell_type": "markdown",
   "metadata": {},
   "source": [
    "### Main"
   ]
  },
  {
   "cell_type": "code",
   "execution_count": 1,
   "metadata": {},
   "outputs": [
    {
     "ename": "NameError",
     "evalue": "name 'get_book' is not defined",
     "output_type": "error",
     "traceback": [
      "\u001b[1;31m---------------------------------------------------------------------------\u001b[0m",
      "\u001b[1;31mNameError\u001b[0m                                 Traceback (most recent call last)",
      "\u001b[1;32m<ipython-input-1-483e3a978228>\u001b[0m in \u001b[0;36m<module>\u001b[1;34m()\u001b[0m\n\u001b[0;32m     16\u001b[0m \u001b[1;33m\u001b[0m\u001b[0m\n\u001b[0;32m     17\u001b[0m \u001b[1;33m\u001b[0m\u001b[0m\n\u001b[1;32m---> 18\u001b[1;33m \u001b[0mmain\u001b[0m\u001b[1;33m(\u001b[0m\u001b[1;33m)\u001b[0m\u001b[1;33m\u001b[0m\u001b[0m\n\u001b[0m",
      "\u001b[1;32m<ipython-input-1-483e3a978228>\u001b[0m in \u001b[0;36mmain\u001b[1;34m()\u001b[0m\n\u001b[0;32m      1\u001b[0m \u001b[1;32mdef\u001b[0m \u001b[0mmain\u001b[0m\u001b[1;33m(\u001b[0m\u001b[1;33m)\u001b[0m\u001b[1;33m:\u001b[0m\u001b[1;33m\u001b[0m\u001b[0m\n\u001b[1;32m----> 2\u001b[1;33m     \u001b[0mcontent\u001b[0m\u001b[1;33m,\u001b[0m \u001b[0mwords\u001b[0m\u001b[1;33m,\u001b[0m \u001b[0mlines\u001b[0m \u001b[1;33m=\u001b[0m \u001b[0mget_book\u001b[0m\u001b[1;33m(\u001b[0m\u001b[1;34m'http://gutenberg.net.au/ebooks01/0100021.txt'\u001b[0m\u001b[1;33m)\u001b[0m\u001b[1;33m\u001b[0m\u001b[0m\n\u001b[0m\u001b[0;32m      3\u001b[0m     \u001b[0msum_of_chapters\u001b[0m\u001b[1;33m,\u001b[0m \u001b[0mnum_of_chapters\u001b[0m \u001b[1;33m=\u001b[0m \u001b[0mget_sum_and_num_of_chapters\u001b[0m\u001b[1;33m(\u001b[0m\u001b[0mlines\u001b[0m\u001b[1;33m)\u001b[0m\u001b[1;33m\u001b[0m\u001b[0m\n\u001b[0;32m      4\u001b[0m     \u001b[0msearch_word\u001b[0m \u001b[1;33m=\u001b[0m \u001b[0minput\u001b[0m\u001b[1;33m(\u001b[0m\u001b[1;34m'What word would you like to look for?'\u001b[0m\u001b[1;33m)\u001b[0m\u001b[1;33m\u001b[0m\u001b[0m\n\u001b[0;32m      5\u001b[0m     \u001b[0mfound_word\u001b[0m \u001b[1;33m=\u001b[0m \u001b[0mfind_word\u001b[0m\u001b[1;33m(\u001b[0m\u001b[0mwords\u001b[0m\u001b[1;33m,\u001b[0m \u001b[0msearch_word\u001b[0m\u001b[1;33m)\u001b[0m\u001b[1;33m\u001b[0m\u001b[0m\n",
      "\u001b[1;31mNameError\u001b[0m: name 'get_book' is not defined"
     ]
    }
   ],
   "source": [
    "def main():\n",
    "    content, words, lines = get_book('http://gutenberg.net.au/ebooks01/0100021.txt')\n",
    "    sum_of_chapters, num_of_chapters = get_sum_and_num_of_chapters(lines)\n",
    "    search_word = input('What word would you like to look for?')\n",
    "    found_word = find_word(words, search_word)\n",
    "    grn_gls_door = [word.lower() for word in words if green_glass_door(word)]\n",
    "    c = Counter(grn_gls_door)\n",
    "    print(c.most_common)\n",
    "    text_without_char = get_chapter_without_char(lines, 7, 8)\n",
    "    print(len(text_without_char), ' '.join(text_without_char))\n",
    "    h = get_chapter_without_char(lines, 1, 2)\n",
    "    print(h)\n",
    "    yeah = no_vowels()\n",
    "    print(yeah)\n",
    "    \n",
    "    \n",
    "    \n",
    "main()"
   ]
  }
 ],
 "metadata": {
  "kernelspec": {
   "display_name": "Python 3",
   "language": "python",
   "name": "python3"
  },
  "language_info": {
   "codemirror_mode": {
    "name": "ipython",
    "version": 3
   },
   "file_extension": ".py",
   "mimetype": "text/x-python",
   "name": "python",
   "nbconvert_exporter": "python",
   "pygments_lexer": "ipython3",
   "version": "3.7.0"
  }
 },
 "nbformat": 4,
 "nbformat_minor": 2
}
