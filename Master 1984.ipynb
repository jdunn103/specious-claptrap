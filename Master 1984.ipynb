{
 "cells": [
  {
   "cell_type": "markdown",
   "metadata": {},
   "source": [
    "# **1984**"
   ]
  },
  {
   "cell_type": "markdown",
   "metadata": {},
   "source": [
    "### Import "
   ]
  },
  {
   "cell_type": "code",
   "execution_count": 6,
   "metadata": {},
   "outputs": [],
   "source": [
    "import requests\n",
    "import re\n",
    "from copy import copy\n",
    "from collections import Counter"
   ]
  },
  {
   "cell_type": "markdown",
   "metadata": {},
   "source": [
    "### Get Book"
   ]
  },
  {
   "cell_type": "code",
   "execution_count": 4,
   "metadata": {},
   "outputs": [],
   "source": [
    "def get_book(link):\n",
    "    content = requests.get(link)\n",
    "    words = re.split(\"[^\\w']+\",content.text)\n",
    "    lines = content.text.splitlines()\n",
    "    return (content.text, words, lines)"
   ]
  },
  {
   "cell_type": "markdown",
   "metadata": {},
   "source": [
    "### Get Sum of Chapters and Num of Chapters"
   ]
  },
  {
   "cell_type": "code",
   "execution_count": null,
   "metadata": {},
   "outputs": [],
   "source": [
    "def get_sum_and_num_of_chapters(lines):\n",
    "    ''' Gets the sum of the chapter numbers and finds the number of chapters '''\n",
    "    chapter_sums = 0\n",
    "    number_of_chapters = 0\n",
    "    for line in lines:\n",
    "        if line[:7] == 'Chapter' and line[8:].isdigit():\n",
    "            chapter_sums += int(line[8:])\n",
    "            number_of_chapters += 1\n",
    "        else:\n",
    "            pass\n",
    "    return (chapter_sums, number_of_chapters)"
   ]
  },
  {
   "cell_type": "markdown",
   "metadata": {},
   "source": [
    "**Maps to sections:**\n",
    "* I.1.A. convert from one data type to another\n",
    "* I.1.C. perform indexing and slicing operations ([ ] and [ : ])"
   ]
  },
  {
   "cell_type": "markdown",
   "metadata": {},
   "source": [
    "### Find Word"
   ]
  },
  {
   "cell_type": "code",
   "execution_count": null,
   "metadata": {},
   "outputs": [],
   "source": [
    "def find_word(words, search_word):\n",
    "    '''Finds number of words containing search_word in words'''\n",
    "    searched_word = [word for word in words if search_word.lower() in word.lower()]\n",
    "    return len(searched_word)"
   ]
  },
  {
   "cell_type": "markdown",
   "metadata": {},
   "source": [
    "### Green Glass Door"
   ]
  },
  {
   "cell_type": "code",
   "execution_count": null,
   "metadata": {},
   "outputs": [],
   "source": [
    "def green_glass_door(word):\n",
    "    '''\n",
    "        Returns True if word contains a double letter\n",
    "         - 'yellow' and 'green' return True\n",
    "         - 'blue' and 'red' return False\n",
    "    '''\n",
    "    for i, letter in enumerate(word[1:]):\n",
    "        if letter.lower() == word[i].lower():\n",
    "            return True\n",
    "    return False   \n",
    "\n",
    "def green_glass_door_2(word):\n",
    "    last_letter = ''\n",
    "    for letter in word:\n",
    "        if letter.lower() == last_letter.lower():\n",
    "            return True\n",
    "        last_letter = letter\n",
    "    return False"
   ]
  },
  {
   "cell_type": "code",
   "execution_count": null,
   "metadata": {},
   "outputs": [],
   "source": [
    "# Green Glass Door Tests\n",
    "should_pass = ['yellow', 'green', 'mommy', 'Llama']\n",
    "should_fail = ['red', 'blue', 'mother', 'Emu']\n",
    "for word in should_pass:\n",
    "    if not green_glass_door(word):\n",
    "        print(word, 'failed. Should have passed. green_glass_door')\n",
    "    if not green_glass_door_2(word):\n",
    "        print(word, 'failed. Should have passed.green_glass_door_2')\n",
    "\n",
    "for word in should_fail:\n",
    "    if green_glass_door(word):\n",
    "        print(word, 'passed. Should have failed. green_glass_door')\n",
    "    if green_glass_door_2(word):\n",
    "        print(word, 'failed. Should have failed. green_glass_door_2')"
   ]
  },
  {
   "cell_type": "markdown",
   "metadata": {},
   "source": [
    "### Get Chapter Without Character"
   ]
  },
  {
   "cell_type": "code",
   "execution_count": null,
   "metadata": {},
   "outputs": [],
   "source": [
    "def get_chapter_without_char(lines, start_chapter, stop_chapter, char='aeiou'):\n",
    "    if stop_chapter <= start_chapter:\n",
    "        raise ValueError\n",
    "    true_or_false = False    \n",
    "    text_without_char = []\n",
    "    length_of_chap = 0\n",
    "    for line in lines: \n",
    "        if (f'Chapter {start_chapter}') in line: # Start\n",
    "            true_or_false = True\n",
    "        elif (f'Chapter {stop_chapter}') in line: # Stop\n",
    "            break\n",
    "            \n",
    "        if true_or_false:            \n",
    "            length_of_chap += len(line.split())\n",
    "            text_without_char.append(re.sub(f'[{char}]', '', line, flags=re.IGNORECASE))\n",
    "\n",
    "    if char == ' ':\n",
    "        return (''.join(text_without_char), length_of_chap)\n",
    "    else:\n",
    "        return (' '.join(text_without_char), length_of_chap)"
   ]
  },
  {
   "cell_type": "markdown",
   "metadata": {},
   "source": [
    "### Main"
   ]
  },
  {
   "cell_type": "code",
   "execution_count": 5,
   "metadata": {},
   "outputs": [
    {
     "ename": "NameError",
     "evalue": "name 'requests' is not defined",
     "output_type": "error",
     "traceback": [
      "\u001b[1;31m---------------------------------------------------------------------------\u001b[0m",
      "\u001b[1;31mNameError\u001b[0m                                 Traceback (most recent call last)",
      "\u001b[1;32m<ipython-input-5-00b69f51e8db>\u001b[0m in \u001b[0;36m<module>\u001b[1;34m()\u001b[0m\n\u001b[0;32m     14\u001b[0m  \u001b[0mprint\u001b[0m\u001b[1;33m(\u001b[0m\u001b[0mlength_of_chap\u001b[0m\u001b[1;33m,\u001b[0m \u001b[0mtext_without_char\u001b[0m\u001b[1;33m)\u001b[0m\u001b[1;33m\u001b[0m\u001b[0m\n\u001b[0;32m     15\u001b[0m \u001b[1;33m\u001b[0m\u001b[0m\n\u001b[1;32m---> 16\u001b[1;33m \u001b[0mmain\u001b[0m\u001b[1;33m(\u001b[0m\u001b[1;33m)\u001b[0m\u001b[1;33m\u001b[0m\u001b[0m\n\u001b[0m",
      "\u001b[1;32m<ipython-input-5-00b69f51e8db>\u001b[0m in \u001b[0;36mmain\u001b[1;34m()\u001b[0m\n\u001b[0;32m      1\u001b[0m \u001b[1;32mdef\u001b[0m \u001b[0mmain\u001b[0m\u001b[1;33m(\u001b[0m\u001b[1;33m)\u001b[0m\u001b[1;33m:\u001b[0m\u001b[1;33m\u001b[0m\u001b[0m\n\u001b[1;32m----> 2\u001b[1;33m  \u001b[0mcontent\u001b[0m\u001b[1;33m,\u001b[0m \u001b[0mwords\u001b[0m\u001b[1;33m,\u001b[0m \u001b[0mlines\u001b[0m \u001b[1;33m=\u001b[0m \u001b[0mget_book\u001b[0m\u001b[1;33m(\u001b[0m\u001b[1;34m'http://gutenberg.net.au/ebooks01/0100021.txt'\u001b[0m\u001b[1;33m)\u001b[0m\u001b[1;33m\u001b[0m\u001b[0m\n\u001b[0m\u001b[0;32m      3\u001b[0m  \u001b[0msum_of_chapters\u001b[0m\u001b[1;33m,\u001b[0m \u001b[0mnum_of_chapters\u001b[0m \u001b[1;33m=\u001b[0m \u001b[0mget_sum_and_num_of_chapters\u001b[0m\u001b[1;33m(\u001b[0m\u001b[0mlines\u001b[0m\u001b[1;33m)\u001b[0m\u001b[1;33m\u001b[0m\u001b[0m\n\u001b[0;32m      4\u001b[0m  \u001b[0msearch_word\u001b[0m \u001b[1;33m=\u001b[0m \u001b[0minput\u001b[0m\u001b[1;33m(\u001b[0m\u001b[1;34m'What word would you like to look for?'\u001b[0m\u001b[1;33m)\u001b[0m\u001b[1;33m\u001b[0m\u001b[0m\n\u001b[0;32m      5\u001b[0m  \u001b[0mfound_word\u001b[0m \u001b[1;33m=\u001b[0m \u001b[0mfind_word\u001b[0m\u001b[1;33m(\u001b[0m\u001b[0mwords\u001b[0m\u001b[1;33m,\u001b[0m \u001b[0msearch_word\u001b[0m\u001b[1;33m)\u001b[0m\u001b[1;33m\u001b[0m\u001b[0m\n",
      "\u001b[1;32m<ipython-input-4-1564eeda0d8f>\u001b[0m in \u001b[0;36mget_book\u001b[1;34m(link)\u001b[0m\n\u001b[0;32m      1\u001b[0m \u001b[1;32mdef\u001b[0m \u001b[0mget_book\u001b[0m\u001b[1;33m(\u001b[0m\u001b[0mlink\u001b[0m\u001b[1;33m)\u001b[0m\u001b[1;33m:\u001b[0m\u001b[1;33m\u001b[0m\u001b[0m\n\u001b[1;32m----> 2\u001b[1;33m     \u001b[0mcontent\u001b[0m \u001b[1;33m=\u001b[0m \u001b[0mrequests\u001b[0m\u001b[1;33m.\u001b[0m\u001b[0mget\u001b[0m\u001b[1;33m(\u001b[0m\u001b[0mlink\u001b[0m\u001b[1;33m)\u001b[0m\u001b[1;33m\u001b[0m\u001b[0m\n\u001b[0m\u001b[0;32m      3\u001b[0m     \u001b[0mwords\u001b[0m \u001b[1;33m=\u001b[0m \u001b[0mre\u001b[0m\u001b[1;33m.\u001b[0m\u001b[0msplit\u001b[0m\u001b[1;33m(\u001b[0m\u001b[1;34m\"[^\\w']+\"\u001b[0m\u001b[1;33m,\u001b[0m\u001b[0mcontent\u001b[0m\u001b[1;33m.\u001b[0m\u001b[0mtext\u001b[0m\u001b[1;33m)\u001b[0m\u001b[1;33m\u001b[0m\u001b[0m\n\u001b[0;32m      4\u001b[0m     \u001b[0mlines\u001b[0m \u001b[1;33m=\u001b[0m \u001b[0mcontent\u001b[0m\u001b[1;33m.\u001b[0m\u001b[0mtext\u001b[0m\u001b[1;33m.\u001b[0m\u001b[0msplitlines\u001b[0m\u001b[1;33m(\u001b[0m\u001b[1;33m)\u001b[0m\u001b[1;33m\u001b[0m\u001b[0m\n\u001b[0;32m      5\u001b[0m     \u001b[1;32mreturn\u001b[0m \u001b[1;33m(\u001b[0m\u001b[0mcontent\u001b[0m\u001b[1;33m.\u001b[0m\u001b[0mtext\u001b[0m\u001b[1;33m,\u001b[0m \u001b[0mwords\u001b[0m\u001b[1;33m,\u001b[0m \u001b[0mlines\u001b[0m\u001b[1;33m)\u001b[0m\u001b[1;33m\u001b[0m\u001b[0m\n",
      "\u001b[1;31mNameError\u001b[0m: name 'requests' is not defined"
     ]
    }
   ],
   "source": [
    "def main():\n",
    "    content, words, lines = get_book('http://gutenberg.net.au/ebooks01/0100021.txt')\n",
    "    sum_of_chapters, num_of_chapters = get_sum_and_num_of_chapters(lines)\n",
    "    search_word = input('What word would you like to look for?')\n",
    "    found_word = find_word(words, search_word)\n",
    "    print(found_word)\n",
    "    grn_gls_door = [word.lower() for word in words if green_glass_door(word) and True == 1]\n",
    "    c = Counter(grn_gls_door)\n",
    "    print(c.most_common)\n",
    "    text_without_char, length_of_chap = get_chapter_without_char(lines, 7, 8, ' ')\n",
    "    print(length_of_chap, text_without_char)\n",
    "    \n",
    "    text_without_char, length_of_chap = get_chapter_without_char(lines, 7, 8)\n",
    "    print(length_of_chap, text_without_char)\n",
    "    \n",
    "main() "
   ]
  }
 ],
 "metadata": {
  "kernelspec": {
   "display_name": "Python 3",
   "language": "python",
   "name": "python3"
  },
  "language_info": {
   "codemirror_mode": {
    "name": "ipython",
    "version": 3
   },
   "file_extension": ".py",
   "mimetype": "text/x-python",
   "name": "python",
   "nbconvert_exporter": "python",
   "pygments_lexer": "ipython3",
   "version": "3.7.0"
  }
 },
 "nbformat": 4,
 "nbformat_minor": 2
}
