{
 "cells": [
  {
   "cell_type": "markdown",
   "metadata": {},
   "source": [
    "# **1984**"
   ]
  },
  {
   "cell_type": "markdown",
   "metadata": {},
   "source": [
    "# Import Statements"
   ]
  },
  {
   "cell_type": "markdown",
   "metadata": {},
   "source": [
    "import statements maps to:\n",
    "1. convert from one data type to another\n",
    "1. construct data structures\n",
    "1. perform indexing and slicing operations ([ : ])\n",
    "1. assignment (=)"
   ]
  },
  {
   "cell_type": "code",
   "execution_count": 43,
   "metadata": {},
   "outputs": [],
   "source": [
    "import requests\n",
    "import re\n",
    "from copy import copy\n",
    "content = requests.get('http://gutenberg.net.au/ebooks01/0100021.txt')\n",
    "pos = content.text.find('PART ONE')\n",
    "# chapter2_pos = content.text.find('CHAPTER 7')\n",
    "# print(pos)\n",
    "text = content.text[pos:]"
   ]
  },
  {
   "cell_type": "markdown",
   "metadata": {},
   "source": [
    "# Green Glass Door"
   ]
  },
  {
   "cell_type": "markdown",
   "metadata": {},
   "source": [
    "green_glass_door() maps to:\n",
    "1. bool\n",
    "1. perform indexing and slicing operations ([ ] and [ : ])\n",
    "1. if statement\n",
    "1. for loop/statement\n",
    "1. nested conditional expressions???\n",
    "1. def statement\n",
    "1. return statement\n",
    "1. parameters and arguments"
   ]
  },
  {
   "cell_type": "code",
   "execution_count": 22,
   "metadata": {},
   "outputs": [],
   "source": [
    "def green_glass_door(word):\n",
    "    for i, letter in enumerate(word[1:]):\n",
    "        if letter.lower() == word[i].lower():\n",
    "            return True\n",
    "    return False\n",
    "\n",
    "# def green_glass_door_2(word):\n",
    "#     last_letter = ''\n",
    "#     for letter in word:\n",
    "#         if letter == last_letter:\n",
    "#             return True\n",
    "# #         print(letter, last_letter)\n",
    "#         last_letter = letter\n",
    "#     return False"
   ]
  },
  {
   "cell_type": "markdown",
   "metadata": {},
   "source": [
    "# Sum of Chapters"
   ]
  },
  {
   "cell_type": "markdown",
   "metadata": {},
   "source": [
    "sum_of_chapters() maps to:\n",
    "1. int\n",
    "1. convert from one data type to another\n",
    "1. perform indexing and slicing operations ([ ] and [ : ])\n",
    "1. assignment (=)\n",
    "1. logical (and)\n",
    "1. arithmetic (+)\n",
    "1. if statement\n",
    "1. nested conditional expressions\n",
    "1. for loop/statement\n",
    "1. def statement\n",
    "1. return statement"
   ]
  },
  {
   "cell_type": "code",
   "execution_count": 23,
   "metadata": {},
   "outputs": [],
   "source": [
    "def sum_of_chapters(lines):\n",
    "    chapter_nums = 0\n",
    "    for line in lines:\n",
    "        if line[:7] == 'Chapter' and line[8:].isdigit():\n",
    "            new_line = line.split(' ')\n",
    "            chapter_nums += int(new_line[1])\n",
    "#     print('The sum of the chapter numbers is ', chapter_nums, '.', sep='')\n",
    "    return chapter_nums"
   ]
  },
  {
   "cell_type": "markdown",
   "metadata": {},
   "source": [
    "# Number of Chapters"
   ]
  },
  {
   "cell_type": "markdown",
   "metadata": {},
   "source": [
    "num_of_chapters() maps to:\n",
    "1. int\n",
    "1. convert from one data type to another\n",
    "1. perform indexing and slicing operations ([ ] and [ : ])\n",
    "1. assignment (=)\n",
    "1. logical (and)\n",
    "1. arithmetic (+)\n",
    "1. if statement\n",
    "1. nested conditional expressions\n",
    "1. for loop/statement\n",
    "1. def statement\n",
    "1. return statement"
   ]
  },
  {
   "cell_type": "code",
   "execution_count": 24,
   "metadata": {},
   "outputs": [],
   "source": [
    "def num_of_chapters(lines):\n",
    "    number_of_chapters = 0\n",
    "    for line in lines:\n",
    "        if line[:7] == 'Chapter' and line[8:].isdigit():\n",
    "            number_of_chapters += 1\n",
    "    return number_of_chapters"
   ]
  },
  {
   "cell_type": "markdown",
   "metadata": {},
   "source": [
    "# Word Finder"
   ]
  },
  {
   "cell_type": "markdown",
   "metadata": {},
   "source": [
    "word_finder() maps to:\n",
    "1. int\n",
    "1. assignment (=)\n",
    "1. arithmetic (+)\n",
    "1. if statement\n",
    "1. nested conditional expressions\n",
    "1. for loop/statement\n",
    "1. def statement\n",
    "1. return statement\n",
    "1. parameters and arguments"
   ]
  },
  {
   "cell_type": "code",
   "execution_count": 25,
   "metadata": {},
   "outputs": [],
   "source": [
    "def word_finder(search_word, words):\n",
    "    num_of_word = 0\n",
    "    for word in words:\n",
    "        if search_word.upper() == word.upper():\n",
    "            num_of_word += 1\n",
    "        \n",
    "    return num_of_word"
   ]
  },
  {
   "cell_type": "markdown",
   "metadata": {},
   "source": [
    "# No Vowels"
   ]
  },
  {
   "cell_type": "code",
   "execution_count": 26,
   "metadata": {},
   "outputs": [],
   "source": [
    "# def no_vowels(lines, start_chap, end_chap, vowels = 'aeiou'):\n",
    "#     words_no_characters = []\n",
    "#     variable = False\n",
    "#     for line in lines:\n",
    "#         if (f'Chapter {start_chap}') in line:\n",
    "#             print('I did it!')\n",
    "            \n",
    "#         elif (f'Chapter {end_chap}') in line:\n",
    "#             print('Yay!! We found them both!!!')\n",
    "#             variable = True\n",
    "#             break\n",
    "            \n",
    "#     if variable:\n",
    "#         for word in line.split():\n",
    "#             words_no_characters.append(re.sub(f'({vowels})', '', word, flags = re.IGNORECASE))\n",
    "#     else:\n",
    "#         pass\n",
    "    \n",
    "#     print(words_no_characters)\n",
    "#     return words_no_characters\n",
    "    \n",
    "def no_vowels():    \n",
    "    vowels = ['a', 'e', 'i', 'o', 'u']\n",
    "    words_no_vowels = []\n",
    "    for word in words:\n",
    "        word.lower()\n",
    "        no_vowel = ''\n",
    "        for letter in word:\n",
    "            if letter not in vowels:\n",
    "                no_vowel += letter\n",
    "            elif letter in vowels:\n",
    "                pass\n",
    "        words_no_vowels.append(no_vowel)\n",
    "        \n",
    "    return words_no_vowels"
   ]
  },
  {
   "cell_type": "code",
   "execution_count": 42,
   "metadata": {},
   "outputs": [
    {
     "ename": "SyntaxError",
     "evalue": "can't assign to function call (<ipython-input-42-c3b56a9a1431>, line 3)",
     "output_type": "error",
     "traceback": [
      "\u001b[1;36m  File \u001b[1;32m\"<ipython-input-42-c3b56a9a1431>\"\u001b[1;36m, line \u001b[1;32m3\u001b[0m\n\u001b[1;33m    for word.lower() in words:\u001b[0m\n\u001b[1;37m       ^\u001b[0m\n\u001b[1;31mSyntaxError\u001b[0m\u001b[1;31m:\u001b[0m can't assign to function call\n"
     ]
    }
   ],
   "source": [
    "def anagram_finder(my_word, words):\n",
    "    occ_of_my_word = []\n",
    "    for word.lower() in words:\n",
    "        if word == my_word:\n",
    "            occ_of_my_word.append(word)\n",
    "        elif len(word) > len(the_word):\n",
    "            words.remove(word)\n",
    "            \n",
    "    return occ_of_my_word     "
   ]
  },
  {
   "cell_type": "markdown",
   "metadata": {},
   "source": [
    "# main() Function"
   ]
  },
  {
   "cell_type": "markdown",
   "metadata": {},
   "source": [
    "main() maps to:\n",
    "1. list\n",
    "1. (perform indexing and slicing operations ([:]))\n",
    "1. assignment (=)\n",
    "1. containment (in)\n",
    "1. for loop/statement\n",
    "1. Properly format and document code using the following:\n",
    "    1. indentation ??\n",
    "    1. white space\n",
    "1. def statement\n",
    "1. return statement\n",
    "1. nested conditional expressions\n",
    "1. if... else...."
   ]
  },
  {
   "cell_type": "code",
   "execution_count": 28,
   "metadata": {},
   "outputs": [
    {
     "name": "stdout",
     "output_type": "stream",
     "text": [
      "['thirteen', 'nuzzled', 'effort', 'slipped', 'glass', 'doors', 'gritty', 'hallway', 'cabbage', 'too', 'indoor', 'been', 'wall', 'ruggedly', 'current', 'off', 'Week', 'opposite', 'follow', 'dulled', 'mirror', 'still', 'telescreen', 'called', 'dimmed', 'shutting', 'smallish', 'meagreness', 'overalls', 'naturally', 'looked', 'street', 'little', 'eddies', 'seemed', 'commanding', 'immediately', 'deep', 'flapped', 'fitfully', 'skimmed', 'between', 'roofs', 'bluebottle', 'snooping', 'matter', 'mattered', 'babbling', 'Three', 'transmitted', 'commanded', 'seen', 'well', 'plugged', 'guesswork', 'all', 'assumption', 'darkness', 'squeeze', 'childhood', 'tell', 'rotting', 'nineteenth', 'corrugated', 'walls', 'sagging', 'willow', 'straggled', 'rubble', 'wooden', 'dwellings', 'occurring', 'unintelligible', 'official', 'account', 'see', 'Appendix', 'different', 'glittering', 'terrace', '300', 'stood', 'possible', 'lettering', 'three', 'FREEDOM', 'rooms', 'corresponding', 'Scattered', 'appearance', 'surrounding', 'roof', 'apparatus', 'affairs', 'really', 'impossible', 'business', 'steel', 'hidden', 'streets']\n",
      "There are 100 words in ggd_words.\n",
      "The sum of the chapter numbers is 102.\n",
      "There are 23 chapters in 1984.\n"
     ]
    },
    {
     "name": "stdin",
     "output_type": "stream",
     "text": [
      "What word would you like to look for? theheheheheh\n"
     ]
    },
    {
     "name": "stdout",
     "output_type": "stream",
     "text": [
      "'theheheheheh' appears 0 times.\n"
     ]
    },
    {
     "name": "stdin",
     "output_type": "stream",
     "text": [
      "What is your word? fhgdjg\n"
     ]
    },
    {
     "ename": "NameError",
     "evalue": "name 'anagram_finder' is not defined",
     "output_type": "error",
     "traceback": [
      "\u001b[1;31m---------------------------------------------------------------------------\u001b[0m",
      "\u001b[1;31mNameError\u001b[0m                                 Traceback (most recent call last)",
      "\u001b[1;32m<ipython-input-28-26bceb738abb>\u001b[0m in \u001b[0;36m<module>\u001b[1;34m()\u001b[0m\n\u001b[0;32m     30\u001b[0m     \u001b[0mprint\u001b[0m\u001b[1;33m(\u001b[0m\u001b[0mthing\u001b[0m\u001b[1;33m)\u001b[0m\u001b[1;33m\u001b[0m\u001b[0m\n\u001b[0;32m     31\u001b[0m \u001b[1;33m\u001b[0m\u001b[0m\n\u001b[1;32m---> 32\u001b[1;33m \u001b[0mmain\u001b[0m\u001b[1;33m(\u001b[0m\u001b[1;33m)\u001b[0m\u001b[1;33m\u001b[0m\u001b[0m\n\u001b[0m",
      "\u001b[1;32m<ipython-input-28-26bceb738abb>\u001b[0m in \u001b[0;36mmain\u001b[1;34m()\u001b[0m\n\u001b[0;32m     27\u001b[0m \u001b[1;33m\u001b[0m\u001b[0m\n\u001b[0;32m     28\u001b[0m     \u001b[0mthe_word\u001b[0m \u001b[1;33m=\u001b[0m \u001b[0minput\u001b[0m\u001b[1;33m(\u001b[0m\u001b[1;34m'What is your word?'\u001b[0m\u001b[1;33m)\u001b[0m\u001b[1;33m\u001b[0m\u001b[0m\n\u001b[1;32m---> 29\u001b[1;33m     \u001b[0mthing\u001b[0m \u001b[1;33m=\u001b[0m \u001b[0managram_finder\u001b[0m\u001b[1;33m(\u001b[0m\u001b[0mthe_word\u001b[0m\u001b[1;33m,\u001b[0m \u001b[0mwords\u001b[0m\u001b[1;33m)\u001b[0m\u001b[1;33m\u001b[0m\u001b[0m\n\u001b[0m\u001b[0;32m     30\u001b[0m     \u001b[0mprint\u001b[0m\u001b[1;33m(\u001b[0m\u001b[0mthing\u001b[0m\u001b[1;33m)\u001b[0m\u001b[1;33m\u001b[0m\u001b[0m\n\u001b[0;32m     31\u001b[0m \u001b[1;33m\u001b[0m\u001b[0m\n",
      "\u001b[1;31mNameError\u001b[0m: name 'anagram_finder' is not defined"
     ]
    }
   ],
   "source": [
    "def main():\n",
    "    words = re.split(\"[^\\w']+\", text)\n",
    "    lines = text.splitlines()\n",
    "    ggd_words = []\n",
    "    for word in words:\n",
    "        if green_glass_door(word):\n",
    "            if word in ggd_words:\n",
    "                pass\n",
    "            else:\n",
    "                ggd_words.append(word)\n",
    "                \n",
    "    print(ggd_words[:100]) #first 100 words\n",
    "    print('There are', len(ggd_words[:100]), 'words in ggd_words.')\n",
    "    \n",
    "    sum = sum_of_chapters(lines)\n",
    "    print('The sum of the chapter numbers is ', sum, '.', sep='')\n",
    "    \n",
    "    num = num_of_chapters(lines)\n",
    "    print('There are ', num, ' chapters in 1984.', sep='')\n",
    "    search_word = input('What word would you like to look for?')\n",
    "    \n",
    "    results = word_finder(search_word, words)\n",
    "    print('\\'', search_word, '\\'', ' appears ', results, ' times.', sep='')\n",
    "    \n",
    "#     yeah = no_nowels()\n",
    "#     print(yeah)\n",
    "    \n",
    "    the_word = input('What is your word?')\n",
    "    thing = anagram_finder(the_word, words)\n",
    "    print(thing)\n",
    "    \n",
    "main()"
   ]
  }
 ],
 "metadata": {
  "kernelspec": {
   "display_name": "Python 3",
   "language": "python",
   "name": "python3"
  },
  "language_info": {
   "codemirror_mode": {
    "name": "ipython",
    "version": 3
   },
   "file_extension": ".py",
   "mimetype": "text/x-python",
   "name": "python",
   "nbconvert_exporter": "python",
   "pygments_lexer": "ipython3",
   "version": "3.7.0"
  }
 },
 "nbformat": 4,
 "nbformat_minor": 2
}
